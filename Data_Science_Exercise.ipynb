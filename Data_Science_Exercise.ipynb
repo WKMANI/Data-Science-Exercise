{
  "cells": [
    {
      "cell_type": "markdown",
      "metadata": {
        "id": "view-in-github",
        "colab_type": "text"
      },
      "source": [
        "<a href=\"https://colab.research.google.com/github/WKMANI/Data-Science-Exercise/blob/main/Data_Science_Exercise.ipynb\" target=\"_parent\"><img src=\"https://colab.research.google.com/assets/colab-badge.svg\" alt=\"Open In Colab\"/></a>"
      ]
    },
    {
      "cell_type": "markdown",
      "metadata": {
        "id": "sAbSDgcaxGxd"
      },
      "source": [
        "## Importing and loading required Libraries"
      ]
    },
    {
      "cell_type": "code",
      "execution_count": null,
      "metadata": {
        "id": "oQmjEiQSxGxg"
      },
      "outputs": [],
      "source": [
        "# Regular EDA and plotting libraries\n",
        "import numpy as np\n",
        "import pandas as pd\n",
        "import matplotlib.pyplot as plt\n",
        "import seaborn as sns\n",
        "%matplotlib inline\n",
        "\n",
        "# Models from scikit learn\n",
        "from sklearn.linear_model import LogisticRegression\n",
        "from sklearn.neighbors import KNeighborsClassifier\n",
        "from sklearn.ensemble import RandomForestClassifier\n",
        "\n",
        "# Model Evaluators\n",
        "from sklearn.model_selection import train_test_split, cross_val_score\n",
        "from sklearn.model_selection import RandomizedSearchCV, GridSearchCV\n",
        "from sklearn.metrics import confusion_matrix, classification_report\n",
        "from sklearn.metrics import precision_score, recall_score,f1_score\n",
        "from sklearn.metrics import plot_roc_curve"
      ]
    },
    {
      "cell_type": "markdown",
      "metadata": {
        "id": "nqJ-qmSCxGxi"
      },
      "source": [
        "## Load data"
      ]
    },
    {
      "cell_type": "code",
      "execution_count": null,
      "metadata": {
        "id": "HmCxhFAcxGxi",
        "outputId": "f45c1503-702f-4c2c-e312-2a4af6951eaa"
      },
      "outputs": [
        {
          "name": "stderr",
          "output_type": "stream",
          "text": [
            "/home/kimani/anaconda3/lib/python3.8/site-packages/IPython/core/interactiveshell.py:3146: DtypeWarning: Columns (22,23,24,25,26,27,28,29,30,31,33,34,35,36,39) have mixed types.Specify dtype option on import or set low_memory=False.\n",
            "  has_raised = await self.run_ast_nodes(code_ast.body, cell_name,\n"
          ]
        },
        {
          "data": {
            "text/html": [
              "<div>\n",
              "<style scoped>\n",
              "    .dataframe tbody tr th:only-of-type {\n",
              "        vertical-align: middle;\n",
              "    }\n",
              "\n",
              "    .dataframe tbody tr th {\n",
              "        vertical-align: top;\n",
              "    }\n",
              "\n",
              "    .dataframe thead th {\n",
              "        text-align: right;\n",
              "    }\n",
              "</style>\n",
              "<table border=\"1\" class=\"dataframe\">\n",
              "  <thead>\n",
              "    <tr style=\"text-align: right;\">\n",
              "      <th></th>\n",
              "      <th>DimSeasonID</th>\n",
              "      <th>CountryName</th>\n",
              "      <th>SeasonName</th>\n",
              "      <th>Facilitator</th>\n",
              "      <th>DimClientID</th>\n",
              "      <th>DimGroupID</th>\n",
              "      <th>DimSiteID</th>\n",
              "      <th>DimDistrictID</th>\n",
              "      <th>TotalCredit</th>\n",
              "      <th>OperationalYear</th>\n",
              "      <th>...</th>\n",
              "      <th>NumberUndeliveredInput</th>\n",
              "      <th>NumberDeliveredInput</th>\n",
              "      <th>Active</th>\n",
              "      <th>DaysToSeasonEnd</th>\n",
              "      <th>Repaid</th>\n",
              "      <th>MaximumPaymentAmount</th>\n",
              "      <th>AveragePaymentAmount</th>\n",
              "      <th>TotalPaid</th>\n",
              "      <th>PercentagePaid</th>\n",
              "      <th>DistinctRepaymentPhoneNumbers</th>\n",
              "    </tr>\n",
              "  </thead>\n",
              "  <tbody>\n",
              "    <tr>\n",
              "      <th>0</th>\n",
              "      <td>13</td>\n",
              "      <td>Kenya</td>\n",
              "      <td>2017, Long Rain</td>\n",
              "      <td>False</td>\n",
              "      <td>487378</td>\n",
              "      <td>78077</td>\n",
              "      <td>2591</td>\n",
              "      <td>45</td>\n",
              "      <td>7675.0</td>\n",
              "      <td>2017</td>\n",
              "      <td>...</td>\n",
              "      <td>0.0</td>\n",
              "      <td>9.0</td>\n",
              "      <td>False</td>\n",
              "      <td>132.0</td>\n",
              "      <td>True</td>\n",
              "      <td>600.0</td>\n",
              "      <td>313.636364</td>\n",
              "      <td>3450.0</td>\n",
              "      <td>0.449511</td>\n",
              "      <td>1.0</td>\n",
              "    </tr>\n",
              "    <tr>\n",
              "      <th>1</th>\n",
              "      <td>13</td>\n",
              "      <td>Kenya</td>\n",
              "      <td>2017, Long Rain</td>\n",
              "      <td>False</td>\n",
              "      <td>1458872</td>\n",
              "      <td>172732</td>\n",
              "      <td>5556</td>\n",
              "      <td>99</td>\n",
              "      <td>6185.0</td>\n",
              "      <td>2017</td>\n",
              "      <td>...</td>\n",
              "      <td>0.0</td>\n",
              "      <td>6.0</td>\n",
              "      <td>False</td>\n",
              "      <td>132.0</td>\n",
              "      <td>True</td>\n",
              "      <td>250.0</td>\n",
              "      <td>142.500000</td>\n",
              "      <td>2280.0</td>\n",
              "      <td>0.368634</td>\n",
              "      <td>1.0</td>\n",
              "    </tr>\n",
              "    <tr>\n",
              "      <th>2</th>\n",
              "      <td>13</td>\n",
              "      <td>Kenya</td>\n",
              "      <td>2017, Long Rain</td>\n",
              "      <td>False</td>\n",
              "      <td>1482338</td>\n",
              "      <td>133995</td>\n",
              "      <td>4497</td>\n",
              "      <td>78</td>\n",
              "      <td>6185.0</td>\n",
              "      <td>2017</td>\n",
              "      <td>...</td>\n",
              "      <td>0.0</td>\n",
              "      <td>6.0</td>\n",
              "      <td>False</td>\n",
              "      <td>132.0</td>\n",
              "      <td>True</td>\n",
              "      <td>1000.0</td>\n",
              "      <td>670.600000</td>\n",
              "      <td>3353.0</td>\n",
              "      <td>0.542118</td>\n",
              "      <td>1.0</td>\n",
              "    </tr>\n",
              "    <tr>\n",
              "      <th>3</th>\n",
              "      <td>13</td>\n",
              "      <td>Kenya</td>\n",
              "      <td>2017, Long Rain</td>\n",
              "      <td>False</td>\n",
              "      <td>902050</td>\n",
              "      <td>183680</td>\n",
              "      <td>5965</td>\n",
              "      <td>107</td>\n",
              "      <td>14175.0</td>\n",
              "      <td>2017</td>\n",
              "      <td>...</td>\n",
              "      <td>0.0</td>\n",
              "      <td>9.0</td>\n",
              "      <td>False</td>\n",
              "      <td>132.0</td>\n",
              "      <td>True</td>\n",
              "      <td>2400.0</td>\n",
              "      <td>1112.500000</td>\n",
              "      <td>8900.0</td>\n",
              "      <td>0.627866</td>\n",
              "      <td>2.0</td>\n",
              "    </tr>\n",
              "    <tr>\n",
              "      <th>4</th>\n",
              "      <td>13</td>\n",
              "      <td>Kenya</td>\n",
              "      <td>2017, Long Rain</td>\n",
              "      <td>False</td>\n",
              "      <td>3196771</td>\n",
              "      <td>115056</td>\n",
              "      <td>3934</td>\n",
              "      <td>64</td>\n",
              "      <td>16470.0</td>\n",
              "      <td>2017</td>\n",
              "      <td>...</td>\n",
              "      <td>0.0</td>\n",
              "      <td>12.0</td>\n",
              "      <td>False</td>\n",
              "      <td>132.0</td>\n",
              "      <td>True</td>\n",
              "      <td>1500.0</td>\n",
              "      <td>392.941176</td>\n",
              "      <td>6680.0</td>\n",
              "      <td>0.405586</td>\n",
              "      <td>1.0</td>\n",
              "    </tr>\n",
              "    <tr>\n",
              "      <th>...</th>\n",
              "      <td>...</td>\n",
              "      <td>...</td>\n",
              "      <td>...</td>\n",
              "      <td>...</td>\n",
              "      <td>...</td>\n",
              "      <td>...</td>\n",
              "      <td>...</td>\n",
              "      <td>...</td>\n",
              "      <td>...</td>\n",
              "      <td>...</td>\n",
              "      <td>...</td>\n",
              "      <td>...</td>\n",
              "      <td>...</td>\n",
              "      <td>...</td>\n",
              "      <td>...</td>\n",
              "      <td>...</td>\n",
              "      <td>...</td>\n",
              "      <td>...</td>\n",
              "      <td>...</td>\n",
              "      <td>...</td>\n",
              "      <td>...</td>\n",
              "    </tr>\n",
              "    <tr>\n",
              "      <th>2133609</th>\n",
              "      <td>13</td>\n",
              "      <td>Kenya</td>\n",
              "      <td>2017, Long Rain</td>\n",
              "      <td>False</td>\n",
              "      <td>3675402</td>\n",
              "      <td>78090</td>\n",
              "      <td>2591</td>\n",
              "      <td>45</td>\n",
              "      <td>4470.0</td>\n",
              "      <td>2017</td>\n",
              "      <td>...</td>\n",
              "      <td>0.0</td>\n",
              "      <td>8.0</td>\n",
              "      <td>False</td>\n",
              "      <td>132.0</td>\n",
              "      <td>True</td>\n",
              "      <td>700.0</td>\n",
              "      <td>385.714286</td>\n",
              "      <td>2700.0</td>\n",
              "      <td>0.604027</td>\n",
              "      <td>1.0</td>\n",
              "    </tr>\n",
              "    <tr>\n",
              "      <th>2133610</th>\n",
              "      <td>13</td>\n",
              "      <td>Kenya</td>\n",
              "      <td>2017, Long Rain</td>\n",
              "      <td>False</td>\n",
              "      <td>3075911</td>\n",
              "      <td>78090</td>\n",
              "      <td>2591</td>\n",
              "      <td>45</td>\n",
              "      <td>8975.0</td>\n",
              "      <td>2017</td>\n",
              "      <td>...</td>\n",
              "      <td>0.0</td>\n",
              "      <td>10.0</td>\n",
              "      <td>False</td>\n",
              "      <td>132.0</td>\n",
              "      <td>True</td>\n",
              "      <td>1000.0</td>\n",
              "      <td>460.000000</td>\n",
              "      <td>5060.0</td>\n",
              "      <td>0.563788</td>\n",
              "      <td>1.0</td>\n",
              "    </tr>\n",
              "    <tr>\n",
              "      <th>2133611</th>\n",
              "      <td>13</td>\n",
              "      <td>Kenya</td>\n",
              "      <td>2017, Long Rain</td>\n",
              "      <td>False</td>\n",
              "      <td>1655005</td>\n",
              "      <td>84234</td>\n",
              "      <td>3014</td>\n",
              "      <td>49</td>\n",
              "      <td>6185.0</td>\n",
              "      <td>2017</td>\n",
              "      <td>...</td>\n",
              "      <td>0.0</td>\n",
              "      <td>6.0</td>\n",
              "      <td>False</td>\n",
              "      <td>132.0</td>\n",
              "      <td>True</td>\n",
              "      <td>500.0</td>\n",
              "      <td>425.000000</td>\n",
              "      <td>1700.0</td>\n",
              "      <td>0.274859</td>\n",
              "      <td>1.0</td>\n",
              "    </tr>\n",
              "    <tr>\n",
              "      <th>2133612</th>\n",
              "      <td>13</td>\n",
              "      <td>Kenya</td>\n",
              "      <td>2017, Long Rain</td>\n",
              "      <td>False</td>\n",
              "      <td>1523154</td>\n",
              "      <td>78090</td>\n",
              "      <td>2591</td>\n",
              "      <td>45</td>\n",
              "      <td>9575.0</td>\n",
              "      <td>2017</td>\n",
              "      <td>...</td>\n",
              "      <td>0.0</td>\n",
              "      <td>9.0</td>\n",
              "      <td>False</td>\n",
              "      <td>132.0</td>\n",
              "      <td>True</td>\n",
              "      <td>1075.0</td>\n",
              "      <td>463.461538</td>\n",
              "      <td>6025.0</td>\n",
              "      <td>0.629243</td>\n",
              "      <td>1.0</td>\n",
              "    </tr>\n",
              "    <tr>\n",
              "      <th>2133613</th>\n",
              "      <td>13</td>\n",
              "      <td>Kenya</td>\n",
              "      <td>2017, Long Rain</td>\n",
              "      <td>False</td>\n",
              "      <td>2146739</td>\n",
              "      <td>78090</td>\n",
              "      <td>2591</td>\n",
              "      <td>45</td>\n",
              "      <td>4975.0</td>\n",
              "      <td>2017</td>\n",
              "      <td>...</td>\n",
              "      <td>0.0</td>\n",
              "      <td>7.0</td>\n",
              "      <td>False</td>\n",
              "      <td>132.0</td>\n",
              "      <td>True</td>\n",
              "      <td>800.0</td>\n",
              "      <td>514.285714</td>\n",
              "      <td>3600.0</td>\n",
              "      <td>0.723618</td>\n",
              "      <td>1.0</td>\n",
              "    </tr>\n",
              "  </tbody>\n",
              "</table>\n",
              "<p>2133614 rows × 47 columns</p>\n",
              "</div>"
            ],
            "text/plain": [
              "         DimSeasonID CountryName       SeasonName  Facilitator  DimClientID  \\\n",
              "0                 13       Kenya  2017, Long Rain        False       487378   \n",
              "1                 13       Kenya  2017, Long Rain        False      1458872   \n",
              "2                 13       Kenya  2017, Long Rain        False      1482338   \n",
              "3                 13       Kenya  2017, Long Rain        False       902050   \n",
              "4                 13       Kenya  2017, Long Rain        False      3196771   \n",
              "...              ...         ...              ...          ...          ...   \n",
              "2133609           13       Kenya  2017, Long Rain        False      3675402   \n",
              "2133610           13       Kenya  2017, Long Rain        False      3075911   \n",
              "2133611           13       Kenya  2017, Long Rain        False      1655005   \n",
              "2133612           13       Kenya  2017, Long Rain        False      1523154   \n",
              "2133613           13       Kenya  2017, Long Rain        False      2146739   \n",
              "\n",
              "         DimGroupID  DimSiteID  DimDistrictID  TotalCredit  OperationalYear  \\\n",
              "0             78077       2591             45       7675.0             2017   \n",
              "1            172732       5556             99       6185.0             2017   \n",
              "2            133995       4497             78       6185.0             2017   \n",
              "3            183680       5965            107      14175.0             2017   \n",
              "4            115056       3934             64      16470.0             2017   \n",
              "...             ...        ...            ...          ...              ...   \n",
              "2133609       78090       2591             45       4470.0             2017   \n",
              "2133610       78090       2591             45       8975.0             2017   \n",
              "2133611       84234       3014             49       6185.0             2017   \n",
              "2133612       78090       2591             45       9575.0             2017   \n",
              "2133613       78090       2591             45       4975.0             2017   \n",
              "\n",
              "         ... NumberUndeliveredInput  NumberDeliveredInput  Active  \\\n",
              "0        ...                    0.0                   9.0   False   \n",
              "1        ...                    0.0                   6.0   False   \n",
              "2        ...                    0.0                   6.0   False   \n",
              "3        ...                    0.0                   9.0   False   \n",
              "4        ...                    0.0                  12.0   False   \n",
              "...      ...                    ...                   ...     ...   \n",
              "2133609  ...                    0.0                   8.0   False   \n",
              "2133610  ...                    0.0                  10.0   False   \n",
              "2133611  ...                    0.0                   6.0   False   \n",
              "2133612  ...                    0.0                   9.0   False   \n",
              "2133613  ...                    0.0                   7.0   False   \n",
              "\n",
              "         DaysToSeasonEnd  Repaid  MaximumPaymentAmount  AveragePaymentAmount  \\\n",
              "0                  132.0    True                 600.0            313.636364   \n",
              "1                  132.0    True                 250.0            142.500000   \n",
              "2                  132.0    True                1000.0            670.600000   \n",
              "3                  132.0    True                2400.0           1112.500000   \n",
              "4                  132.0    True                1500.0            392.941176   \n",
              "...                  ...     ...                   ...                   ...   \n",
              "2133609            132.0    True                 700.0            385.714286   \n",
              "2133610            132.0    True                1000.0            460.000000   \n",
              "2133611            132.0    True                 500.0            425.000000   \n",
              "2133612            132.0    True                1075.0            463.461538   \n",
              "2133613            132.0    True                 800.0            514.285714   \n",
              "\n",
              "         TotalPaid  PercentagePaid  DistinctRepaymentPhoneNumbers  \n",
              "0           3450.0        0.449511                            1.0  \n",
              "1           2280.0        0.368634                            1.0  \n",
              "2           3353.0        0.542118                            1.0  \n",
              "3           8900.0        0.627866                            2.0  \n",
              "4           6680.0        0.405586                            1.0  \n",
              "...            ...             ...                            ...  \n",
              "2133609     2700.0        0.604027                            1.0  \n",
              "2133610     5060.0        0.563788                            1.0  \n",
              "2133611     1700.0        0.274859                            1.0  \n",
              "2133612     6025.0        0.629243                            1.0  \n",
              "2133613     3600.0        0.723618                            1.0  \n",
              "\n",
              "[2133614 rows x 47 columns]"
            ]
          },
          "execution_count": 2,
          "metadata": {},
          "output_type": "execute_result"
        }
      ],
      "source": [
        "oaf = pd.read_csv('PostR1Dataset_joined_filtered_prepared.csv')\n",
        "oaf"
      ]
    },
    {
      "cell_type": "code",
      "execution_count": null,
      "metadata": {
        "id": "xYD_EUGZxGxj",
        "outputId": "92cbce03-cd4d-4bf5-ebf0-6a120e55a638"
      },
      "outputs": [
        {
          "data": {
            "text/plain": [
              "(2133614, 47)"
            ]
          },
          "execution_count": 4,
          "metadata": {},
          "output_type": "execute_result"
        }
      ],
      "source": [
        "# Getting the number of columns and rows of the dataframe\n",
        "oaf.shape"
      ]
    },
    {
      "cell_type": "markdown",
      "metadata": {
        "id": "z5gJ0UdLxGxj"
      },
      "source": [
        "## Exploratory Data Analysis"
      ]
    },
    {
      "cell_type": "code",
      "execution_count": null,
      "metadata": {
        "id": "fL96bicWxGxk",
        "outputId": "b22939cd-b570-4227-ad1c-583951531100"
      },
      "outputs": [
        {
          "data": {
            "text/html": [
              "<div>\n",
              "<style scoped>\n",
              "    .dataframe tbody tr th:only-of-type {\n",
              "        vertical-align: middle;\n",
              "    }\n",
              "\n",
              "    .dataframe tbody tr th {\n",
              "        vertical-align: top;\n",
              "    }\n",
              "\n",
              "    .dataframe thead th {\n",
              "        text-align: right;\n",
              "    }\n",
              "</style>\n",
              "<table border=\"1\" class=\"dataframe\">\n",
              "  <thead>\n",
              "    <tr style=\"text-align: right;\">\n",
              "      <th></th>\n",
              "      <th>DimSeasonID</th>\n",
              "      <th>CountryName</th>\n",
              "      <th>SeasonName</th>\n",
              "      <th>Facilitator</th>\n",
              "      <th>DimClientID</th>\n",
              "      <th>DimGroupID</th>\n",
              "      <th>DimSiteID</th>\n",
              "      <th>DimDistrictID</th>\n",
              "      <th>TotalCredit</th>\n",
              "      <th>OperationalYear</th>\n",
              "      <th>...</th>\n",
              "      <th>NumberUndeliveredInput</th>\n",
              "      <th>NumberDeliveredInput</th>\n",
              "      <th>Active</th>\n",
              "      <th>DaysToSeasonEnd</th>\n",
              "      <th>Repaid</th>\n",
              "      <th>MaximumPaymentAmount</th>\n",
              "      <th>AveragePaymentAmount</th>\n",
              "      <th>TotalPaid</th>\n",
              "      <th>PercentagePaid</th>\n",
              "      <th>DistinctRepaymentPhoneNumbers</th>\n",
              "    </tr>\n",
              "  </thead>\n",
              "  <tbody>\n",
              "    <tr>\n",
              "      <th>2133609</th>\n",
              "      <td>13</td>\n",
              "      <td>Kenya</td>\n",
              "      <td>2017, Long Rain</td>\n",
              "      <td>False</td>\n",
              "      <td>3675402</td>\n",
              "      <td>78090</td>\n",
              "      <td>2591</td>\n",
              "      <td>45</td>\n",
              "      <td>4470.0</td>\n",
              "      <td>2017</td>\n",
              "      <td>...</td>\n",
              "      <td>0.0</td>\n",
              "      <td>8.0</td>\n",
              "      <td>False</td>\n",
              "      <td>132.0</td>\n",
              "      <td>True</td>\n",
              "      <td>700.0</td>\n",
              "      <td>385.714286</td>\n",
              "      <td>2700.0</td>\n",
              "      <td>0.604027</td>\n",
              "      <td>1.0</td>\n",
              "    </tr>\n",
              "    <tr>\n",
              "      <th>2133610</th>\n",
              "      <td>13</td>\n",
              "      <td>Kenya</td>\n",
              "      <td>2017, Long Rain</td>\n",
              "      <td>False</td>\n",
              "      <td>3075911</td>\n",
              "      <td>78090</td>\n",
              "      <td>2591</td>\n",
              "      <td>45</td>\n",
              "      <td>8975.0</td>\n",
              "      <td>2017</td>\n",
              "      <td>...</td>\n",
              "      <td>0.0</td>\n",
              "      <td>10.0</td>\n",
              "      <td>False</td>\n",
              "      <td>132.0</td>\n",
              "      <td>True</td>\n",
              "      <td>1000.0</td>\n",
              "      <td>460.000000</td>\n",
              "      <td>5060.0</td>\n",
              "      <td>0.563788</td>\n",
              "      <td>1.0</td>\n",
              "    </tr>\n",
              "    <tr>\n",
              "      <th>2133611</th>\n",
              "      <td>13</td>\n",
              "      <td>Kenya</td>\n",
              "      <td>2017, Long Rain</td>\n",
              "      <td>False</td>\n",
              "      <td>1655005</td>\n",
              "      <td>84234</td>\n",
              "      <td>3014</td>\n",
              "      <td>49</td>\n",
              "      <td>6185.0</td>\n",
              "      <td>2017</td>\n",
              "      <td>...</td>\n",
              "      <td>0.0</td>\n",
              "      <td>6.0</td>\n",
              "      <td>False</td>\n",
              "      <td>132.0</td>\n",
              "      <td>True</td>\n",
              "      <td>500.0</td>\n",
              "      <td>425.000000</td>\n",
              "      <td>1700.0</td>\n",
              "      <td>0.274859</td>\n",
              "      <td>1.0</td>\n",
              "    </tr>\n",
              "    <tr>\n",
              "      <th>2133612</th>\n",
              "      <td>13</td>\n",
              "      <td>Kenya</td>\n",
              "      <td>2017, Long Rain</td>\n",
              "      <td>False</td>\n",
              "      <td>1523154</td>\n",
              "      <td>78090</td>\n",
              "      <td>2591</td>\n",
              "      <td>45</td>\n",
              "      <td>9575.0</td>\n",
              "      <td>2017</td>\n",
              "      <td>...</td>\n",
              "      <td>0.0</td>\n",
              "      <td>9.0</td>\n",
              "      <td>False</td>\n",
              "      <td>132.0</td>\n",
              "      <td>True</td>\n",
              "      <td>1075.0</td>\n",
              "      <td>463.461538</td>\n",
              "      <td>6025.0</td>\n",
              "      <td>0.629243</td>\n",
              "      <td>1.0</td>\n",
              "    </tr>\n",
              "    <tr>\n",
              "      <th>2133613</th>\n",
              "      <td>13</td>\n",
              "      <td>Kenya</td>\n",
              "      <td>2017, Long Rain</td>\n",
              "      <td>False</td>\n",
              "      <td>2146739</td>\n",
              "      <td>78090</td>\n",
              "      <td>2591</td>\n",
              "      <td>45</td>\n",
              "      <td>4975.0</td>\n",
              "      <td>2017</td>\n",
              "      <td>...</td>\n",
              "      <td>0.0</td>\n",
              "      <td>7.0</td>\n",
              "      <td>False</td>\n",
              "      <td>132.0</td>\n",
              "      <td>True</td>\n",
              "      <td>800.0</td>\n",
              "      <td>514.285714</td>\n",
              "      <td>3600.0</td>\n",
              "      <td>0.723618</td>\n",
              "      <td>1.0</td>\n",
              "    </tr>\n",
              "  </tbody>\n",
              "</table>\n",
              "<p>5 rows × 47 columns</p>\n",
              "</div>"
            ],
            "text/plain": [
              "         DimSeasonID CountryName       SeasonName  Facilitator  DimClientID  \\\n",
              "2133609           13       Kenya  2017, Long Rain        False      3675402   \n",
              "2133610           13       Kenya  2017, Long Rain        False      3075911   \n",
              "2133611           13       Kenya  2017, Long Rain        False      1655005   \n",
              "2133612           13       Kenya  2017, Long Rain        False      1523154   \n",
              "2133613           13       Kenya  2017, Long Rain        False      2146739   \n",
              "\n",
              "         DimGroupID  DimSiteID  DimDistrictID  TotalCredit  OperationalYear  \\\n",
              "2133609       78090       2591             45       4470.0             2017   \n",
              "2133610       78090       2591             45       8975.0             2017   \n",
              "2133611       84234       3014             49       6185.0             2017   \n",
              "2133612       78090       2591             45       9575.0             2017   \n",
              "2133613       78090       2591             45       4975.0             2017   \n",
              "\n",
              "         ... NumberUndeliveredInput  NumberDeliveredInput  Active  \\\n",
              "2133609  ...                    0.0                   8.0   False   \n",
              "2133610  ...                    0.0                  10.0   False   \n",
              "2133611  ...                    0.0                   6.0   False   \n",
              "2133612  ...                    0.0                   9.0   False   \n",
              "2133613  ...                    0.0                   7.0   False   \n",
              "\n",
              "         DaysToSeasonEnd  Repaid  MaximumPaymentAmount  AveragePaymentAmount  \\\n",
              "2133609            132.0    True                 700.0            385.714286   \n",
              "2133610            132.0    True                1000.0            460.000000   \n",
              "2133611            132.0    True                 500.0            425.000000   \n",
              "2133612            132.0    True                1075.0            463.461538   \n",
              "2133613            132.0    True                 800.0            514.285714   \n",
              "\n",
              "         TotalPaid  PercentagePaid  DistinctRepaymentPhoneNumbers  \n",
              "2133609     2700.0        0.604027                            1.0  \n",
              "2133610     5060.0        0.563788                            1.0  \n",
              "2133611     1700.0        0.274859                            1.0  \n",
              "2133612     6025.0        0.629243                            1.0  \n",
              "2133613     3600.0        0.723618                            1.0  \n",
              "\n",
              "[5 rows x 47 columns]"
            ]
          },
          "execution_count": 5,
          "metadata": {},
          "output_type": "execute_result"
        }
      ],
      "source": [
        "oaf.tail()"
      ]
    },
    {
      "cell_type": "code",
      "execution_count": null,
      "metadata": {
        "id": "-zBPkms-xGxk",
        "outputId": "d873b6cc-9ab2-4864-e23a-c90a9b1982a7"
      },
      "outputs": [
        {
          "data": {
            "text/plain": [
              "True     1463684\n",
              "False     669930\n",
              "Name: Repaid, dtype: int64"
            ]
          },
          "execution_count": 6,
          "metadata": {},
          "output_type": "execute_result"
        }
      ],
      "source": [
        "# Getting the ratio of True to False counts in the Repaid column\n",
        "oaf.Repaid.value_counts()"
      ]
    },
    {
      "cell_type": "code",
      "execution_count": null,
      "metadata": {
        "id": "JrlWCChpxGxk",
        "outputId": "95732ecf-27e8-4e86-e3ac-aec443b165d1"
      },
      "outputs": [
        {
          "data": {
            "image/png": "[encoded data removed]",
            "text/plain": [
              "<Figure size 432x288 with 1 Axes>"
            ]
          },
          "metadata": {
            "needs_background": "light"
          },
          "output_type": "display_data"
        }
      ],
      "source": [
        "# Plot of the True and False counts in the Repaid column\n",
        "oaf.Repaid.value_counts().plot(kind = 'bar', color = ['salmon','lightblue']);"
      ]
    },
    {
      "cell_type": "code",
      "execution_count": null,
      "metadata": {
        "id": "nSLtStTGxGxl",
        "outputId": "28266bca-2120-4713-9c25-8e6173b8778a"
      },
      "outputs": [
        {
          "name": "stdout",
          "output_type": "stream",
          "text": [
            "<class 'pandas.core.frame.DataFrame'>\n",
            "RangeIndex: 2133614 entries, 0 to 2133613\n",
            "Data columns (total 47 columns):\n",
            " #   Column                          Dtype  \n",
            "---  ------                          -----  \n",
            " 0   DimSeasonID                     int64  \n",
            " 1   CountryName                     object \n",
            " 2   SeasonName                      object \n",
            " 3   Facilitator                     bool   \n",
            " 4   DimClientID                     int64  \n",
            " 5   DimGroupID                      int64  \n",
            " 6   DimSiteID                       int64  \n",
            " 7   DimDistrictID                   int64  \n",
            " 8   TotalCredit                     float64\n",
            " 9   OperationalYear                 int64  \n",
            " 10  CreatedDate                     object \n",
            " 11  HasPhone                        bool   \n",
            " 12  Facilitator_SeasonNumber        float64\n",
            " 13  Site_TotalCredit                float64\n",
            " 14  Site_NumberOfFarmers            int64  \n",
            " 15  Group_TotalCredit               float64\n",
            " 16  Group_MaxSeasonNumber           int64  \n",
            " 17  Group_NumberOfFarmers           int64  \n",
            " 18  SeasonsAsFacilitator            int64  \n",
            " 19  NumberOfPreviousSeasonsDropped  float64\n",
            " 20  SeasonNumber                    int64  \n",
            " 21  DimCountryID                    int64  \n",
            " 22  Fertilizer                      object \n",
            " 23  Travertine                      object \n",
            " 24  TreeKit                         object \n",
            " 25  Training                        object \n",
            " 26  Solar                           object \n",
            " 27  Insurance                       object \n",
            " 28  Safety                          object \n",
            " 29  PostHarvest                     object \n",
            " 30  Maize                           object \n",
            " 31  JiT                             object \n",
            " 32  InputKGs                        float64\n",
            " 33  VeggieSeed                      object \n",
            " 34  BeanSeed                        object \n",
            " 35  Chicken                         object \n",
            " 36  Phone                           object \n",
            " 37  NumberUndeliveredInput          float64\n",
            " 38  NumberDeliveredInput            float64\n",
            " 39  Active                          object \n",
            " 40  DaysToSeasonEnd                 float64\n",
            " 41  Repaid                          bool   \n",
            " 42  MaximumPaymentAmount            float64\n",
            " 43  AveragePaymentAmount            float64\n",
            " 44  TotalPaid                       float64\n",
            " 45  PercentagePaid                  float64\n",
            " 46  DistinctRepaymentPhoneNumbers   float64\n",
            "dtypes: bool(3), float64(14), int64(12), object(18)\n",
            "memory usage: 722.3+ MB\n"
          ]
        }
      ],
      "source": [
        "# Dataframe information with the respective column datatypes\n",
        "oaf.info()"
      ]
    },
    {
      "cell_type": "code",
      "execution_count": null,
      "metadata": {
        "id": "LhW6wj6kxGxl",
        "outputId": "549824b1-7507-4e1c-bbe6-bb24d1cd5606"
      },
      "outputs": [
        {
          "data": {
            "text/plain": [
              "DimSeasonID                            0\n",
              "CountryName                            0\n",
              "SeasonName                             0\n",
              "Facilitator                            0\n",
              "DimClientID                            0\n",
              "DimGroupID                             0\n",
              "DimSiteID                              0\n",
              "DimDistrictID                          0\n",
              "TotalCredit                            0\n",
              "OperationalYear                        0\n",
              "CreatedDate                            0\n",
              "HasPhone                               0\n",
              "Facilitator_SeasonNumber           30264\n",
              "Site_TotalCredit                       0\n",
              "Site_NumberOfFarmers                   0\n",
              "Group_TotalCredit                      0\n",
              "Group_MaxSeasonNumber                  0\n",
              "Group_NumberOfFarmers                  0\n",
              "SeasonsAsFacilitator                   0\n",
              "NumberOfPreviousSeasonsDropped    947230\n",
              "SeasonNumber                           0\n",
              "DimCountryID                           0\n",
              "Fertilizer                           541\n",
              "Travertine                           541\n",
              "TreeKit                              541\n",
              "Training                             541\n",
              "Solar                                541\n",
              "Insurance                            541\n",
              "Safety                               541\n",
              "PostHarvest                          541\n",
              "Maize                                541\n",
              "JiT                                  541\n",
              "InputKGs                             541\n",
              "VeggieSeed                           541\n",
              "BeanSeed                             541\n",
              "Chicken                              541\n",
              "Phone                                541\n",
              "NumberUndeliveredInput               541\n",
              "NumberDeliveredInput                 541\n",
              "Active                               187\n",
              "DaysToSeasonEnd                      187\n",
              "Repaid                                 0\n",
              "MaximumPaymentAmount               23605\n",
              "AveragePaymentAmount               23605\n",
              "TotalPaid                            187\n",
              "PercentagePaid                       187\n",
              "DistinctRepaymentPhoneNumbers        187\n",
              "dtype: int64"
            ]
          },
          "execution_count": 10,
          "metadata": {},
          "output_type": "execute_result"
        }
      ],
      "source": [
        "# Identifying the columns with null values\n",
        "oaf.isna().sum()"
      ]
    },
    {
      "cell_type": "code",
      "execution_count": null,
      "metadata": {
        "id": "ViMgdnphxGxl",
        "outputId": "568c7984-2292-47ad-d554-da93c2a79172"
      },
      "outputs": [
        {
          "data": {
            "text/html": [
              "<div>\n",
              "<style scoped>\n",
              "    .dataframe tbody tr th:only-of-type {\n",
              "        vertical-align: middle;\n",
              "    }\n",
              "\n",
              "    .dataframe tbody tr th {\n",
              "        vertical-align: top;\n",
              "    }\n",
              "\n",
              "    .dataframe thead th {\n",
              "        text-align: right;\n",
              "    }\n",
              "</style>\n",
              "<table border=\"1\" class=\"dataframe\">\n",
              "  <thead>\n",
              "    <tr style=\"text-align: right;\">\n",
              "      <th></th>\n",
              "      <th>DimSeasonID</th>\n",
              "      <th>CountryName</th>\n",
              "      <th>SeasonName</th>\n",
              "      <th>Facilitator</th>\n",
              "      <th>DimClientID</th>\n",
              "      <th>DimGroupID</th>\n",
              "      <th>DimSiteID</th>\n",
              "      <th>DimDistrictID</th>\n",
              "      <th>TotalCredit</th>\n",
              "      <th>OperationalYear</th>\n",
              "      <th>...</th>\n",
              "      <th>NumberUndeliveredInput</th>\n",
              "      <th>NumberDeliveredInput</th>\n",
              "      <th>Active</th>\n",
              "      <th>DaysToSeasonEnd</th>\n",
              "      <th>Repaid</th>\n",
              "      <th>MaximumPaymentAmount</th>\n",
              "      <th>AveragePaymentAmount</th>\n",
              "      <th>TotalPaid</th>\n",
              "      <th>PercentagePaid</th>\n",
              "      <th>DistinctRepaymentPhoneNumbers</th>\n",
              "    </tr>\n",
              "  </thead>\n",
              "  <tbody>\n",
              "    <tr>\n",
              "      <th>count</th>\n",
              "      <td>2.133614e+06</td>\n",
              "      <td>2133614</td>\n",
              "      <td>2133614</td>\n",
              "      <td>2133614</td>\n",
              "      <td>2.133614e+06</td>\n",
              "      <td>2.133614e+06</td>\n",
              "      <td>2.133614e+06</td>\n",
              "      <td>2.133614e+06</td>\n",
              "      <td>2.133614e+06</td>\n",
              "      <td>2.133614e+06</td>\n",
              "      <td>...</td>\n",
              "      <td>2.133073e+06</td>\n",
              "      <td>2.133073e+06</td>\n",
              "      <td>2133427</td>\n",
              "      <td>2.133427e+06</td>\n",
              "      <td>2133614</td>\n",
              "      <td>2.110009e+06</td>\n",
              "      <td>2.110009e+06</td>\n",
              "      <td>2.133427e+06</td>\n",
              "      <td>2.133427e+06</td>\n",
              "      <td>2.133427e+06</td>\n",
              "    </tr>\n",
              "    <tr>\n",
              "      <th>unique</th>\n",
              "      <td>NaN</td>\n",
              "      <td>1</td>\n",
              "      <td>6</td>\n",
              "      <td>2</td>\n",
              "      <td>NaN</td>\n",
              "      <td>NaN</td>\n",
              "      <td>NaN</td>\n",
              "      <td>NaN</td>\n",
              "      <td>NaN</td>\n",
              "      <td>NaN</td>\n",
              "      <td>...</td>\n",
              "      <td>NaN</td>\n",
              "      <td>NaN</td>\n",
              "      <td>2</td>\n",
              "      <td>NaN</td>\n",
              "      <td>2</td>\n",
              "      <td>NaN</td>\n",
              "      <td>NaN</td>\n",
              "      <td>NaN</td>\n",
              "      <td>NaN</td>\n",
              "      <td>NaN</td>\n",
              "    </tr>\n",
              "    <tr>\n",
              "      <th>top</th>\n",
              "      <td>NaN</td>\n",
              "      <td>Kenya</td>\n",
              "      <td>2021, Long Rain</td>\n",
              "      <td>False</td>\n",
              "      <td>NaN</td>\n",
              "      <td>NaN</td>\n",
              "      <td>NaN</td>\n",
              "      <td>NaN</td>\n",
              "      <td>NaN</td>\n",
              "      <td>NaN</td>\n",
              "      <td>...</td>\n",
              "      <td>NaN</td>\n",
              "      <td>NaN</td>\n",
              "      <td>False</td>\n",
              "      <td>NaN</td>\n",
              "      <td>True</td>\n",
              "      <td>NaN</td>\n",
              "      <td>NaN</td>\n",
              "      <td>NaN</td>\n",
              "      <td>NaN</td>\n",
              "      <td>NaN</td>\n",
              "    </tr>\n",
              "    <tr>\n",
              "      <th>freq</th>\n",
              "      <td>NaN</td>\n",
              "      <td>2133614</td>\n",
              "      <td>571851</td>\n",
              "      <td>1865881</td>\n",
              "      <td>NaN</td>\n",
              "      <td>NaN</td>\n",
              "      <td>NaN</td>\n",
              "      <td>NaN</td>\n",
              "      <td>NaN</td>\n",
              "      <td>NaN</td>\n",
              "      <td>...</td>\n",
              "      <td>NaN</td>\n",
              "      <td>NaN</td>\n",
              "      <td>1561576</td>\n",
              "      <td>NaN</td>\n",
              "      <td>1463684</td>\n",
              "      <td>NaN</td>\n",
              "      <td>NaN</td>\n",
              "      <td>NaN</td>\n",
              "      <td>NaN</td>\n",
              "      <td>NaN</td>\n",
              "    </tr>\n",
              "    <tr>\n",
              "      <th>mean</th>\n",
              "      <td>6.967323e+01</td>\n",
              "      <td>NaN</td>\n",
              "      <td>NaN</td>\n",
              "      <td>NaN</td>\n",
              "      <td>2.049270e+06</td>\n",
              "      <td>1.597306e+05</td>\n",
              "      <td>4.879190e+03</td>\n",
              "      <td>8.291871e+01</td>\n",
              "      <td>9.984512e+03</td>\n",
              "      <td>2.019339e+03</td>\n",
              "      <td>...</td>\n",
              "      <td>6.652337e-01</td>\n",
              "      <td>1.264705e+01</td>\n",
              "      <td>NaN</td>\n",
              "      <td>1.290374e+02</td>\n",
              "      <td>NaN</td>\n",
              "      <td>1.431205e+03</td>\n",
              "      <td>6.082576e+02</td>\n",
              "      <td>4.898085e+03</td>\n",
              "      <td>5.244615e-01</td>\n",
              "      <td>1.114883e+00</td>\n",
              "    </tr>\n",
              "    <tr>\n",
              "      <th>std</th>\n",
              "      <td>8.795778e+01</td>\n",
              "      <td>NaN</td>\n",
              "      <td>NaN</td>\n",
              "      <td>NaN</td>\n",
              "      <td>1.221750e+06</td>\n",
              "      <td>7.010325e+04</td>\n",
              "      <td>2.274452e+03</td>\n",
              "      <td>4.688406e+01</td>\n",
              "      <td>5.200578e+03</td>\n",
              "      <td>1.361516e+00</td>\n",
              "      <td>...</td>\n",
              "      <td>1.293056e+00</td>\n",
              "      <td>4.798322e+00</td>\n",
              "      <td>NaN</td>\n",
              "      <td>3.270490e+01</td>\n",
              "      <td>NaN</td>\n",
              "      <td>1.755532e+03</td>\n",
              "      <td>1.186698e+03</td>\n",
              "      <td>4.069823e+03</td>\n",
              "      <td>3.743968e-01</td>\n",
              "      <td>1.281183e+00</td>\n",
              "    </tr>\n",
              "    <tr>\n",
              "      <th>min</th>\n",
              "      <td>1.300000e+01</td>\n",
              "      <td>NaN</td>\n",
              "      <td>NaN</td>\n",
              "      <td>NaN</td>\n",
              "      <td>1.000000e+00</td>\n",
              "      <td>2.126000e+03</td>\n",
              "      <td>9.600000e+01</td>\n",
              "      <td>3.000000e+00</td>\n",
              "      <td>3.500000e+01</td>\n",
              "      <td>2.017000e+03</td>\n",
              "      <td>...</td>\n",
              "      <td>0.000000e+00</td>\n",
              "      <td>0.000000e+00</td>\n",
              "      <td>NaN</td>\n",
              "      <td>-2.320000e+02</td>\n",
              "      <td>NaN</td>\n",
              "      <td>-5.000000e+02</td>\n",
              "      <td>-7.500000e+02</td>\n",
              "      <td>-1.750000e+03</td>\n",
              "      <td>-2.272727e+00</td>\n",
              "      <td>0.000000e+00</td>\n",
              "    </tr>\n",
              "    <tr>\n",
              "      <th>25%</th>\n",
              "      <td>1.500000e+01</td>\n",
              "      <td>NaN</td>\n",
              "      <td>NaN</td>\n",
              "      <td>NaN</td>\n",
              "      <td>9.340850e+05</td>\n",
              "      <td>1.157360e+05</td>\n",
              "      <td>3.721000e+03</td>\n",
              "      <td>5.300000e+01</td>\n",
              "      <td>6.155000e+03</td>\n",
              "      <td>2.018000e+03</td>\n",
              "      <td>...</td>\n",
              "      <td>0.000000e+00</td>\n",
              "      <td>1.000000e+01</td>\n",
              "      <td>NaN</td>\n",
              "      <td>1.320000e+02</td>\n",
              "      <td>NaN</td>\n",
              "      <td>6.000000e+02</td>\n",
              "      <td>3.056667e+02</td>\n",
              "      <td>2.300000e+03</td>\n",
              "      <td>2.910267e-01</td>\n",
              "      <td>0.000000e+00</td>\n",
              "    </tr>\n",
              "    <tr>\n",
              "      <th>50%</th>\n",
              "      <td>1.700000e+01</td>\n",
              "      <td>NaN</td>\n",
              "      <td>NaN</td>\n",
              "      <td>NaN</td>\n",
              "      <td>2.166923e+06</td>\n",
              "      <td>1.736130e+05</td>\n",
              "      <td>4.998000e+03</td>\n",
              "      <td>8.300000e+01</td>\n",
              "      <td>9.065000e+03</td>\n",
              "      <td>2.019000e+03</td>\n",
              "      <td>...</td>\n",
              "      <td>0.000000e+00</td>\n",
              "      <td>1.200000e+01</td>\n",
              "      <td>NaN</td>\n",
              "      <td>1.320000e+02</td>\n",
              "      <td>NaN</td>\n",
              "      <td>1.000000e+03</td>\n",
              "      <td>4.602000e+02</td>\n",
              "      <td>3.800000e+03</td>\n",
              "      <td>4.511278e-01</td>\n",
              "      <td>1.000000e+00</td>\n",
              "    </tr>\n",
              "    <tr>\n",
              "      <th>75%</th>\n",
              "      <td>2.150000e+02</td>\n",
              "      <td>NaN</td>\n",
              "      <td>NaN</td>\n",
              "      <td>NaN</td>\n",
              "      <td>3.097718e+06</td>\n",
              "      <td>2.047940e+05</td>\n",
              "      <td>6.028000e+03</td>\n",
              "      <td>1.050000e+02</td>\n",
              "      <td>1.281500e+04</td>\n",
              "      <td>2.021000e+03</td>\n",
              "      <td>...</td>\n",
              "      <td>1.000000e+00</td>\n",
              "      <td>1.500000e+01</td>\n",
              "      <td>NaN</td>\n",
              "      <td>1.320000e+02</td>\n",
              "      <td>NaN</td>\n",
              "      <td>1.630000e+03</td>\n",
              "      <td>6.892857e+02</td>\n",
              "      <td>6.200000e+03</td>\n",
              "      <td>6.531882e-01</td>\n",
              "      <td>2.000000e+00</td>\n",
              "    </tr>\n",
              "    <tr>\n",
              "      <th>max</th>\n",
              "      <td>2.150000e+02</td>\n",
              "      <td>NaN</td>\n",
              "      <td>NaN</td>\n",
              "      <td>NaN</td>\n",
              "      <td>4.243996e+06</td>\n",
              "      <td>3.154210e+05</td>\n",
              "      <td>1.209100e+04</td>\n",
              "      <td>2.780000e+02</td>\n",
              "      <td>1.205020e+05</td>\n",
              "      <td>2.021000e+03</td>\n",
              "      <td>...</td>\n",
              "      <td>2.700000e+01</td>\n",
              "      <td>8.300000e+01</td>\n",
              "      <td>NaN</td>\n",
              "      <td>1.320000e+02</td>\n",
              "      <td>NaN</td>\n",
              "      <td>1.205020e+05</td>\n",
              "      <td>1.205020e+05</td>\n",
              "      <td>1.205020e+05</td>\n",
              "      <td>6.711111e+01</td>\n",
              "      <td>5.300000e+01</td>\n",
              "    </tr>\n",
              "  </tbody>\n",
              "</table>\n",
              "<p>11 rows × 47 columns</p>\n",
              "</div>"
            ],
            "text/plain": [
              "         DimSeasonID CountryName       SeasonName Facilitator   DimClientID  \\\n",
              "count   2.133614e+06     2133614          2133614     2133614  2.133614e+06   \n",
              "unique           NaN           1                6           2           NaN   \n",
              "top              NaN       Kenya  2021, Long Rain       False           NaN   \n",
              "freq             NaN     2133614           571851     1865881           NaN   \n",
              "mean    6.967323e+01         NaN              NaN         NaN  2.049270e+06   \n",
              "std     8.795778e+01         NaN              NaN         NaN  1.221750e+06   \n",
              "min     1.300000e+01         NaN              NaN         NaN  1.000000e+00   \n",
              "25%     1.500000e+01         NaN              NaN         NaN  9.340850e+05   \n",
              "50%     1.700000e+01         NaN              NaN         NaN  2.166923e+06   \n",
              "75%     2.150000e+02         NaN              NaN         NaN  3.097718e+06   \n",
              "max     2.150000e+02         NaN              NaN         NaN  4.243996e+06   \n",
              "\n",
              "          DimGroupID     DimSiteID  DimDistrictID   TotalCredit  \\\n",
              "count   2.133614e+06  2.133614e+06   2.133614e+06  2.133614e+06   \n",
              "unique           NaN           NaN            NaN           NaN   \n",
              "top              NaN           NaN            NaN           NaN   \n",
              "freq             NaN           NaN            NaN           NaN   \n",
              "mean    1.597306e+05  4.879190e+03   8.291871e+01  9.984512e+03   \n",
              "std     7.010325e+04  2.274452e+03   4.688406e+01  5.200578e+03   \n",
              "min     2.126000e+03  9.600000e+01   3.000000e+00  3.500000e+01   \n",
              "25%     1.157360e+05  3.721000e+03   5.300000e+01  6.155000e+03   \n",
              "50%     1.736130e+05  4.998000e+03   8.300000e+01  9.065000e+03   \n",
              "75%     2.047940e+05  6.028000e+03   1.050000e+02  1.281500e+04   \n",
              "max     3.154210e+05  1.209100e+04   2.780000e+02  1.205020e+05   \n",
              "\n",
              "        OperationalYear  ... NumberUndeliveredInput NumberDeliveredInput  \\\n",
              "count      2.133614e+06  ...           2.133073e+06         2.133073e+06   \n",
              "unique              NaN  ...                    NaN                  NaN   \n",
              "top                 NaN  ...                    NaN                  NaN   \n",
              "freq                NaN  ...                    NaN                  NaN   \n",
              "mean       2.019339e+03  ...           6.652337e-01         1.264705e+01   \n",
              "std        1.361516e+00  ...           1.293056e+00         4.798322e+00   \n",
              "min        2.017000e+03  ...           0.000000e+00         0.000000e+00   \n",
              "25%        2.018000e+03  ...           0.000000e+00         1.000000e+01   \n",
              "50%        2.019000e+03  ...           0.000000e+00         1.200000e+01   \n",
              "75%        2.021000e+03  ...           1.000000e+00         1.500000e+01   \n",
              "max        2.021000e+03  ...           2.700000e+01         8.300000e+01   \n",
              "\n",
              "         Active  DaysToSeasonEnd   Repaid  MaximumPaymentAmount  \\\n",
              "count   2133427     2.133427e+06  2133614          2.110009e+06   \n",
              "unique        2              NaN        2                   NaN   \n",
              "top       False              NaN     True                   NaN   \n",
              "freq    1561576              NaN  1463684                   NaN   \n",
              "mean        NaN     1.290374e+02      NaN          1.431205e+03   \n",
              "std         NaN     3.270490e+01      NaN          1.755532e+03   \n",
              "min         NaN    -2.320000e+02      NaN         -5.000000e+02   \n",
              "25%         NaN     1.320000e+02      NaN          6.000000e+02   \n",
              "50%         NaN     1.320000e+02      NaN          1.000000e+03   \n",
              "75%         NaN     1.320000e+02      NaN          1.630000e+03   \n",
              "max         NaN     1.320000e+02      NaN          1.205020e+05   \n",
              "\n",
              "        AveragePaymentAmount     TotalPaid  PercentagePaid  \\\n",
              "count           2.110009e+06  2.133427e+06    2.133427e+06   \n",
              "unique                   NaN           NaN             NaN   \n",
              "top                      NaN           NaN             NaN   \n",
              "freq                     NaN           NaN             NaN   \n",
              "mean            6.082576e+02  4.898085e+03    5.244615e-01   \n",
              "std             1.186698e+03  4.069823e+03    3.743968e-01   \n",
              "min            -7.500000e+02 -1.750000e+03   -2.272727e+00   \n",
              "25%             3.056667e+02  2.300000e+03    2.910267e-01   \n",
              "50%             4.602000e+02  3.800000e+03    4.511278e-01   \n",
              "75%             6.892857e+02  6.200000e+03    6.531882e-01   \n",
              "max             1.205020e+05  1.205020e+05    6.711111e+01   \n",
              "\n",
              "        DistinctRepaymentPhoneNumbers  \n",
              "count                    2.133427e+06  \n",
              "unique                            NaN  \n",
              "top                               NaN  \n",
              "freq                              NaN  \n",
              "mean                     1.114883e+00  \n",
              "std                      1.281183e+00  \n",
              "min                      0.000000e+00  \n",
              "25%                      0.000000e+00  \n",
              "50%                      1.000000e+00  \n",
              "75%                      2.000000e+00  \n",
              "max                      5.300000e+01  \n",
              "\n",
              "[11 rows x 47 columns]"
            ]
          },
          "execution_count": 12,
          "metadata": {},
          "output_type": "execute_result"
        }
      ],
      "source": [
        "# Descriptive statistics of the Dataframe\n",
        "oaf.describe(include = 'all')"
      ]
    },
    {
      "cell_type": "code",
      "execution_count": null,
      "metadata": {
        "id": "p6s7bxz5xGxm",
        "outputId": "c4501bfc-d870-41a5-be17-87c983df4f6d"
      },
      "outputs": [
        {
          "data": {
            "text/plain": [
              "0    True\n",
              "dtype: object"
            ]
          },
          "execution_count": 18,
          "metadata": {},
          "output_type": "execute_result"
        }
      ],
      "source": [
        "oaf['TreeKit'].mode()"
      ]
    },
    {
      "cell_type": "code",
      "execution_count": null,
      "metadata": {
        "id": "HKH_Zc5UxGxm",
        "outputId": "82ed4fe8-5157-4f4a-a54e-038d2910d813"
      },
      "outputs": [
        {
          "data": {
            "text/plain": [
              "Index(['DimSeasonID', 'CountryName', 'SeasonName', 'Facilitator',\n",
              "       'DimClientID', 'DimGroupID', 'DimSiteID', 'DimDistrictID',\n",
              "       'TotalCredit', 'OperationalYear', 'CreatedDate', 'HasPhone',\n",
              "       'Facilitator_SeasonNumber', 'Site_TotalCredit', 'Site_NumberOfFarmers',\n",
              "       'Group_TotalCredit', 'Group_MaxSeasonNumber', 'Group_NumberOfFarmers',\n",
              "       'SeasonsAsFacilitator', 'NumberOfPreviousSeasonsDropped',\n",
              "       'SeasonNumber', 'DimCountryID', 'Fertilizer', 'Travertine', 'TreeKit',\n",
              "       'Training', 'Solar', 'Insurance', 'Safety', 'PostHarvest', 'Maize',\n",
              "       'JiT', 'InputKGs', 'VeggieSeed', 'BeanSeed', 'Chicken', 'Phone',\n",
              "       'NumberUndeliveredInput', 'NumberDeliveredInput', 'Active',\n",
              "       'DaysToSeasonEnd', 'Repaid', 'MaximumPaymentAmount',\n",
              "       'AveragePaymentAmount', 'TotalPaid', 'PercentagePaid',\n",
              "       'DistinctRepaymentPhoneNumbers'],\n",
              "      dtype='object')"
            ]
          },
          "execution_count": 19,
          "metadata": {},
          "output_type": "execute_result"
        }
      ],
      "source": [
        "oaf.columns"
      ]
    },
    {
      "cell_type": "code",
      "execution_count": null,
      "metadata": {
        "id": "Vt2_dVxSxGxm",
        "outputId": "4bb7d148-df05-4f94-8c7b-507a033628d1"
      },
      "outputs": [
        {
          "data": {
            "text/html": [
              "<div>\n",
              "<style scoped>\n",
              "    .dataframe tbody tr th:only-of-type {\n",
              "        vertical-align: middle;\n",
              "    }\n",
              "\n",
              "    .dataframe tbody tr th {\n",
              "        vertical-align: top;\n",
              "    }\n",
              "\n",
              "    .dataframe thead th {\n",
              "        text-align: right;\n",
              "    }\n",
              "</style>\n",
              "<table border=\"1\" class=\"dataframe\">\n",
              "  <thead>\n",
              "    <tr style=\"text-align: right;\">\n",
              "      <th></th>\n",
              "      <th>Facilitator</th>\n",
              "      <th>HasPhone</th>\n",
              "      <th>Fertilizer</th>\n",
              "      <th>Travertine</th>\n",
              "      <th>TreeKit</th>\n",
              "      <th>Training</th>\n",
              "      <th>Solar</th>\n",
              "      <th>Insurance</th>\n",
              "      <th>Safety</th>\n",
              "      <th>PostHarvest</th>\n",
              "      <th>Maize</th>\n",
              "      <th>JiT</th>\n",
              "      <th>VeggieSeed</th>\n",
              "      <th>BeanSeed</th>\n",
              "      <th>Chicken</th>\n",
              "    </tr>\n",
              "  </thead>\n",
              "  <tbody>\n",
              "    <tr>\n",
              "      <th>0</th>\n",
              "      <td>False</td>\n",
              "      <td>True</td>\n",
              "      <td>True</td>\n",
              "      <td>False</td>\n",
              "      <td>True</td>\n",
              "      <td>False</td>\n",
              "      <td>True</td>\n",
              "      <td>False</td>\n",
              "      <td>False</td>\n",
              "      <td>False</td>\n",
              "      <td>True</td>\n",
              "      <td>False</td>\n",
              "      <td>False</td>\n",
              "      <td>False</td>\n",
              "      <td>False</td>\n",
              "    </tr>\n",
              "    <tr>\n",
              "      <th>1</th>\n",
              "      <td>False</td>\n",
              "      <td>True</td>\n",
              "      <td>True</td>\n",
              "      <td>False</td>\n",
              "      <td>True</td>\n",
              "      <td>False</td>\n",
              "      <td>False</td>\n",
              "      <td>False</td>\n",
              "      <td>False</td>\n",
              "      <td>False</td>\n",
              "      <td>True</td>\n",
              "      <td>False</td>\n",
              "      <td>False</td>\n",
              "      <td>False</td>\n",
              "      <td>False</td>\n",
              "    </tr>\n",
              "    <tr>\n",
              "      <th>2</th>\n",
              "      <td>False</td>\n",
              "      <td>True</td>\n",
              "      <td>True</td>\n",
              "      <td>False</td>\n",
              "      <td>True</td>\n",
              "      <td>False</td>\n",
              "      <td>False</td>\n",
              "      <td>False</td>\n",
              "      <td>False</td>\n",
              "      <td>False</td>\n",
              "      <td>True</td>\n",
              "      <td>False</td>\n",
              "      <td>False</td>\n",
              "      <td>False</td>\n",
              "      <td>False</td>\n",
              "    </tr>\n",
              "    <tr>\n",
              "      <th>3</th>\n",
              "      <td>False</td>\n",
              "      <td>True</td>\n",
              "      <td>True</td>\n",
              "      <td>False</td>\n",
              "      <td>True</td>\n",
              "      <td>False</td>\n",
              "      <td>True</td>\n",
              "      <td>False</td>\n",
              "      <td>False</td>\n",
              "      <td>False</td>\n",
              "      <td>True</td>\n",
              "      <td>False</td>\n",
              "      <td>False</td>\n",
              "      <td>False</td>\n",
              "      <td>False</td>\n",
              "    </tr>\n",
              "    <tr>\n",
              "      <th>4</th>\n",
              "      <td>False</td>\n",
              "      <td>True</td>\n",
              "      <td>True</td>\n",
              "      <td>False</td>\n",
              "      <td>True</td>\n",
              "      <td>False</td>\n",
              "      <td>True</td>\n",
              "      <td>False</td>\n",
              "      <td>True</td>\n",
              "      <td>False</td>\n",
              "      <td>True</td>\n",
              "      <td>False</td>\n",
              "      <td>False</td>\n",
              "      <td>False</td>\n",
              "      <td>False</td>\n",
              "    </tr>\n",
              "    <tr>\n",
              "      <th>...</th>\n",
              "      <td>...</td>\n",
              "      <td>...</td>\n",
              "      <td>...</td>\n",
              "      <td>...</td>\n",
              "      <td>...</td>\n",
              "      <td>...</td>\n",
              "      <td>...</td>\n",
              "      <td>...</td>\n",
              "      <td>...</td>\n",
              "      <td>...</td>\n",
              "      <td>...</td>\n",
              "      <td>...</td>\n",
              "      <td>...</td>\n",
              "      <td>...</td>\n",
              "      <td>...</td>\n",
              "    </tr>\n",
              "    <tr>\n",
              "      <th>2133609</th>\n",
              "      <td>False</td>\n",
              "      <td>True</td>\n",
              "      <td>True</td>\n",
              "      <td>False</td>\n",
              "      <td>True</td>\n",
              "      <td>False</td>\n",
              "      <td>False</td>\n",
              "      <td>False</td>\n",
              "      <td>False</td>\n",
              "      <td>True</td>\n",
              "      <td>True</td>\n",
              "      <td>False</td>\n",
              "      <td>False</td>\n",
              "      <td>False</td>\n",
              "      <td>False</td>\n",
              "    </tr>\n",
              "    <tr>\n",
              "      <th>2133610</th>\n",
              "      <td>False</td>\n",
              "      <td>True</td>\n",
              "      <td>True</td>\n",
              "      <td>False</td>\n",
              "      <td>True</td>\n",
              "      <td>False</td>\n",
              "      <td>True</td>\n",
              "      <td>False</td>\n",
              "      <td>False</td>\n",
              "      <td>False</td>\n",
              "      <td>True</td>\n",
              "      <td>False</td>\n",
              "      <td>False</td>\n",
              "      <td>False</td>\n",
              "      <td>False</td>\n",
              "    </tr>\n",
              "    <tr>\n",
              "      <th>2133611</th>\n",
              "      <td>False</td>\n",
              "      <td>True</td>\n",
              "      <td>True</td>\n",
              "      <td>False</td>\n",
              "      <td>True</td>\n",
              "      <td>False</td>\n",
              "      <td>False</td>\n",
              "      <td>False</td>\n",
              "      <td>False</td>\n",
              "      <td>False</td>\n",
              "      <td>True</td>\n",
              "      <td>False</td>\n",
              "      <td>False</td>\n",
              "      <td>False</td>\n",
              "      <td>False</td>\n",
              "    </tr>\n",
              "    <tr>\n",
              "      <th>2133612</th>\n",
              "      <td>False</td>\n",
              "      <td>True</td>\n",
              "      <td>True</td>\n",
              "      <td>False</td>\n",
              "      <td>True</td>\n",
              "      <td>False</td>\n",
              "      <td>False</td>\n",
              "      <td>False</td>\n",
              "      <td>False</td>\n",
              "      <td>True</td>\n",
              "      <td>True</td>\n",
              "      <td>False</td>\n",
              "      <td>False</td>\n",
              "      <td>False</td>\n",
              "      <td>False</td>\n",
              "    </tr>\n",
              "    <tr>\n",
              "      <th>2133613</th>\n",
              "      <td>False</td>\n",
              "      <td>True</td>\n",
              "      <td>False</td>\n",
              "      <td>False</td>\n",
              "      <td>True</td>\n",
              "      <td>False</td>\n",
              "      <td>True</td>\n",
              "      <td>False</td>\n",
              "      <td>False</td>\n",
              "      <td>True</td>\n",
              "      <td>False</td>\n",
              "      <td>False</td>\n",
              "      <td>False</td>\n",
              "      <td>False</td>\n",
              "      <td>False</td>\n",
              "    </tr>\n",
              "  </tbody>\n",
              "</table>\n",
              "<p>2133614 rows × 15 columns</p>\n",
              "</div>"
            ],
            "text/plain": [
              "         Facilitator  HasPhone  Fertilizer  Travertine  TreeKit  Training  \\\n",
              "0              False      True        True       False     True     False   \n",
              "1              False      True        True       False     True     False   \n",
              "2              False      True        True       False     True     False   \n",
              "3              False      True        True       False     True     False   \n",
              "4              False      True        True       False     True     False   \n",
              "...              ...       ...         ...         ...      ...       ...   \n",
              "2133609        False      True        True       False     True     False   \n",
              "2133610        False      True        True       False     True     False   \n",
              "2133611        False      True        True       False     True     False   \n",
              "2133612        False      True        True       False     True     False   \n",
              "2133613        False      True       False       False     True     False   \n",
              "\n",
              "         Solar  Insurance  Safety  PostHarvest  Maize    JiT  VeggieSeed  \\\n",
              "0         True      False   False        False   True  False       False   \n",
              "1        False      False   False        False   True  False       False   \n",
              "2        False      False   False        False   True  False       False   \n",
              "3         True      False   False        False   True  False       False   \n",
              "4         True      False    True        False   True  False       False   \n",
              "...        ...        ...     ...          ...    ...    ...         ...   \n",
              "2133609  False      False   False         True   True  False       False   \n",
              "2133610   True      False   False        False   True  False       False   \n",
              "2133611  False      False   False        False   True  False       False   \n",
              "2133612  False      False   False         True   True  False       False   \n",
              "2133613   True      False   False         True  False  False       False   \n",
              "\n",
              "         BeanSeed  Chicken  \n",
              "0           False    False  \n",
              "1           False    False  \n",
              "2           False    False  \n",
              "3           False    False  \n",
              "4           False    False  \n",
              "...           ...      ...  \n",
              "2133609     False    False  \n",
              "2133610     False    False  \n",
              "2133611     False    False  \n",
              "2133612     False    False  \n",
              "2133613     False    False  \n",
              "\n",
              "[2133614 rows x 15 columns]"
            ]
          },
          "execution_count": 28,
          "metadata": {},
          "output_type": "execute_result"
        }
      ],
      "source": [
        "oaf[['Facilitator','HasPhone','Fertilizer', 'Travertine', 'TreeKit',\n",
        "       'Training', 'Solar', 'Insurance', 'Safety', 'PostHarvest', 'Maize',\n",
        "       'JiT', 'VeggieSeed', 'BeanSeed', 'Chicken']].astype('bool')"
      ]
    },
    {
      "cell_type": "code",
      "execution_count": null,
      "metadata": {
        "id": "_5lmiHVyxGxn",
        "outputId": "143dab22-713a-42eb-8cc3-ff4448c1eabe"
      },
      "outputs": [
        {
          "name": "stdout",
          "output_type": "stream",
          "text": [
            "<class 'pandas.core.frame.DataFrame'>\n",
            "RangeIndex: 2133614 entries, 0 to 2133613\n",
            "Data columns (total 47 columns):\n",
            " #   Column                          Dtype  \n",
            "---  ------                          -----  \n",
            " 0   DimSeasonID                     int64  \n",
            " 1   CountryName                     object \n",
            " 2   SeasonName                      object \n",
            " 3   Facilitator                     bool   \n",
            " 4   DimClientID                     int64  \n",
            " 5   DimGroupID                      int64  \n",
            " 6   DimSiteID                       int64  \n",
            " 7   DimDistrictID                   int64  \n",
            " 8   TotalCredit                     float64\n",
            " 9   OperationalYear                 int64  \n",
            " 10  CreatedDate                     object \n",
            " 11  HasPhone                        bool   \n",
            " 12  Facilitator_SeasonNumber        float64\n",
            " 13  Site_TotalCredit                float64\n",
            " 14  Site_NumberOfFarmers            int64  \n",
            " 15  Group_TotalCredit               float64\n",
            " 16  Group_MaxSeasonNumber           int64  \n",
            " 17  Group_NumberOfFarmers           int64  \n",
            " 18  SeasonsAsFacilitator            int64  \n",
            " 19  NumberOfPreviousSeasonsDropped  float64\n",
            " 20  SeasonNumber                    int64  \n",
            " 21  DimCountryID                    int64  \n",
            " 22  Fertilizer                      object \n",
            " 23  Travertine                      object \n",
            " 24  TreeKit                         object \n",
            " 25  Training                        object \n",
            " 26  Solar                           object \n",
            " 27  Insurance                       object \n",
            " 28  Safety                          object \n",
            " 29  PostHarvest                     object \n",
            " 30  Maize                           object \n",
            " 31  JiT                             object \n",
            " 32  InputKGs                        float64\n",
            " 33  VeggieSeed                      object \n",
            " 34  BeanSeed                        object \n",
            " 35  Chicken                         object \n",
            " 36  Phone                           object \n",
            " 37  NumberUndeliveredInput          float64\n",
            " 38  NumberDeliveredInput            float64\n",
            " 39  Active                          object \n",
            " 40  DaysToSeasonEnd                 float64\n",
            " 41  Repaid                          bool   \n",
            " 42  MaximumPaymentAmount            float64\n",
            " 43  AveragePaymentAmount            float64\n",
            " 44  TotalPaid                       float64\n",
            " 45  PercentagePaid                  float64\n",
            " 46  DistinctRepaymentPhoneNumbers   float64\n",
            "dtypes: bool(3), float64(14), int64(12), object(18)\n",
            "memory usage: 722.3+ MB\n"
          ]
        }
      ],
      "source": [
        "oaf.info()"
      ]
    },
    {
      "cell_type": "code",
      "execution_count": null,
      "metadata": {
        "id": "oOHS1P0vxGxn",
        "outputId": "38d0d82b-64bc-4f62-cfa6-e635a9e7b5c0"
      },
      "outputs": [
        {
          "data": {
            "text/plain": [
              "<AxesSubplot:xlabel='Repaid'>"
            ]
          },
          "execution_count": 70,
          "metadata": {},
          "output_type": "execute_result"
        },
        {
          "data": {
            "image/png": "[encoded data removed]",
            "text/plain": [
              "<Figure size 720x432 with 1 Axes>"
            ]
          },
          "metadata": {
            "needs_background": "light"
          },
          "output_type": "display_data"
        }
      ],
      "source": [
        "# Comparing the Repaid Column with the TotalCredit column\n",
        "oaf.groupby('Repaid').sum()['TotalCredit'].plot.bar(figsize=(10,6))"
      ]
    },
    {
      "cell_type": "code",
      "execution_count": null,
      "metadata": {
        "id": "mpaOHOjyxGxn",
        "outputId": "71545d15-4af2-457b-d117-40fb727dc914"
      },
      "outputs": [
        {
          "data": {
            "text/plain": [
              "<AxesSubplot:xlabel='Repaid'>"
            ]
          },
          "execution_count": 74,
          "metadata": {},
          "output_type": "execute_result"
        },
        {
          "data": {
            "image/png": "[encoded data removed]",
            "text/plain": [
              "<Figure size 720x432 with 1 Axes>"
            ]
          },
          "metadata": {
            "needs_background": "light"
          },
          "output_type": "display_data"
        }
      ],
      "source": [
        "oaf.groupby('Repaid').sum()['DaysToSeasonEnd'].plot.bar(figsize=(10,6))"
      ]
    },
    {
      "cell_type": "code",
      "execution_count": null,
      "metadata": {
        "id": "2r1LmvvCxGxo",
        "outputId": "c2682774-75ca-47fe-dd7b-7d9d27018d3d"
      },
      "outputs": [
        {
          "data": {
            "text/plain": [
              "2021, Long Rain     571851\n",
              "2020, Long Rain     486793\n",
              "2019, Long Rain     425825\n",
              "2018, Long Rain     390323\n",
              "2017, Long Rain     258635\n",
              "2017, Short Rain       187\n",
              "Name: SeasonName, dtype: int64"
            ]
          },
          "execution_count": 30,
          "metadata": {},
          "output_type": "execute_result"
        }
      ],
      "source": [
        "# SeasonName column compared to Repaid column\n",
        "oaf.SeasonName.value_counts()"
      ]
    },
    {
      "cell_type": "code",
      "execution_count": null,
      "metadata": {
        "id": "Ws9adt0NxGxo",
        "outputId": "859d0d5f-993a-4ab0-f8a7-e18c63487e27"
      },
      "outputs": [
        {
          "data": {
            "image/png": "[encoded data removed]",
            "text/plain": [
              "<Figure size 720x432 with 1 Axes>"
            ]
          },
          "metadata": {
            "needs_background": "light"
          },
          "output_type": "display_data"
        }
      ],
      "source": [
        "# Visualization of the comparison between the SeasonName with the Repaid column\n",
        "pd.crosstab(oaf.Repaid,oaf.SeasonName).plot(kind = 'bar', figsize = (10,6))\n",
        "plt.title('Repaid frequency for Seasons')\n",
        "plt.xlabel('Repaid')\n",
        "plt.ylabel('Season count')\n",
        "plt.xticks(rotation = 0);"
      ]
    },
    {
      "cell_type": "code",
      "execution_count": null,
      "metadata": {
        "id": "vgOKbJeJxGxo",
        "outputId": "7ba57dd9-deef-4e4a-fb3c-ed09dc98e042"
      },
      "outputs": [
        {
          "data": {
            "image/png": "[encoded data removed]",
            "text/plain": [
              "<Figure size 720x432 with 1 Axes>"
            ]
          },
          "metadata": {
            "needs_background": "light"
          },
          "output_type": "display_data"
        }
      ],
      "source": [
        "plt.figure(figsize = (10,6))\n",
        "\n",
        "#scatter for positive examples\n",
        "plt.scatter(oaf.TotalCredit[oaf.Repaid==True],oaf.TotalPaid[oaf.Repaid==True],c='salmon')\n",
        "\n",
        "#scatter for negative examples\n",
        "plt.scatter(oaf.TotalCredit[oaf.Repaid==False],oaf.TotalPaid[oaf.Repaid==False], c='lightblue');\n",
        "\n",
        "plt.title('Repayment as a function of Total Credit and Total Paid')\n",
        "plt.xlabel('Total Credit')\n",
        "plt.ylabel('Total Paid')\n",
        "plt.legend([\"Repaid\",\"Not Repaid\"]);"
      ]
    },
    {
      "cell_type": "code",
      "execution_count": null,
      "metadata": {
        "id": "DAx6CUPnxGxp",
        "outputId": "4e0cc6a1-1bca-4016-aab9-a085e7f1025d"
      },
      "outputs": [
        {
          "data": {
            "text/plain": [
              "120502.0"
            ]
          },
          "execution_count": 59,
          "metadata": {},
          "output_type": "execute_result"
        }
      ],
      "source": [
        "oaf.TotalCredit[oaf.Repaid==True].max()"
      ]
    },
    {
      "cell_type": "code",
      "execution_count": null,
      "metadata": {
        "id": "e4zcoF9WxGxp",
        "outputId": "aae97a8d-fe1e-4d8a-dfba-0ae228eae422"
      },
      "outputs": [
        {
          "data": {
            "text/plain": [
              "120502.0"
            ]
          },
          "execution_count": 58,
          "metadata": {},
          "output_type": "execute_result"
        }
      ],
      "source": [
        "oaf.TotalPaid[oaf.Repaid==True].max()"
      ]
    },
    {
      "cell_type": "code",
      "execution_count": null,
      "metadata": {
        "id": "ZCPic0ClxGxp",
        "outputId": "a91ccf5b-a282-4667-b843-e59f59100eae"
      },
      "outputs": [
        {
          "data": {
            "text/plain": [
              "<AxesSubplot:ylabel='Frequency'>"
            ]
          },
          "execution_count": 61,
          "metadata": {},
          "output_type": "execute_result"
        },
        {
          "data": {
            "image/png": "[encoded data removed]",
            "text/plain": [
              "<Figure size 432x288 with 1 Axes>"
            ]
          },
          "metadata": {
            "needs_background": "light"
          },
          "output_type": "display_data"
        }
      ],
      "source": [
        "# Histogram of TotalCredit Column\n",
        "oaf.TotalCredit.plot.hist()"
      ]
    },
    {
      "cell_type": "code",
      "execution_count": null,
      "metadata": {
        "id": "TL2yjZ-UxGxq",
        "outputId": "e23ea6a5-3cbb-4bef-fc08-e9d6a6881950"
      },
      "outputs": [
        {
          "data": {
            "text/plain": [
              "<AxesSubplot:ylabel='Frequency'>"
            ]
          },
          "execution_count": 62,
          "metadata": {},
          "output_type": "execute_result"
        },
        {
          "data": {
            "image/png": "[encoded data removed]",
            "text/plain": [
              "<Figure size 432x288 with 1 Axes>"
            ]
          },
          "metadata": {
            "needs_background": "light"
          },
          "output_type": "display_data"
        }
      ],
      "source": [
        "# Histogram of TotalPaid Column\n",
        "oaf.TotalPaid.plot.hist()"
      ]
    },
    {
      "cell_type": "code",
      "execution_count": null,
      "metadata": {
        "id": "JvK4Ni0mxGxq",
        "outputId": "ab8b2200-7820-402f-e577-2fb701115a9c"
      },
      "outputs": [
        {
          "data": {
            "text/plain": [
              "<AxesSubplot:ylabel='Frequency'>"
            ]
          },
          "execution_count": 68,
          "metadata": {},
          "output_type": "execute_result"
        },
        {
          "data": {
            "image/png": "[encoded data removed]",
            "text/plain": [
              "<Figure size 432x288 with 1 Axes>"
            ]
          },
          "metadata": {
            "needs_background": "light"
          },
          "output_type": "display_data"
        }
      ],
      "source": [
        "# Histogram of PercentagePaid\n",
        "oaf.PercentagePaid.plot.hist()"
      ]
    },
    {
      "cell_type": "code",
      "execution_count": null,
      "metadata": {
        "id": "DganAk4dxGxq",
        "outputId": "704c4079-b2a5-4cfc-91b0-46e76eea38e9"
      },
      "outputs": [
        {
          "data": {
            "text/plain": [
              "11.0"
            ]
          },
          "execution_count": 97,
          "metadata": {},
          "output_type": "execute_result"
        }
      ],
      "source": [
        "oaf.Group_NumberOfFarmers.median()"
      ]
    },
    {
      "cell_type": "code",
      "execution_count": null,
      "metadata": {
        "id": "TcMMhIj0xGxq",
        "outputId": "c87fc101-5c9e-45f4-a59c-be498499f92f"
      },
      "outputs": [
        {
          "data": {
            "text/plain": [
              "<AxesSubplot:>"
            ]
          },
          "execution_count": 92,
          "metadata": {},
          "output_type": "execute_result"
        },
        {
          "data": {
            "image/png": "[encoded data removed]",
            "text/plain": [
              "<Figure size 432x288 with 1 Axes>"
            ]
          },
          "metadata": {
            "needs_background": "light"
          },
          "output_type": "display_data"
        }
      ],
      "source": [
        "oaf.Group_NumberOfFarmers.hist()"
      ]
    },
    {
      "cell_type": "code",
      "execution_count": null,
      "metadata": {
        "id": "AHD0ajnpxGxr",
        "outputId": "5bd353a4-d089-40b6-bdb0-2a02e6971033"
      },
      "outputs": [
        {
          "data": {
            "text/plain": [
              "PercentagePaid\n",
              "-2.272727             1\n",
              " 0.495631             1\n",
              " 0.495625             1\n",
              " 0.495625             1\n",
              " 0.495624             1\n",
              "                  ...  \n",
              " 0.318218           384\n",
              " 0.279590           390\n",
              " 0.719424           412\n",
              " 2.000000          8003\n",
              " 1.000000         24920\n",
              "Length: 627145, dtype: int64"
            ]
          },
          "execution_count": 89,
          "metadata": {},
          "output_type": "execute_result"
        }
      ],
      "source": [
        "oaf[['PercentagePaid']].value_counts(ascending = True)"
      ]
    },
    {
      "cell_type": "code",
      "execution_count": null,
      "metadata": {
        "id": "XGf8axT-xGxr",
        "outputId": "f31b6217-66f8-434b-bd4b-6bc644360681"
      },
      "outputs": [
        {
          "data": {
            "text/html": [
              "<div>\n",
              "<style scoped>\n",
              "    .dataframe tbody tr th:only-of-type {\n",
              "        vertical-align: middle;\n",
              "    }\n",
              "\n",
              "    .dataframe tbody tr th {\n",
              "        vertical-align: top;\n",
              "    }\n",
              "\n",
              "    .dataframe thead th {\n",
              "        text-align: right;\n",
              "    }\n",
              "</style>\n",
              "<table border=\"1\" class=\"dataframe\">\n",
              "  <thead>\n",
              "    <tr style=\"text-align: right;\">\n",
              "      <th></th>\n",
              "      <th>TotalCredit</th>\n",
              "      <th>TotalPaid</th>\n",
              "      <th>PercentagePaid</th>\n",
              "      <th>MaximumPaymentAmount</th>\n",
              "      <th>Repaid</th>\n",
              "    </tr>\n",
              "  </thead>\n",
              "  <tbody>\n",
              "    <tr>\n",
              "      <th>0</th>\n",
              "      <td>7675.0</td>\n",
              "      <td>3450.0</td>\n",
              "      <td>0.449511</td>\n",
              "      <td>600.0</td>\n",
              "      <td>True</td>\n",
              "    </tr>\n",
              "    <tr>\n",
              "      <th>2</th>\n",
              "      <td>6185.0</td>\n",
              "      <td>3353.0</td>\n",
              "      <td>0.542118</td>\n",
              "      <td>1000.0</td>\n",
              "      <td>True</td>\n",
              "    </tr>\n",
              "    <tr>\n",
              "      <th>4</th>\n",
              "      <td>16470.0</td>\n",
              "      <td>6680.0</td>\n",
              "      <td>0.405586</td>\n",
              "      <td>1500.0</td>\n",
              "      <td>True</td>\n",
              "    </tr>\n",
              "    <tr>\n",
              "      <th>6</th>\n",
              "      <td>17465.0</td>\n",
              "      <td>4650.0</td>\n",
              "      <td>0.266247</td>\n",
              "      <td>1000.0</td>\n",
              "      <td>True</td>\n",
              "    </tr>\n",
              "    <tr>\n",
              "      <th>7</th>\n",
              "      <td>4285.0</td>\n",
              "      <td>2000.0</td>\n",
              "      <td>0.466744</td>\n",
              "      <td>1000.0</td>\n",
              "      <td>True</td>\n",
              "    </tr>\n",
              "    <tr>\n",
              "      <th>...</th>\n",
              "      <td>...</td>\n",
              "      <td>...</td>\n",
              "      <td>...</td>\n",
              "      <td>...</td>\n",
              "      <td>...</td>\n",
              "    </tr>\n",
              "    <tr>\n",
              "      <th>2133602</th>\n",
              "      <td>6575.0</td>\n",
              "      <td>3400.0</td>\n",
              "      <td>0.517110</td>\n",
              "      <td>1500.0</td>\n",
              "      <td>True</td>\n",
              "    </tr>\n",
              "    <tr>\n",
              "      <th>2133603</th>\n",
              "      <td>4750.0</td>\n",
              "      <td>4750.0</td>\n",
              "      <td>1.000000</td>\n",
              "      <td>1400.0</td>\n",
              "      <td>True</td>\n",
              "    </tr>\n",
              "    <tr>\n",
              "      <th>2133605</th>\n",
              "      <td>7275.0</td>\n",
              "      <td>3830.0</td>\n",
              "      <td>0.526460</td>\n",
              "      <td>600.0</td>\n",
              "      <td>True</td>\n",
              "    </tr>\n",
              "    <tr>\n",
              "      <th>2133606</th>\n",
              "      <td>10985.0</td>\n",
              "      <td>2850.0</td>\n",
              "      <td>0.259445</td>\n",
              "      <td>500.0</td>\n",
              "      <td>True</td>\n",
              "    </tr>\n",
              "    <tr>\n",
              "      <th>2133611</th>\n",
              "      <td>6185.0</td>\n",
              "      <td>1700.0</td>\n",
              "      <td>0.274859</td>\n",
              "      <td>500.0</td>\n",
              "      <td>True</td>\n",
              "    </tr>\n",
              "  </tbody>\n",
              "</table>\n",
              "<p>781284 rows × 5 columns</p>\n",
              "</div>"
            ],
            "text/plain": [
              "         TotalCredit  TotalPaid  PercentagePaid  MaximumPaymentAmount  Repaid\n",
              "0             7675.0     3450.0        0.449511                 600.0    True\n",
              "2             6185.0     3353.0        0.542118                1000.0    True\n",
              "4            16470.0     6680.0        0.405586                1500.0    True\n",
              "6            17465.0     4650.0        0.266247                1000.0    True\n",
              "7             4285.0     2000.0        0.466744                1000.0    True\n",
              "...              ...        ...             ...                   ...     ...\n",
              "2133602       6575.0     3400.0        0.517110                1500.0    True\n",
              "2133603       4750.0     4750.0        1.000000                1400.0    True\n",
              "2133605       7275.0     3830.0        0.526460                 600.0    True\n",
              "2133606      10985.0     2850.0        0.259445                 500.0    True\n",
              "2133611       6185.0     1700.0        0.274859                 500.0    True\n",
              "\n",
              "[781284 rows x 5 columns]"
            ]
          },
          "execution_count": 102,
          "metadata": {},
          "output_type": "execute_result"
        }
      ],
      "source": [
        "# Comparison view of some of the columns when Repaid is True\n",
        "oaf[oaf['Repaid']==True][['TotalCredit','TotalPaid','PercentagePaid','MaximumPaymentAmount','Repaid']]"
      ]
    },
    {
      "cell_type": "code",
      "execution_count": null,
      "metadata": {
        "id": "DYWughdDxGxr",
        "outputId": "e4ea2d4a-f460-406e-f2b1-dff66999f341"
      },
      "outputs": [
        {
          "data": {
            "text/html": [
              "<div>\n",
              "<style scoped>\n",
              "    .dataframe tbody tr th:only-of-type {\n",
              "        vertical-align: middle;\n",
              "    }\n",
              "\n",
              "    .dataframe tbody tr th {\n",
              "        vertical-align: top;\n",
              "    }\n",
              "\n",
              "    .dataframe thead th {\n",
              "        text-align: right;\n",
              "    }\n",
              "</style>\n",
              "<table border=\"1\" class=\"dataframe\">\n",
              "  <thead>\n",
              "    <tr style=\"text-align: right;\">\n",
              "      <th></th>\n",
              "      <th>TotalCredit</th>\n",
              "      <th>TotalPaid</th>\n",
              "      <th>PercentagePaid</th>\n",
              "      <th>MaximumPaymentAmount</th>\n",
              "      <th>Repaid</th>\n",
              "    </tr>\n",
              "  </thead>\n",
              "  <tbody>\n",
              "    <tr>\n",
              "      <th>284</th>\n",
              "      <td>14650.0</td>\n",
              "      <td>4950.0</td>\n",
              "      <td>0.337884</td>\n",
              "      <td>1000.0</td>\n",
              "      <td>False</td>\n",
              "    </tr>\n",
              "    <tr>\n",
              "      <th>352</th>\n",
              "      <td>6145.0</td>\n",
              "      <td>2200.0</td>\n",
              "      <td>0.358015</td>\n",
              "      <td>500.0</td>\n",
              "      <td>False</td>\n",
              "    </tr>\n",
              "    <tr>\n",
              "      <th>414</th>\n",
              "      <td>14175.0</td>\n",
              "      <td>6000.0</td>\n",
              "      <td>0.423280</td>\n",
              "      <td>2100.0</td>\n",
              "      <td>False</td>\n",
              "    </tr>\n",
              "    <tr>\n",
              "      <th>458</th>\n",
              "      <td>9320.0</td>\n",
              "      <td>2000.0</td>\n",
              "      <td>0.214592</td>\n",
              "      <td>600.0</td>\n",
              "      <td>False</td>\n",
              "    </tr>\n",
              "    <tr>\n",
              "      <th>488</th>\n",
              "      <td>17875.0</td>\n",
              "      <td>4870.0</td>\n",
              "      <td>0.272448</td>\n",
              "      <td>505.0</td>\n",
              "      <td>False</td>\n",
              "    </tr>\n",
              "    <tr>\n",
              "      <th>...</th>\n",
              "      <td>...</td>\n",
              "      <td>...</td>\n",
              "      <td>...</td>\n",
              "      <td>...</td>\n",
              "      <td>...</td>\n",
              "    </tr>\n",
              "    <tr>\n",
              "      <th>2132041</th>\n",
              "      <td>12670.0</td>\n",
              "      <td>2000.0</td>\n",
              "      <td>0.157853</td>\n",
              "      <td>800.0</td>\n",
              "      <td>False</td>\n",
              "    </tr>\n",
              "    <tr>\n",
              "      <th>2132044</th>\n",
              "      <td>5266.0</td>\n",
              "      <td>6208.0</td>\n",
              "      <td>1.178883</td>\n",
              "      <td>2000.0</td>\n",
              "      <td>False</td>\n",
              "    </tr>\n",
              "    <tr>\n",
              "      <th>2132045</th>\n",
              "      <td>5266.0</td>\n",
              "      <td>6208.0</td>\n",
              "      <td>1.178883</td>\n",
              "      <td>2000.0</td>\n",
              "      <td>False</td>\n",
              "    </tr>\n",
              "    <tr>\n",
              "      <th>2132114</th>\n",
              "      <td>10385.0</td>\n",
              "      <td>1670.0</td>\n",
              "      <td>0.160809</td>\n",
              "      <td>300.0</td>\n",
              "      <td>False</td>\n",
              "    </tr>\n",
              "    <tr>\n",
              "      <th>2132307</th>\n",
              "      <td>7160.0</td>\n",
              "      <td>2800.0</td>\n",
              "      <td>0.391061</td>\n",
              "      <td>500.0</td>\n",
              "      <td>False</td>\n",
              "    </tr>\n",
              "  </tbody>\n",
              "</table>\n",
              "<p>387479 rows × 5 columns</p>\n",
              "</div>"
            ],
            "text/plain": [
              "         TotalCredit  TotalPaid  PercentagePaid  MaximumPaymentAmount  Repaid\n",
              "284          14650.0     4950.0        0.337884                1000.0   False\n",
              "352           6145.0     2200.0        0.358015                 500.0   False\n",
              "414          14175.0     6000.0        0.423280                2100.0   False\n",
              "458           9320.0     2000.0        0.214592                 600.0   False\n",
              "488          17875.0     4870.0        0.272448                 505.0   False\n",
              "...              ...        ...             ...                   ...     ...\n",
              "2132041      12670.0     2000.0        0.157853                 800.0   False\n",
              "2132044       5266.0     6208.0        1.178883                2000.0   False\n",
              "2132045       5266.0     6208.0        1.178883                2000.0   False\n",
              "2132114      10385.0     1670.0        0.160809                 300.0   False\n",
              "2132307       7160.0     2800.0        0.391061                 500.0   False\n",
              "\n",
              "[387479 rows x 5 columns]"
            ]
          },
          "execution_count": 103,
          "metadata": {},
          "output_type": "execute_result"
        }
      ],
      "source": [
        "# Comparison view of some of the columns when Repaid is False\n",
        "oaf[oaf['Repaid']==False][['TotalCredit','TotalPaid','PercentagePaid','MaximumPaymentAmount','Repaid']]"
      ]
    },
    {
      "cell_type": "code",
      "execution_count": null,
      "metadata": {
        "id": "Nm8D7Xb_xGxs",
        "outputId": "88ba0047-806f-46eb-f012-337ca198b65a"
      },
      "outputs": [
        {
          "data": {
            "text/plain": [
              "Index(['DimSeasonID', 'CountryName', 'SeasonName', 'Facilitator',\n",
              "       'DimClientID', 'DimGroupID', 'DimSiteID', 'DimDistrictID',\n",
              "       'TotalCredit', 'OperationalYear', 'CreatedDate', 'HasPhone',\n",
              "       'Facilitator_SeasonNumber', 'Site_TotalCredit', 'Site_NumberOfFarmers',\n",
              "       'Group_TotalCredit', 'Group_MaxSeasonNumber', 'Group_NumberOfFarmers',\n",
              "       'SeasonsAsFacilitator', 'NumberOfPreviousSeasonsDropped',\n",
              "       'SeasonNumber', 'DimCountryID', 'Fertilizer', 'Travertine', 'TreeKit',\n",
              "       'Training', 'Solar', 'Insurance', 'Safety', 'PostHarvest', 'Maize',\n",
              "       'JiT', 'InputKGs', 'VeggieSeed', 'BeanSeed', 'Chicken', 'Phone',\n",
              "       'NumberUndeliveredInput', 'NumberDeliveredInput', 'Active',\n",
              "       'DaysToSeasonEnd', 'Repaid', 'MaximumPaymentAmount',\n",
              "       'AveragePaymentAmount', 'TotalPaid', 'PercentagePaid',\n",
              "       'DistinctRepaymentPhoneNumbers'],\n",
              "      dtype='object')"
            ]
          },
          "execution_count": 72,
          "metadata": {},
          "output_type": "execute_result"
        }
      ],
      "source": [
        "oaf.columns"
      ]
    },
    {
      "cell_type": "code",
      "execution_count": null,
      "metadata": {
        "id": "o5hj7VZ4xGxs",
        "outputId": "5dfe2a7f-7289-4053-aa73-2d716c297e24"
      },
      "outputs": [
        {
          "data": {
            "text/plain": [
              "Text(0, 0.5, 'Repayment Frequency')"
            ]
          },
          "execution_count": 106,
          "metadata": {},
          "output_type": "execute_result"
        },
        {
          "data": {
            "image/png": "[encoded data removed]",
            "text/plain": [
              "<Figure size 1440x432 with 1 Axes>"
            ]
          },
          "metadata": {
            "needs_background": "light"
          },
          "output_type": "display_data"
        }
      ],
      "source": [
        "# Comparison of Number of Previous Seasons Dropped and Repaid Column\n",
        "pd.crosstab(oaf.NumberOfPreviousSeasonsDropped,oaf.Repaid).plot(kind='bar',figsize=(20,6))\n",
        "plt.title('Repayment Frequency vs Number of Previous Seasons Dropped')\n",
        "plt.xlabel('Number of Previous Seasons Dropped')\n",
        "plt.ylabel('Repayment Frequency')"
      ]
    },
    {
      "cell_type": "code",
      "execution_count": null,
      "metadata": {
        "id": "sfL3v6NOxGxt",
        "outputId": "19dda128-9d7e-4fa9-c1f0-5e9948ff231d"
      },
      "outputs": [
        {
          "data": {
            "text/plain": [
              "Text(0, 0.5, 'Repayment Frequency')"
            ]
          },
          "execution_count": 105,
          "metadata": {},
          "output_type": "execute_result"
        },
        {
          "data": {
            "image/png": "[encoded data removed]",
            "text/plain": [
              "<Figure size 1440x432 with 1 Axes>"
            ]
          },
          "metadata": {
            "needs_background": "light"
          },
          "output_type": "display_data"
        }
      ],
      "source": [
        "# Comparison of Seasons as Facilitor and Repaid Column\n",
        "pd.crosstab(oaf.SeasonsAsFacilitator,oaf.Repaid).plot(kind='bar',figsize=(20,6))\n",
        "plt.title('Repayment Frequency vs Seasons as Facilitator')\n",
        "plt.xlabel('Number of Seasons as Facilitator')\n",
        "plt.ylabel('Repayment Frequency')"
      ]
    },
    {
      "cell_type": "code",
      "execution_count": null,
      "metadata": {
        "id": "Q-uGKC3gxGxt",
        "outputId": "b89c2536-30b3-41c0-d39b-9bdcaf0f75ba"
      },
      "outputs": [
        {
          "data": {
            "text/plain": [
              "Text(0, 0.5, 'Repayment Frequency')"
            ]
          },
          "execution_count": 87,
          "metadata": {},
          "output_type": "execute_result"
        },
        {
          "data": {
            "image/png": "[encoded data removed]",
            "text/plain": [
              "<Figure size 1440x432 with 1 Axes>"
            ]
          },
          "metadata": {
            "needs_background": "light"
          },
          "output_type": "display_data"
        }
      ],
      "source": [
        "# Comparison between NumberUndeliveredInput column and Repaid column\n",
        "pd.crosstab(oaf.NumberUndeliveredInput,oaf.Repaid).plot(kind='bar',figsize=(20,6))\n",
        "plt.title('Repayment Frequency per Number of Undelivered Input')\n",
        "plt.xlabel('Number of Undelivered Input')\n",
        "plt.ylabel('Repayment Frequency')"
      ]
    },
    {
      "cell_type": "code",
      "execution_count": null,
      "metadata": {
        "id": "VZwm81qOxGxt",
        "outputId": "e87643a5-be47-4bd5-ebab-6b57d999f6d7"
      },
      "outputs": [
        {
          "data": {
            "text/plain": [
              "Text(0, 0.5, 'Repayment Frequency')"
            ]
          },
          "execution_count": 107,
          "metadata": {},
          "output_type": "execute_result"
        },
        {
          "data": {
            "image/png": "[encoded data removed]",
            "text/plain": [
              "<Figure size 1440x720 with 1 Axes>"
            ]
          },
          "metadata": {
            "needs_background": "light"
          },
          "output_type": "display_data"
        }
      ],
      "source": [
        "# Comparison between NumberDeliveredInput column and Repaid column\n",
        "pd.crosstab(oaf.NumberDeliveredInput,oaf.Repaid).plot(kind = 'bar',figsize = (20,10))\n",
        "plt.title('Repayment Frequency per Number of Delivered Input')\n",
        "plt.xlabel('Number of Delivered Input')\n",
        "plt.ylabel('Repayment Frequency')"
      ]
    },
    {
      "cell_type": "code",
      "execution_count": null,
      "metadata": {
        "id": "jV8MoAz0xGxu",
        "outputId": "b8dd9d2c-0a7b-42da-a1de-6beb118f722f"
      },
      "outputs": [
        {
          "data": {
            "text/plain": [
              "<AxesSubplot:>"
            ]
          },
          "execution_count": 99,
          "metadata": {},
          "output_type": "execute_result"
        },
        {
          "data": {
            "image/png": "[encoded data removed]",
            "text/plain": [
              "<Figure size 432x288 with 1 Axes>"
            ]
          },
          "metadata": {
            "needs_background": "light"
          },
          "output_type": "display_data"
        }
      ],
      "source": [
        "oaf.Group_MaxSeasonNumber.hist()"
      ]
    },
    {
      "cell_type": "code",
      "execution_count": null,
      "metadata": {
        "id": "sYLVePB3xGxu",
        "outputId": "92b226e5-91f6-4499-f843-06c1bb0c269e"
      },
      "outputs": [
        {
          "data": {
            "image/png": "[encoded data removed]",
            "text/plain": [
              "<Figure size 720x432 with 1 Axes>"
            ]
          },
          "metadata": {
            "needs_background": "light"
          },
          "output_type": "display_data"
        }
      ],
      "source": [
        "pd.crosstab(oaf.Repaid,oaf.Group_MaxSeasonNumber).plot(kind='bar',figsize=(10,6))\n",
        "plt.title('Repayment per Maximum number of Seasons')\n",
        "plt.xlabel('Repayment')\n",
        "plt.ylabel('Group_MaxSeasonNumber')\n",
        "plt.xticks(rotation=0);"
      ]
    },
    {
      "cell_type": "code",
      "execution_count": null,
      "metadata": {
        "id": "FFkq4wDxxGxu"
      },
      "outputs": [],
      "source": [
        "\n",
        "oaf[oaf['Repaid']==False][['Group_MaxSeasonNumber','Group_NumberOfFarmers','PercentagePaid','MaximumPaymentAmount','Repaid']]"
      ]
    },
    {
      "cell_type": "code",
      "execution_count": null,
      "metadata": {
        "id": "OeGY_vXxxGxu",
        "outputId": "487b9295-dee6-4365-c09c-54f4906fdd11"
      },
      "outputs": [
        {
          "data": {
            "text/html": [
              "<div>\n",
              "<style scoped>\n",
              "    .dataframe tbody tr th:only-of-type {\n",
              "        vertical-align: middle;\n",
              "    }\n",
              "\n",
              "    .dataframe tbody tr th {\n",
              "        vertical-align: top;\n",
              "    }\n",
              "\n",
              "    .dataframe thead th {\n",
              "        text-align: right;\n",
              "    }\n",
              "</style>\n",
              "<table border=\"1\" class=\"dataframe\">\n",
              "  <thead>\n",
              "    <tr style=\"text-align: right;\">\n",
              "      <th></th>\n",
              "      <th>DimSeasonID</th>\n",
              "      <th>Facilitator</th>\n",
              "      <th>DimClientID</th>\n",
              "      <th>DimGroupID</th>\n",
              "      <th>DimSiteID</th>\n",
              "      <th>DimDistrictID</th>\n",
              "      <th>TotalCredit</th>\n",
              "      <th>OperationalYear</th>\n",
              "      <th>HasPhone</th>\n",
              "      <th>Facilitator_SeasonNumber</th>\n",
              "      <th>...</th>\n",
              "      <th>InputKGs</th>\n",
              "      <th>NumberUndeliveredInput</th>\n",
              "      <th>NumberDeliveredInput</th>\n",
              "      <th>DaysToSeasonEnd</th>\n",
              "      <th>Repaid</th>\n",
              "      <th>MaximumPaymentAmount</th>\n",
              "      <th>AveragePaymentAmount</th>\n",
              "      <th>TotalPaid</th>\n",
              "      <th>PercentagePaid</th>\n",
              "      <th>DistinctRepaymentPhoneNumbers</th>\n",
              "    </tr>\n",
              "  </thead>\n",
              "  <tbody>\n",
              "    <tr>\n",
              "      <th>DimSeasonID</th>\n",
              "      <td>1.000000</td>\n",
              "      <td>-0.021340</td>\n",
              "      <td>2.664120e-01</td>\n",
              "      <td>0.221033</td>\n",
              "      <td>0.138070</td>\n",
              "      <td>0.078590</td>\n",
              "      <td>-0.019799</td>\n",
              "      <td>0.752290</td>\n",
              "      <td>-6.262421e-05</td>\n",
              "      <td>0.236750</td>\n",
              "      <td>...</td>\n",
              "      <td>-0.053322</td>\n",
              "      <td>-0.001434</td>\n",
              "      <td>-0.096915</td>\n",
              "      <td>0.053605</td>\n",
              "      <td>-0.835623</td>\n",
              "      <td>-0.041427</td>\n",
              "      <td>-0.026678</td>\n",
              "      <td>-0.071369</td>\n",
              "      <td>-0.034753</td>\n",
              "      <td>0.541098</td>\n",
              "    </tr>\n",
              "    <tr>\n",
              "      <th>Facilitator</th>\n",
              "      <td>-0.021340</td>\n",
              "      <td>1.000000</td>\n",
              "      <td>-3.393672e-02</td>\n",
              "      <td>0.016402</td>\n",
              "      <td>0.007228</td>\n",
              "      <td>0.005326</td>\n",
              "      <td>0.153402</td>\n",
              "      <td>-0.006904</td>\n",
              "      <td>-9.499697e-05</td>\n",
              "      <td>-0.042910</td>\n",
              "      <td>...</td>\n",
              "      <td>0.005094</td>\n",
              "      <td>0.242654</td>\n",
              "      <td>0.306799</td>\n",
              "      <td>0.019733</td>\n",
              "      <td>0.015868</td>\n",
              "      <td>0.016632</td>\n",
              "      <td>-0.029279</td>\n",
              "      <td>0.104457</td>\n",
              "      <td>0.004309</td>\n",
              "      <td>0.036679</td>\n",
              "    </tr>\n",
              "    <tr>\n",
              "      <th>DimClientID</th>\n",
              "      <td>0.266412</td>\n",
              "      <td>-0.033937</td>\n",
              "      <td>1.000000e+00</td>\n",
              "      <td>0.167202</td>\n",
              "      <td>0.128485</td>\n",
              "      <td>0.101568</td>\n",
              "      <td>-0.052963</td>\n",
              "      <td>0.200011</td>\n",
              "      <td>4.646071e-07</td>\n",
              "      <td>-0.021272</td>\n",
              "      <td>...</td>\n",
              "      <td>-0.012751</td>\n",
              "      <td>-0.018262</td>\n",
              "      <td>-0.081254</td>\n",
              "      <td>0.040047</td>\n",
              "      <td>-0.227947</td>\n",
              "      <td>-0.045727</td>\n",
              "      <td>-0.038250</td>\n",
              "      <td>-0.037766</td>\n",
              "      <td>0.002365</td>\n",
              "      <td>0.152222</td>\n",
              "    </tr>\n",
              "    <tr>\n",
              "      <th>DimGroupID</th>\n",
              "      <td>0.221033</td>\n",
              "      <td>0.016402</td>\n",
              "      <td>1.672020e-01</td>\n",
              "      <td>1.000000</td>\n",
              "      <td>0.799908</td>\n",
              "      <td>0.649504</td>\n",
              "      <td>0.025628</td>\n",
              "      <td>0.357823</td>\n",
              "      <td>1.834270e-04</td>\n",
              "      <td>-0.437315</td>\n",
              "      <td>...</td>\n",
              "      <td>0.000181</td>\n",
              "      <td>-0.034049</td>\n",
              "      <td>-0.022188</td>\n",
              "      <td>-0.091431</td>\n",
              "      <td>-0.270812</td>\n",
              "      <td>0.013560</td>\n",
              "      <td>0.019183</td>\n",
              "      <td>-0.130066</td>\n",
              "      <td>-0.157946</td>\n",
              "      <td>0.228719</td>\n",
              "    </tr>\n",
              "    <tr>\n",
              "      <th>DimSiteID</th>\n",
              "      <td>0.138070</td>\n",
              "      <td>0.007228</td>\n",
              "      <td>1.284851e-01</td>\n",
              "      <td>0.799908</td>\n",
              "      <td>1.000000</td>\n",
              "      <td>0.802508</td>\n",
              "      <td>0.059749</td>\n",
              "      <td>0.247064</td>\n",
              "      <td>-9.871260e-05</td>\n",
              "      <td>-0.420546</td>\n",
              "      <td>...</td>\n",
              "      <td>0.001759</td>\n",
              "      <td>-0.010757</td>\n",
              "      <td>-0.019900</td>\n",
              "      <td>-0.134123</td>\n",
              "      <td>-0.209540</td>\n",
              "      <td>0.022057</td>\n",
              "      <td>0.008264</td>\n",
              "      <td>-0.131795</td>\n",
              "      <td>-0.191454</td>\n",
              "      <td>0.175854</td>\n",
              "    </tr>\n",
              "    <tr>\n",
              "      <th>DimDistrictID</th>\n",
              "      <td>0.078590</td>\n",
              "      <td>0.005326</td>\n",
              "      <td>1.015681e-01</td>\n",
              "      <td>0.649504</td>\n",
              "      <td>0.802508</td>\n",
              "      <td>1.000000</td>\n",
              "      <td>0.063406</td>\n",
              "      <td>0.173108</td>\n",
              "      <td>-2.073473e-04</td>\n",
              "      <td>-0.417291</td>\n",
              "      <td>...</td>\n",
              "      <td>0.020203</td>\n",
              "      <td>0.006212</td>\n",
              "      <td>-0.032040</td>\n",
              "      <td>-0.167381</td>\n",
              "      <td>-0.154455</td>\n",
              "      <td>0.043274</td>\n",
              "      <td>0.020859</td>\n",
              "      <td>-0.107048</td>\n",
              "      <td>-0.178586</td>\n",
              "      <td>0.108048</td>\n",
              "    </tr>\n",
              "    <tr>\n",
              "      <th>TotalCredit</th>\n",
              "      <td>-0.019799</td>\n",
              "      <td>0.153402</td>\n",
              "      <td>-5.296277e-02</td>\n",
              "      <td>0.025628</td>\n",
              "      <td>0.059749</td>\n",
              "      <td>0.063406</td>\n",
              "      <td>1.000000</td>\n",
              "      <td>-0.018495</td>\n",
              "      <td>-5.628067e-04</td>\n",
              "      <td>0.018174</td>\n",
              "      <td>...</td>\n",
              "      <td>0.032155</td>\n",
              "      <td>0.106088</td>\n",
              "      <td>0.368056</td>\n",
              "      <td>-0.124653</td>\n",
              "      <td>-0.012710</td>\n",
              "      <td>0.421346</td>\n",
              "      <td>0.276611</td>\n",
              "      <td>0.494387</td>\n",
              "      <td>-0.174023</td>\n",
              "      <td>0.014927</td>\n",
              "    </tr>\n",
              "    <tr>\n",
              "      <th>OperationalYear</th>\n",
              "      <td>0.752290</td>\n",
              "      <td>-0.006904</td>\n",
              "      <td>2.000114e-01</td>\n",
              "      <td>0.357823</td>\n",
              "      <td>0.247064</td>\n",
              "      <td>0.173108</td>\n",
              "      <td>-0.018495</td>\n",
              "      <td>1.000000</td>\n",
              "      <td>2.604624e-04</td>\n",
              "      <td>0.242817</td>\n",
              "      <td>...</td>\n",
              "      <td>-0.017205</td>\n",
              "      <td>-0.070075</td>\n",
              "      <td>0.035996</td>\n",
              "      <td>0.001673</td>\n",
              "      <td>-0.677589</td>\n",
              "      <td>-0.037024</td>\n",
              "      <td>-0.021389</td>\n",
              "      <td>-0.103310</td>\n",
              "      <td>-0.071279</td>\n",
              "      <td>0.577327</td>\n",
              "    </tr>\n",
              "    <tr>\n",
              "      <th>HasPhone</th>\n",
              "      <td>-0.000063</td>\n",
              "      <td>-0.000095</td>\n",
              "      <td>4.646071e-07</td>\n",
              "      <td>0.000183</td>\n",
              "      <td>-0.000099</td>\n",
              "      <td>-0.000207</td>\n",
              "      <td>-0.000563</td>\n",
              "      <td>0.000260</td>\n",
              "      <td>1.000000e+00</td>\n",
              "      <td>-0.000417</td>\n",
              "      <td>...</td>\n",
              "      <td>0.000186</td>\n",
              "      <td>-0.000669</td>\n",
              "      <td>-0.000403</td>\n",
              "      <td>-0.000164</td>\n",
              "      <td>-0.000110</td>\n",
              "      <td>-0.000038</td>\n",
              "      <td>0.000059</td>\n",
              "      <td>0.000169</td>\n",
              "      <td>0.000585</td>\n",
              "      <td>0.000970</td>\n",
              "    </tr>\n",
              "    <tr>\n",
              "      <th>Facilitator_SeasonNumber</th>\n",
              "      <td>0.236750</td>\n",
              "      <td>-0.042910</td>\n",
              "      <td>-2.127194e-02</td>\n",
              "      <td>-0.437315</td>\n",
              "      <td>-0.420546</td>\n",
              "      <td>-0.417291</td>\n",
              "      <td>0.018174</td>\n",
              "      <td>0.242817</td>\n",
              "      <td>-4.170292e-04</td>\n",
              "      <td>1.000000</td>\n",
              "      <td>...</td>\n",
              "      <td>0.004873</td>\n",
              "      <td>-0.020632</td>\n",
              "      <td>0.076182</td>\n",
              "      <td>0.066281</td>\n",
              "      <td>-0.129063</td>\n",
              "      <td>0.018770</td>\n",
              "      <td>0.029112</td>\n",
              "      <td>0.135140</td>\n",
              "      <td>0.136570</td>\n",
              "      <td>0.136875</td>\n",
              "    </tr>\n",
              "    <tr>\n",
              "      <th>Site_TotalCredit</th>\n",
              "      <td>0.067246</td>\n",
              "      <td>-0.047172</td>\n",
              "      <td>-6.661007e-03</td>\n",
              "      <td>-0.058159</td>\n",
              "      <td>-0.034981</td>\n",
              "      <td>0.001356</td>\n",
              "      <td>0.161861</td>\n",
              "      <td>-0.050431</td>\n",
              "      <td>-6.832519e-04</td>\n",
              "      <td>0.086284</td>\n",
              "      <td>...</td>\n",
              "      <td>-0.017554</td>\n",
              "      <td>0.064436</td>\n",
              "      <td>0.160423</td>\n",
              "      <td>0.078111</td>\n",
              "      <td>-0.005145</td>\n",
              "      <td>0.060215</td>\n",
              "      <td>0.002253</td>\n",
              "      <td>0.098133</td>\n",
              "      <td>-0.020760</td>\n",
              "      <td>-0.055023</td>\n",
              "    </tr>\n",
              "    <tr>\n",
              "      <th>Site_NumberOfFarmers</th>\n",
              "      <td>0.117552</td>\n",
              "      <td>-0.047766</td>\n",
              "      <td>2.201810e-02</td>\n",
              "      <td>-0.123192</td>\n",
              "      <td>-0.128366</td>\n",
              "      <td>-0.095749</td>\n",
              "      <td>0.030588</td>\n",
              "      <td>-0.024563</td>\n",
              "      <td>-4.438560e-04</td>\n",
              "      <td>0.148786</td>\n",
              "      <td>...</td>\n",
              "      <td>-0.012425</td>\n",
              "      <td>0.058423</td>\n",
              "      <td>0.097758</td>\n",
              "      <td>0.144148</td>\n",
              "      <td>-0.033228</td>\n",
              "      <td>-0.016486</td>\n",
              "      <td>-0.060806</td>\n",
              "      <td>0.055787</td>\n",
              "      <td>0.027921</td>\n",
              "      <td>-0.033315</td>\n",
              "    </tr>\n",
              "    <tr>\n",
              "      <th>Group_TotalCredit</th>\n",
              "      <td>0.001367</td>\n",
              "      <td>-0.075108</td>\n",
              "      <td>-3.562271e-02</td>\n",
              "      <td>0.032209</td>\n",
              "      <td>0.082583</td>\n",
              "      <td>0.107114</td>\n",
              "      <td>0.261690</td>\n",
              "      <td>-0.007440</td>\n",
              "      <td>2.230395e-04</td>\n",
              "      <td>0.180566</td>\n",
              "      <td>...</td>\n",
              "      <td>0.109292</td>\n",
              "      <td>0.019898</td>\n",
              "      <td>0.044831</td>\n",
              "      <td>-0.568905</td>\n",
              "      <td>-0.018675</td>\n",
              "      <td>0.431679</td>\n",
              "      <td>0.576674</td>\n",
              "      <td>0.145942</td>\n",
              "      <td>-0.035169</td>\n",
              "      <td>-0.037232</td>\n",
              "    </tr>\n",
              "    <tr>\n",
              "      <th>Group_MaxSeasonNumber</th>\n",
              "      <td>0.274576</td>\n",
              "      <td>-0.036408</td>\n",
              "      <td>-1.332935e-02</td>\n",
              "      <td>-0.464817</td>\n",
              "      <td>-0.489930</td>\n",
              "      <td>-0.496981</td>\n",
              "      <td>-0.006289</td>\n",
              "      <td>0.288869</td>\n",
              "      <td>-4.492451e-04</td>\n",
              "      <td>0.876026</td>\n",
              "      <td>...</td>\n",
              "      <td>-0.009561</td>\n",
              "      <td>-0.034722</td>\n",
              "      <td>0.073499</td>\n",
              "      <td>0.106257</td>\n",
              "      <td>-0.156937</td>\n",
              "      <td>-0.010756</td>\n",
              "      <td>-0.013767</td>\n",
              "      <td>0.116817</td>\n",
              "      <td>0.137138</td>\n",
              "      <td>0.172069</td>\n",
              "    </tr>\n",
              "    <tr>\n",
              "      <th>Group_NumberOfFarmers</th>\n",
              "      <td>0.012347</td>\n",
              "      <td>-0.055651</td>\n",
              "      <td>1.587773e-03</td>\n",
              "      <td>0.067722</td>\n",
              "      <td>0.132273</td>\n",
              "      <td>0.182588</td>\n",
              "      <td>0.025036</td>\n",
              "      <td>0.034866</td>\n",
              "      <td>2.791661e-04</td>\n",
              "      <td>0.186798</td>\n",
              "      <td>...</td>\n",
              "      <td>0.169938</td>\n",
              "      <td>0.036520</td>\n",
              "      <td>-0.099910</td>\n",
              "      <td>-0.393882</td>\n",
              "      <td>-0.060378</td>\n",
              "      <td>0.097598</td>\n",
              "      <td>0.143915</td>\n",
              "      <td>-0.011749</td>\n",
              "      <td>-0.035273</td>\n",
              "      <td>-0.024798</td>\n",
              "    </tr>\n",
              "    <tr>\n",
              "      <th>SeasonsAsFacilitator</th>\n",
              "      <td>0.031248</td>\n",
              "      <td>0.756922</td>\n",
              "      <td>-3.669798e-02</td>\n",
              "      <td>-0.076882</td>\n",
              "      <td>-0.070149</td>\n",
              "      <td>-0.067560</td>\n",
              "      <td>0.162004</td>\n",
              "      <td>0.043407</td>\n",
              "      <td>3.319610e-04</td>\n",
              "      <td>0.152448</td>\n",
              "      <td>...</td>\n",
              "      <td>0.004976</td>\n",
              "      <td>0.175760</td>\n",
              "      <td>0.276850</td>\n",
              "      <td>0.024218</td>\n",
              "      <td>-0.013935</td>\n",
              "      <td>0.025825</td>\n",
              "      <td>-0.018875</td>\n",
              "      <td>0.132419</td>\n",
              "      <td>0.023870</td>\n",
              "      <td>0.064170</td>\n",
              "    </tr>\n",
              "    <tr>\n",
              "      <th>NumberOfPreviousSeasonsDropped</th>\n",
              "      <td>0.156726</td>\n",
              "      <td>-0.068066</td>\n",
              "      <td>-9.022717e-03</td>\n",
              "      <td>0.053133</td>\n",
              "      <td>0.023788</td>\n",
              "      <td>0.007289</td>\n",
              "      <td>-0.092575</td>\n",
              "      <td>0.174061</td>\n",
              "      <td>-6.261756e-03</td>\n",
              "      <td>0.018370</td>\n",
              "      <td>...</td>\n",
              "      <td>-0.017699</td>\n",
              "      <td>-0.033082</td>\n",
              "      <td>-0.083978</td>\n",
              "      <td>0.010552</td>\n",
              "      <td>-0.162624</td>\n",
              "      <td>-0.057026</td>\n",
              "      <td>-0.026159</td>\n",
              "      <td>-0.117043</td>\n",
              "      <td>-0.068283</td>\n",
              "      <td>0.109232</td>\n",
              "    </tr>\n",
              "    <tr>\n",
              "      <th>SeasonNumber</th>\n",
              "      <td>0.163338</td>\n",
              "      <td>0.185606</td>\n",
              "      <td>-1.120826e-01</td>\n",
              "      <td>-0.276288</td>\n",
              "      <td>-0.265312</td>\n",
              "      <td>-0.261064</td>\n",
              "      <td>0.154016</td>\n",
              "      <td>0.185519</td>\n",
              "      <td>3.239528e-04</td>\n",
              "      <td>0.562596</td>\n",
              "      <td>...</td>\n",
              "      <td>-0.003534</td>\n",
              "      <td>0.042439</td>\n",
              "      <td>0.217689</td>\n",
              "      <td>0.064742</td>\n",
              "      <td>-0.085113</td>\n",
              "      <td>0.052005</td>\n",
              "      <td>0.011257</td>\n",
              "      <td>0.184368</td>\n",
              "      <td>0.082736</td>\n",
              "      <td>0.122277</td>\n",
              "    </tr>\n",
              "    <tr>\n",
              "      <th>DimCountryID</th>\n",
              "      <td>NaN</td>\n",
              "      <td>NaN</td>\n",
              "      <td>NaN</td>\n",
              "      <td>NaN</td>\n",
              "      <td>NaN</td>\n",
              "      <td>NaN</td>\n",
              "      <td>NaN</td>\n",
              "      <td>NaN</td>\n",
              "      <td>NaN</td>\n",
              "      <td>NaN</td>\n",
              "      <td>...</td>\n",
              "      <td>NaN</td>\n",
              "      <td>NaN</td>\n",
              "      <td>NaN</td>\n",
              "      <td>NaN</td>\n",
              "      <td>NaN</td>\n",
              "      <td>NaN</td>\n",
              "      <td>NaN</td>\n",
              "      <td>NaN</td>\n",
              "      <td>NaN</td>\n",
              "      <td>NaN</td>\n",
              "    </tr>\n",
              "    <tr>\n",
              "      <th>InputKGs</th>\n",
              "      <td>-0.053322</td>\n",
              "      <td>0.005094</td>\n",
              "      <td>-1.275139e-02</td>\n",
              "      <td>0.000181</td>\n",
              "      <td>0.001759</td>\n",
              "      <td>0.020203</td>\n",
              "      <td>0.032155</td>\n",
              "      <td>-0.017205</td>\n",
              "      <td>1.862896e-04</td>\n",
              "      <td>0.004873</td>\n",
              "      <td>...</td>\n",
              "      <td>1.000000</td>\n",
              "      <td>-0.004376</td>\n",
              "      <td>0.010414</td>\n",
              "      <td>-0.069617</td>\n",
              "      <td>0.037073</td>\n",
              "      <td>0.056421</td>\n",
              "      <td>0.080572</td>\n",
              "      <td>0.022350</td>\n",
              "      <td>-0.006878</td>\n",
              "      <td>-0.081251</td>\n",
              "    </tr>\n",
              "    <tr>\n",
              "      <th>NumberUndeliveredInput</th>\n",
              "      <td>-0.001434</td>\n",
              "      <td>0.242654</td>\n",
              "      <td>-1.826174e-02</td>\n",
              "      <td>-0.034049</td>\n",
              "      <td>-0.010757</td>\n",
              "      <td>0.006212</td>\n",
              "      <td>0.106088</td>\n",
              "      <td>-0.070075</td>\n",
              "      <td>-6.691374e-04</td>\n",
              "      <td>-0.020632</td>\n",
              "      <td>...</td>\n",
              "      <td>-0.004376</td>\n",
              "      <td>1.000000</td>\n",
              "      <td>0.016285</td>\n",
              "      <td>0.013191</td>\n",
              "      <td>0.008330</td>\n",
              "      <td>0.026717</td>\n",
              "      <td>-0.007005</td>\n",
              "      <td>0.085247</td>\n",
              "      <td>0.012277</td>\n",
              "      <td>-0.058544</td>\n",
              "    </tr>\n",
              "    <tr>\n",
              "      <th>NumberDeliveredInput</th>\n",
              "      <td>-0.096915</td>\n",
              "      <td>0.306799</td>\n",
              "      <td>-8.125448e-02</td>\n",
              "      <td>-0.022188</td>\n",
              "      <td>-0.019900</td>\n",
              "      <td>-0.032040</td>\n",
              "      <td>0.368056</td>\n",
              "      <td>0.035996</td>\n",
              "      <td>-4.029195e-04</td>\n",
              "      <td>0.076182</td>\n",
              "      <td>...</td>\n",
              "      <td>0.010414</td>\n",
              "      <td>0.016285</td>\n",
              "      <td>1.000000</td>\n",
              "      <td>0.017842</td>\n",
              "      <td>0.101322</td>\n",
              "      <td>0.119333</td>\n",
              "      <td>0.029910</td>\n",
              "      <td>0.232111</td>\n",
              "      <td>-0.040247</td>\n",
              "      <td>-0.068026</td>\n",
              "    </tr>\n",
              "    <tr>\n",
              "      <th>DaysToSeasonEnd</th>\n",
              "      <td>0.053605</td>\n",
              "      <td>0.019733</td>\n",
              "      <td>4.004691e-02</td>\n",
              "      <td>-0.091431</td>\n",
              "      <td>-0.134123</td>\n",
              "      <td>-0.167381</td>\n",
              "      <td>-0.124653</td>\n",
              "      <td>0.001673</td>\n",
              "      <td>-1.640860e-04</td>\n",
              "      <td>0.066281</td>\n",
              "      <td>...</td>\n",
              "      <td>-0.069617</td>\n",
              "      <td>0.013191</td>\n",
              "      <td>0.017842</td>\n",
              "      <td>1.000000</td>\n",
              "      <td>0.001860</td>\n",
              "      <td>-0.291790</td>\n",
              "      <td>-0.413357</td>\n",
              "      <td>-0.035008</td>\n",
              "      <td>0.031946</td>\n",
              "      <td>0.032196</td>\n",
              "    </tr>\n",
              "    <tr>\n",
              "      <th>Repaid</th>\n",
              "      <td>-0.835623</td>\n",
              "      <td>0.015868</td>\n",
              "      <td>-2.279469e-01</td>\n",
              "      <td>-0.270812</td>\n",
              "      <td>-0.209540</td>\n",
              "      <td>-0.154455</td>\n",
              "      <td>-0.012710</td>\n",
              "      <td>-0.677589</td>\n",
              "      <td>-1.103463e-04</td>\n",
              "      <td>-0.129063</td>\n",
              "      <td>...</td>\n",
              "      <td>0.037073</td>\n",
              "      <td>0.008330</td>\n",
              "      <td>0.101322</td>\n",
              "      <td>0.001860</td>\n",
              "      <td>1.000000</td>\n",
              "      <td>0.088157</td>\n",
              "      <td>0.048833</td>\n",
              "      <td>0.159899</td>\n",
              "      <td>0.178745</td>\n",
              "      <td>-0.477505</td>\n",
              "    </tr>\n",
              "    <tr>\n",
              "      <th>MaximumPaymentAmount</th>\n",
              "      <td>-0.041427</td>\n",
              "      <td>0.016632</td>\n",
              "      <td>-4.572698e-02</td>\n",
              "      <td>0.013560</td>\n",
              "      <td>0.022057</td>\n",
              "      <td>0.043274</td>\n",
              "      <td>0.421346</td>\n",
              "      <td>-0.037024</td>\n",
              "      <td>-3.802767e-05</td>\n",
              "      <td>0.018770</td>\n",
              "      <td>...</td>\n",
              "      <td>0.056421</td>\n",
              "      <td>0.026717</td>\n",
              "      <td>0.119333</td>\n",
              "      <td>-0.291790</td>\n",
              "      <td>0.088157</td>\n",
              "      <td>1.000000</td>\n",
              "      <td>0.804017</td>\n",
              "      <td>0.609945</td>\n",
              "      <td>0.232791</td>\n",
              "      <td>-0.045294</td>\n",
              "    </tr>\n",
              "    <tr>\n",
              "      <th>AveragePaymentAmount</th>\n",
              "      <td>-0.026678</td>\n",
              "      <td>-0.029279</td>\n",
              "      <td>-3.824954e-02</td>\n",
              "      <td>0.019183</td>\n",
              "      <td>0.008264</td>\n",
              "      <td>0.020859</td>\n",
              "      <td>0.276611</td>\n",
              "      <td>-0.021389</td>\n",
              "      <td>5.933432e-05</td>\n",
              "      <td>0.029112</td>\n",
              "      <td>...</td>\n",
              "      <td>0.080572</td>\n",
              "      <td>-0.007005</td>\n",
              "      <td>0.029910</td>\n",
              "      <td>-0.413357</td>\n",
              "      <td>0.048833</td>\n",
              "      <td>0.804017</td>\n",
              "      <td>1.000000</td>\n",
              "      <td>0.409160</td>\n",
              "      <td>0.128801</td>\n",
              "      <td>-0.058950</td>\n",
              "    </tr>\n",
              "    <tr>\n",
              "      <th>TotalPaid</th>\n",
              "      <td>-0.071369</td>\n",
              "      <td>0.104457</td>\n",
              "      <td>-3.776573e-02</td>\n",
              "      <td>-0.130066</td>\n",
              "      <td>-0.131795</td>\n",
              "      <td>-0.107048</td>\n",
              "      <td>0.494387</td>\n",
              "      <td>-0.103310</td>\n",
              "      <td>1.691035e-04</td>\n",
              "      <td>0.135140</td>\n",
              "      <td>...</td>\n",
              "      <td>0.022350</td>\n",
              "      <td>0.085247</td>\n",
              "      <td>0.232111</td>\n",
              "      <td>-0.035008</td>\n",
              "      <td>0.159899</td>\n",
              "      <td>0.609945</td>\n",
              "      <td>0.409160</td>\n",
              "      <td>1.000000</td>\n",
              "      <td>0.583438</td>\n",
              "      <td>-0.008152</td>\n",
              "    </tr>\n",
              "    <tr>\n",
              "      <th>PercentagePaid</th>\n",
              "      <td>-0.034753</td>\n",
              "      <td>0.004309</td>\n",
              "      <td>2.364912e-03</td>\n",
              "      <td>-0.157946</td>\n",
              "      <td>-0.191454</td>\n",
              "      <td>-0.178586</td>\n",
              "      <td>-0.174023</td>\n",
              "      <td>-0.071279</td>\n",
              "      <td>5.851595e-04</td>\n",
              "      <td>0.136570</td>\n",
              "      <td>...</td>\n",
              "      <td>-0.006878</td>\n",
              "      <td>0.012277</td>\n",
              "      <td>-0.040247</td>\n",
              "      <td>0.031946</td>\n",
              "      <td>0.178745</td>\n",
              "      <td>0.232791</td>\n",
              "      <td>0.128801</td>\n",
              "      <td>0.583438</td>\n",
              "      <td>1.000000</td>\n",
              "      <td>-0.005323</td>\n",
              "    </tr>\n",
              "    <tr>\n",
              "      <th>DistinctRepaymentPhoneNumbers</th>\n",
              "      <td>0.541098</td>\n",
              "      <td>0.036679</td>\n",
              "      <td>1.522220e-01</td>\n",
              "      <td>0.228719</td>\n",
              "      <td>0.175854</td>\n",
              "      <td>0.108048</td>\n",
              "      <td>0.014927</td>\n",
              "      <td>0.577327</td>\n",
              "      <td>9.703336e-04</td>\n",
              "      <td>0.136875</td>\n",
              "      <td>...</td>\n",
              "      <td>-0.081251</td>\n",
              "      <td>-0.058544</td>\n",
              "      <td>-0.068026</td>\n",
              "      <td>0.032196</td>\n",
              "      <td>-0.477505</td>\n",
              "      <td>-0.045294</td>\n",
              "      <td>-0.058950</td>\n",
              "      <td>-0.008152</td>\n",
              "      <td>-0.005323</td>\n",
              "      <td>1.000000</td>\n",
              "    </tr>\n",
              "  </tbody>\n",
              "</table>\n",
              "<p>29 rows × 29 columns</p>\n",
              "</div>"
            ],
            "text/plain": [
              "                                DimSeasonID  Facilitator   DimClientID  \\\n",
              "DimSeasonID                        1.000000    -0.021340  2.664120e-01   \n",
              "Facilitator                       -0.021340     1.000000 -3.393672e-02   \n",
              "DimClientID                        0.266412    -0.033937  1.000000e+00   \n",
              "DimGroupID                         0.221033     0.016402  1.672020e-01   \n",
              "DimSiteID                          0.138070     0.007228  1.284851e-01   \n",
              "DimDistrictID                      0.078590     0.005326  1.015681e-01   \n",
              "TotalCredit                       -0.019799     0.153402 -5.296277e-02   \n",
              "OperationalYear                    0.752290    -0.006904  2.000114e-01   \n",
              "HasPhone                          -0.000063    -0.000095  4.646071e-07   \n",
              "Facilitator_SeasonNumber           0.236750    -0.042910 -2.127194e-02   \n",
              "Site_TotalCredit                   0.067246    -0.047172 -6.661007e-03   \n",
              "Site_NumberOfFarmers               0.117552    -0.047766  2.201810e-02   \n",
              "Group_TotalCredit                  0.001367    -0.075108 -3.562271e-02   \n",
              "Group_MaxSeasonNumber              0.274576    -0.036408 -1.332935e-02   \n",
              "Group_NumberOfFarmers              0.012347    -0.055651  1.587773e-03   \n",
              "SeasonsAsFacilitator               0.031248     0.756922 -3.669798e-02   \n",
              "NumberOfPreviousSeasonsDropped     0.156726    -0.068066 -9.022717e-03   \n",
              "SeasonNumber                       0.163338     0.185606 -1.120826e-01   \n",
              "DimCountryID                            NaN          NaN           NaN   \n",
              "InputKGs                          -0.053322     0.005094 -1.275139e-02   \n",
              "NumberUndeliveredInput            -0.001434     0.242654 -1.826174e-02   \n",
              "NumberDeliveredInput              -0.096915     0.306799 -8.125448e-02   \n",
              "DaysToSeasonEnd                    0.053605     0.019733  4.004691e-02   \n",
              "Repaid                            -0.835623     0.015868 -2.279469e-01   \n",
              "MaximumPaymentAmount              -0.041427     0.016632 -4.572698e-02   \n",
              "AveragePaymentAmount              -0.026678    -0.029279 -3.824954e-02   \n",
              "TotalPaid                         -0.071369     0.104457 -3.776573e-02   \n",
              "PercentagePaid                    -0.034753     0.004309  2.364912e-03   \n",
              "DistinctRepaymentPhoneNumbers      0.541098     0.036679  1.522220e-01   \n",
              "\n",
              "                                DimGroupID  DimSiteID  DimDistrictID  \\\n",
              "DimSeasonID                       0.221033   0.138070       0.078590   \n",
              "Facilitator                       0.016402   0.007228       0.005326   \n",
              "DimClientID                       0.167202   0.128485       0.101568   \n",
              "DimGroupID                        1.000000   0.799908       0.649504   \n",
              "DimSiteID                         0.799908   1.000000       0.802508   \n",
              "DimDistrictID                     0.649504   0.802508       1.000000   \n",
              "TotalCredit                       0.025628   0.059749       0.063406   \n",
              "OperationalYear                   0.357823   0.247064       0.173108   \n",
              "HasPhone                          0.000183  -0.000099      -0.000207   \n",
              "Facilitator_SeasonNumber         -0.437315  -0.420546      -0.417291   \n",
              "Site_TotalCredit                 -0.058159  -0.034981       0.001356   \n",
              "Site_NumberOfFarmers             -0.123192  -0.128366      -0.095749   \n",
              "Group_TotalCredit                 0.032209   0.082583       0.107114   \n",
              "Group_MaxSeasonNumber            -0.464817  -0.489930      -0.496981   \n",
              "Group_NumberOfFarmers             0.067722   0.132273       0.182588   \n",
              "SeasonsAsFacilitator             -0.076882  -0.070149      -0.067560   \n",
              "NumberOfPreviousSeasonsDropped    0.053133   0.023788       0.007289   \n",
              "SeasonNumber                     -0.276288  -0.265312      -0.261064   \n",
              "DimCountryID                           NaN        NaN            NaN   \n",
              "InputKGs                          0.000181   0.001759       0.020203   \n",
              "NumberUndeliveredInput           -0.034049  -0.010757       0.006212   \n",
              "NumberDeliveredInput             -0.022188  -0.019900      -0.032040   \n",
              "DaysToSeasonEnd                  -0.091431  -0.134123      -0.167381   \n",
              "Repaid                           -0.270812  -0.209540      -0.154455   \n",
              "MaximumPaymentAmount              0.013560   0.022057       0.043274   \n",
              "AveragePaymentAmount              0.019183   0.008264       0.020859   \n",
              "TotalPaid                        -0.130066  -0.131795      -0.107048   \n",
              "PercentagePaid                   -0.157946  -0.191454      -0.178586   \n",
              "DistinctRepaymentPhoneNumbers     0.228719   0.175854       0.108048   \n",
              "\n",
              "                                TotalCredit  OperationalYear      HasPhone  \\\n",
              "DimSeasonID                       -0.019799         0.752290 -6.262421e-05   \n",
              "Facilitator                        0.153402        -0.006904 -9.499697e-05   \n",
              "DimClientID                       -0.052963         0.200011  4.646071e-07   \n",
              "DimGroupID                         0.025628         0.357823  1.834270e-04   \n",
              "DimSiteID                          0.059749         0.247064 -9.871260e-05   \n",
              "DimDistrictID                      0.063406         0.173108 -2.073473e-04   \n",
              "TotalCredit                        1.000000        -0.018495 -5.628067e-04   \n",
              "OperationalYear                   -0.018495         1.000000  2.604624e-04   \n",
              "HasPhone                          -0.000563         0.000260  1.000000e+00   \n",
              "Facilitator_SeasonNumber           0.018174         0.242817 -4.170292e-04   \n",
              "Site_TotalCredit                   0.161861        -0.050431 -6.832519e-04   \n",
              "Site_NumberOfFarmers               0.030588        -0.024563 -4.438560e-04   \n",
              "Group_TotalCredit                  0.261690        -0.007440  2.230395e-04   \n",
              "Group_MaxSeasonNumber             -0.006289         0.288869 -4.492451e-04   \n",
              "Group_NumberOfFarmers              0.025036         0.034866  2.791661e-04   \n",
              "SeasonsAsFacilitator               0.162004         0.043407  3.319610e-04   \n",
              "NumberOfPreviousSeasonsDropped    -0.092575         0.174061 -6.261756e-03   \n",
              "SeasonNumber                       0.154016         0.185519  3.239528e-04   \n",
              "DimCountryID                            NaN              NaN           NaN   \n",
              "InputKGs                           0.032155        -0.017205  1.862896e-04   \n",
              "NumberUndeliveredInput             0.106088        -0.070075 -6.691374e-04   \n",
              "NumberDeliveredInput               0.368056         0.035996 -4.029195e-04   \n",
              "DaysToSeasonEnd                   -0.124653         0.001673 -1.640860e-04   \n",
              "Repaid                            -0.012710        -0.677589 -1.103463e-04   \n",
              "MaximumPaymentAmount               0.421346        -0.037024 -3.802767e-05   \n",
              "AveragePaymentAmount               0.276611        -0.021389  5.933432e-05   \n",
              "TotalPaid                          0.494387        -0.103310  1.691035e-04   \n",
              "PercentagePaid                    -0.174023        -0.071279  5.851595e-04   \n",
              "DistinctRepaymentPhoneNumbers      0.014927         0.577327  9.703336e-04   \n",
              "\n",
              "                                Facilitator_SeasonNumber  ...  InputKGs  \\\n",
              "DimSeasonID                                     0.236750  ... -0.053322   \n",
              "Facilitator                                    -0.042910  ...  0.005094   \n",
              "DimClientID                                    -0.021272  ... -0.012751   \n",
              "DimGroupID                                     -0.437315  ...  0.000181   \n",
              "DimSiteID                                      -0.420546  ...  0.001759   \n",
              "DimDistrictID                                  -0.417291  ...  0.020203   \n",
              "TotalCredit                                     0.018174  ...  0.032155   \n",
              "OperationalYear                                 0.242817  ... -0.017205   \n",
              "HasPhone                                       -0.000417  ...  0.000186   \n",
              "Facilitator_SeasonNumber                        1.000000  ...  0.004873   \n",
              "Site_TotalCredit                                0.086284  ... -0.017554   \n",
              "Site_NumberOfFarmers                            0.148786  ... -0.012425   \n",
              "Group_TotalCredit                               0.180566  ...  0.109292   \n",
              "Group_MaxSeasonNumber                           0.876026  ... -0.009561   \n",
              "Group_NumberOfFarmers                           0.186798  ...  0.169938   \n",
              "SeasonsAsFacilitator                            0.152448  ...  0.004976   \n",
              "NumberOfPreviousSeasonsDropped                  0.018370  ... -0.017699   \n",
              "SeasonNumber                                    0.562596  ... -0.003534   \n",
              "DimCountryID                                         NaN  ...       NaN   \n",
              "InputKGs                                        0.004873  ...  1.000000   \n",
              "NumberUndeliveredInput                         -0.020632  ... -0.004376   \n",
              "NumberDeliveredInput                            0.076182  ...  0.010414   \n",
              "DaysToSeasonEnd                                 0.066281  ... -0.069617   \n",
              "Repaid                                         -0.129063  ...  0.037073   \n",
              "MaximumPaymentAmount                            0.018770  ...  0.056421   \n",
              "AveragePaymentAmount                            0.029112  ...  0.080572   \n",
              "TotalPaid                                       0.135140  ...  0.022350   \n",
              "PercentagePaid                                  0.136570  ... -0.006878   \n",
              "DistinctRepaymentPhoneNumbers                   0.136875  ... -0.081251   \n",
              "\n",
              "                                NumberUndeliveredInput  NumberDeliveredInput  \\\n",
              "DimSeasonID                                  -0.001434             -0.096915   \n",
              "Facilitator                                   0.242654              0.306799   \n",
              "DimClientID                                  -0.018262             -0.081254   \n",
              "DimGroupID                                   -0.034049             -0.022188   \n",
              "DimSiteID                                    -0.010757             -0.019900   \n",
              "DimDistrictID                                 0.006212             -0.032040   \n",
              "TotalCredit                                   0.106088              0.368056   \n",
              "OperationalYear                              -0.070075              0.035996   \n",
              "HasPhone                                     -0.000669             -0.000403   \n",
              "Facilitator_SeasonNumber                     -0.020632              0.076182   \n",
              "Site_TotalCredit                              0.064436              0.160423   \n",
              "Site_NumberOfFarmers                          0.058423              0.097758   \n",
              "Group_TotalCredit                             0.019898              0.044831   \n",
              "Group_MaxSeasonNumber                        -0.034722              0.073499   \n",
              "Group_NumberOfFarmers                         0.036520             -0.099910   \n",
              "SeasonsAsFacilitator                          0.175760              0.276850   \n",
              "NumberOfPreviousSeasonsDropped               -0.033082             -0.083978   \n",
              "SeasonNumber                                  0.042439              0.217689   \n",
              "DimCountryID                                       NaN                   NaN   \n",
              "InputKGs                                     -0.004376              0.010414   \n",
              "NumberUndeliveredInput                        1.000000              0.016285   \n",
              "NumberDeliveredInput                          0.016285              1.000000   \n",
              "DaysToSeasonEnd                               0.013191              0.017842   \n",
              "Repaid                                        0.008330              0.101322   \n",
              "MaximumPaymentAmount                          0.026717              0.119333   \n",
              "AveragePaymentAmount                         -0.007005              0.029910   \n",
              "TotalPaid                                     0.085247              0.232111   \n",
              "PercentagePaid                                0.012277             -0.040247   \n",
              "DistinctRepaymentPhoneNumbers                -0.058544             -0.068026   \n",
              "\n",
              "                                DaysToSeasonEnd    Repaid  \\\n",
              "DimSeasonID                            0.053605 -0.835623   \n",
              "Facilitator                            0.019733  0.015868   \n",
              "DimClientID                            0.040047 -0.227947   \n",
              "DimGroupID                            -0.091431 -0.270812   \n",
              "DimSiteID                             -0.134123 -0.209540   \n",
              "DimDistrictID                         -0.167381 -0.154455   \n",
              "TotalCredit                           -0.124653 -0.012710   \n",
              "OperationalYear                        0.001673 -0.677589   \n",
              "HasPhone                              -0.000164 -0.000110   \n",
              "Facilitator_SeasonNumber               0.066281 -0.129063   \n",
              "Site_TotalCredit                       0.078111 -0.005145   \n",
              "Site_NumberOfFarmers                   0.144148 -0.033228   \n",
              "Group_TotalCredit                     -0.568905 -0.018675   \n",
              "Group_MaxSeasonNumber                  0.106257 -0.156937   \n",
              "Group_NumberOfFarmers                 -0.393882 -0.060378   \n",
              "SeasonsAsFacilitator                   0.024218 -0.013935   \n",
              "NumberOfPreviousSeasonsDropped         0.010552 -0.162624   \n",
              "SeasonNumber                           0.064742 -0.085113   \n",
              "DimCountryID                                NaN       NaN   \n",
              "InputKGs                              -0.069617  0.037073   \n",
              "NumberUndeliveredInput                 0.013191  0.008330   \n",
              "NumberDeliveredInput                   0.017842  0.101322   \n",
              "DaysToSeasonEnd                        1.000000  0.001860   \n",
              "Repaid                                 0.001860  1.000000   \n",
              "MaximumPaymentAmount                  -0.291790  0.088157   \n",
              "AveragePaymentAmount                  -0.413357  0.048833   \n",
              "TotalPaid                             -0.035008  0.159899   \n",
              "PercentagePaid                         0.031946  0.178745   \n",
              "DistinctRepaymentPhoneNumbers          0.032196 -0.477505   \n",
              "\n",
              "                                MaximumPaymentAmount  AveragePaymentAmount  \\\n",
              "DimSeasonID                                -0.041427             -0.026678   \n",
              "Facilitator                                 0.016632             -0.029279   \n",
              "DimClientID                                -0.045727             -0.038250   \n",
              "DimGroupID                                  0.013560              0.019183   \n",
              "DimSiteID                                   0.022057              0.008264   \n",
              "DimDistrictID                               0.043274              0.020859   \n",
              "TotalCredit                                 0.421346              0.276611   \n",
              "OperationalYear                            -0.037024             -0.021389   \n",
              "HasPhone                                   -0.000038              0.000059   \n",
              "Facilitator_SeasonNumber                    0.018770              0.029112   \n",
              "Site_TotalCredit                            0.060215              0.002253   \n",
              "Site_NumberOfFarmers                       -0.016486             -0.060806   \n",
              "Group_TotalCredit                           0.431679              0.576674   \n",
              "Group_MaxSeasonNumber                      -0.010756             -0.013767   \n",
              "Group_NumberOfFarmers                       0.097598              0.143915   \n",
              "SeasonsAsFacilitator                        0.025825             -0.018875   \n",
              "NumberOfPreviousSeasonsDropped             -0.057026             -0.026159   \n",
              "SeasonNumber                                0.052005              0.011257   \n",
              "DimCountryID                                     NaN                   NaN   \n",
              "InputKGs                                    0.056421              0.080572   \n",
              "NumberUndeliveredInput                      0.026717             -0.007005   \n",
              "NumberDeliveredInput                        0.119333              0.029910   \n",
              "DaysToSeasonEnd                            -0.291790             -0.413357   \n",
              "Repaid                                      0.088157              0.048833   \n",
              "MaximumPaymentAmount                        1.000000              0.804017   \n",
              "AveragePaymentAmount                        0.804017              1.000000   \n",
              "TotalPaid                                   0.609945              0.409160   \n",
              "PercentagePaid                              0.232791              0.128801   \n",
              "DistinctRepaymentPhoneNumbers              -0.045294             -0.058950   \n",
              "\n",
              "                                TotalPaid  PercentagePaid  \\\n",
              "DimSeasonID                     -0.071369       -0.034753   \n",
              "Facilitator                      0.104457        0.004309   \n",
              "DimClientID                     -0.037766        0.002365   \n",
              "DimGroupID                      -0.130066       -0.157946   \n",
              "DimSiteID                       -0.131795       -0.191454   \n",
              "DimDistrictID                   -0.107048       -0.178586   \n",
              "TotalCredit                      0.494387       -0.174023   \n",
              "OperationalYear                 -0.103310       -0.071279   \n",
              "HasPhone                         0.000169        0.000585   \n",
              "Facilitator_SeasonNumber         0.135140        0.136570   \n",
              "Site_TotalCredit                 0.098133       -0.020760   \n",
              "Site_NumberOfFarmers             0.055787        0.027921   \n",
              "Group_TotalCredit                0.145942       -0.035169   \n",
              "Group_MaxSeasonNumber            0.116817        0.137138   \n",
              "Group_NumberOfFarmers           -0.011749       -0.035273   \n",
              "SeasonsAsFacilitator             0.132419        0.023870   \n",
              "NumberOfPreviousSeasonsDropped  -0.117043       -0.068283   \n",
              "SeasonNumber                     0.184368        0.082736   \n",
              "DimCountryID                          NaN             NaN   \n",
              "InputKGs                         0.022350       -0.006878   \n",
              "NumberUndeliveredInput           0.085247        0.012277   \n",
              "NumberDeliveredInput             0.232111       -0.040247   \n",
              "DaysToSeasonEnd                 -0.035008        0.031946   \n",
              "Repaid                           0.159899        0.178745   \n",
              "MaximumPaymentAmount             0.609945        0.232791   \n",
              "AveragePaymentAmount             0.409160        0.128801   \n",
              "TotalPaid                        1.000000        0.583438   \n",
              "PercentagePaid                   0.583438        1.000000   \n",
              "DistinctRepaymentPhoneNumbers   -0.008152       -0.005323   \n",
              "\n",
              "                                DistinctRepaymentPhoneNumbers  \n",
              "DimSeasonID                                          0.541098  \n",
              "Facilitator                                          0.036679  \n",
              "DimClientID                                          0.152222  \n",
              "DimGroupID                                           0.228719  \n",
              "DimSiteID                                            0.175854  \n",
              "DimDistrictID                                        0.108048  \n",
              "TotalCredit                                          0.014927  \n",
              "OperationalYear                                      0.577327  \n",
              "HasPhone                                             0.000970  \n",
              "Facilitator_SeasonNumber                             0.136875  \n",
              "Site_TotalCredit                                    -0.055023  \n",
              "Site_NumberOfFarmers                                -0.033315  \n",
              "Group_TotalCredit                                   -0.037232  \n",
              "Group_MaxSeasonNumber                                0.172069  \n",
              "Group_NumberOfFarmers                               -0.024798  \n",
              "SeasonsAsFacilitator                                 0.064170  \n",
              "NumberOfPreviousSeasonsDropped                       0.109232  \n",
              "SeasonNumber                                         0.122277  \n",
              "DimCountryID                                              NaN  \n",
              "InputKGs                                            -0.081251  \n",
              "NumberUndeliveredInput                              -0.058544  \n",
              "NumberDeliveredInput                                -0.068026  \n",
              "DaysToSeasonEnd                                      0.032196  \n",
              "Repaid                                              -0.477505  \n",
              "MaximumPaymentAmount                                -0.045294  \n",
              "AveragePaymentAmount                                -0.058950  \n",
              "TotalPaid                                           -0.008152  \n",
              "PercentagePaid                                      -0.005323  \n",
              "DistinctRepaymentPhoneNumbers                        1.000000  \n",
              "\n",
              "[29 rows x 29 columns]"
            ]
          },
          "execution_count": 107,
          "metadata": {},
          "output_type": "execute_result"
        }
      ],
      "source": [
        "# Correlation Matrix\n",
        "\n",
        "oaf.corr()"
      ]
    },
    {
      "cell_type": "code",
      "execution_count": null,
      "metadata": {
        "id": "zJ8D0t9rxGxv",
        "outputId": "d675ced7-6b0f-4eb3-af3c-a5826dee2688"
      },
      "outputs": [
        {
          "data": {
            "image/png": "[encoded data removed]",
            "text/plain": [
              "<Figure size 1440x1440 with 2 Axes>"
            ]
          },
          "metadata": {
            "needs_background": "light"
          },
          "output_type": "display_data"
        }
      ],
      "source": [
        "# Correlation Matrix using seaborn heatmap\n",
        "corr_matrix = oaf.corr()\n",
        "fig, ax = plt.subplots(figsize=(20,20))\n",
        "ax = sns.heatmap(corr_matrix, annot = True,linewidths = 0.5, fmt = '.2f', cmap = 'YlGnBu')"
      ]
    },
    {
      "cell_type": "markdown",
      "metadata": {
        "id": "kBLCpm0XxGxv"
      },
      "source": [
        "## Modelling"
      ]
    },
    {
      "cell_type": "code",
      "execution_count": null,
      "metadata": {
        "id": "hY8NCCAOxGxv",
        "outputId": "da803233-dbdf-4083-d86b-550792d60d6f"
      },
      "outputs": [
        {
          "data": {
            "text/html": [
              "<div>\n",
              "<style scoped>\n",
              "    .dataframe tbody tr th:only-of-type {\n",
              "        vertical-align: middle;\n",
              "    }\n",
              "\n",
              "    .dataframe tbody tr th {\n",
              "        vertical-align: top;\n",
              "    }\n",
              "\n",
              "    .dataframe thead th {\n",
              "        text-align: right;\n",
              "    }\n",
              "</style>\n",
              "<table border=\"1\" class=\"dataframe\">\n",
              "  <thead>\n",
              "    <tr style=\"text-align: right;\">\n",
              "      <th></th>\n",
              "      <th>DimSeasonID</th>\n",
              "      <th>CountryName</th>\n",
              "      <th>SeasonName</th>\n",
              "      <th>Facilitator</th>\n",
              "      <th>DimClientID</th>\n",
              "      <th>DimGroupID</th>\n",
              "      <th>DimSiteID</th>\n",
              "      <th>DimDistrictID</th>\n",
              "      <th>TotalCredit</th>\n",
              "      <th>OperationalYear</th>\n",
              "      <th>...</th>\n",
              "      <th>NumberUndeliveredInput</th>\n",
              "      <th>NumberDeliveredInput</th>\n",
              "      <th>Active</th>\n",
              "      <th>DaysToSeasonEnd</th>\n",
              "      <th>Repaid</th>\n",
              "      <th>MaximumPaymentAmount</th>\n",
              "      <th>AveragePaymentAmount</th>\n",
              "      <th>TotalPaid</th>\n",
              "      <th>PercentagePaid</th>\n",
              "      <th>DistinctRepaymentPhoneNumbers</th>\n",
              "    </tr>\n",
              "  </thead>\n",
              "  <tbody>\n",
              "    <tr>\n",
              "      <th>0</th>\n",
              "      <td>13</td>\n",
              "      <td>Kenya</td>\n",
              "      <td>2017, Long Rain</td>\n",
              "      <td>False</td>\n",
              "      <td>487378</td>\n",
              "      <td>78077</td>\n",
              "      <td>2591</td>\n",
              "      <td>45</td>\n",
              "      <td>7675.0</td>\n",
              "      <td>2017</td>\n",
              "      <td>...</td>\n",
              "      <td>0.0</td>\n",
              "      <td>9.0</td>\n",
              "      <td>False</td>\n",
              "      <td>132.0</td>\n",
              "      <td>True</td>\n",
              "      <td>600.0</td>\n",
              "      <td>313.636364</td>\n",
              "      <td>3450.0</td>\n",
              "      <td>0.449511</td>\n",
              "      <td>1.0</td>\n",
              "    </tr>\n",
              "    <tr>\n",
              "      <th>1</th>\n",
              "      <td>13</td>\n",
              "      <td>Kenya</td>\n",
              "      <td>2017, Long Rain</td>\n",
              "      <td>False</td>\n",
              "      <td>1458872</td>\n",
              "      <td>172732</td>\n",
              "      <td>5556</td>\n",
              "      <td>99</td>\n",
              "      <td>6185.0</td>\n",
              "      <td>2017</td>\n",
              "      <td>...</td>\n",
              "      <td>0.0</td>\n",
              "      <td>6.0</td>\n",
              "      <td>False</td>\n",
              "      <td>132.0</td>\n",
              "      <td>True</td>\n",
              "      <td>250.0</td>\n",
              "      <td>142.500000</td>\n",
              "      <td>2280.0</td>\n",
              "      <td>0.368634</td>\n",
              "      <td>1.0</td>\n",
              "    </tr>\n",
              "    <tr>\n",
              "      <th>2</th>\n",
              "      <td>13</td>\n",
              "      <td>Kenya</td>\n",
              "      <td>2017, Long Rain</td>\n",
              "      <td>False</td>\n",
              "      <td>1482338</td>\n",
              "      <td>133995</td>\n",
              "      <td>4497</td>\n",
              "      <td>78</td>\n",
              "      <td>6185.0</td>\n",
              "      <td>2017</td>\n",
              "      <td>...</td>\n",
              "      <td>0.0</td>\n",
              "      <td>6.0</td>\n",
              "      <td>False</td>\n",
              "      <td>132.0</td>\n",
              "      <td>True</td>\n",
              "      <td>1000.0</td>\n",
              "      <td>670.600000</td>\n",
              "      <td>3353.0</td>\n",
              "      <td>0.542118</td>\n",
              "      <td>1.0</td>\n",
              "    </tr>\n",
              "    <tr>\n",
              "      <th>3</th>\n",
              "      <td>13</td>\n",
              "      <td>Kenya</td>\n",
              "      <td>2017, Long Rain</td>\n",
              "      <td>False</td>\n",
              "      <td>902050</td>\n",
              "      <td>183680</td>\n",
              "      <td>5965</td>\n",
              "      <td>107</td>\n",
              "      <td>14175.0</td>\n",
              "      <td>2017</td>\n",
              "      <td>...</td>\n",
              "      <td>0.0</td>\n",
              "      <td>9.0</td>\n",
              "      <td>False</td>\n",
              "      <td>132.0</td>\n",
              "      <td>True</td>\n",
              "      <td>2400.0</td>\n",
              "      <td>1112.500000</td>\n",
              "      <td>8900.0</td>\n",
              "      <td>0.627866</td>\n",
              "      <td>2.0</td>\n",
              "    </tr>\n",
              "    <tr>\n",
              "      <th>4</th>\n",
              "      <td>13</td>\n",
              "      <td>Kenya</td>\n",
              "      <td>2017, Long Rain</td>\n",
              "      <td>False</td>\n",
              "      <td>3196771</td>\n",
              "      <td>115056</td>\n",
              "      <td>3934</td>\n",
              "      <td>64</td>\n",
              "      <td>16470.0</td>\n",
              "      <td>2017</td>\n",
              "      <td>...</td>\n",
              "      <td>0.0</td>\n",
              "      <td>12.0</td>\n",
              "      <td>False</td>\n",
              "      <td>132.0</td>\n",
              "      <td>True</td>\n",
              "      <td>1500.0</td>\n",
              "      <td>392.941176</td>\n",
              "      <td>6680.0</td>\n",
              "      <td>0.405586</td>\n",
              "      <td>1.0</td>\n",
              "    </tr>\n",
              "  </tbody>\n",
              "</table>\n",
              "<p>5 rows × 47 columns</p>\n",
              "</div>"
            ],
            "text/plain": [
              "   DimSeasonID CountryName       SeasonName  Facilitator  DimClientID  \\\n",
              "0           13       Kenya  2017, Long Rain        False       487378   \n",
              "1           13       Kenya  2017, Long Rain        False      1458872   \n",
              "2           13       Kenya  2017, Long Rain        False      1482338   \n",
              "3           13       Kenya  2017, Long Rain        False       902050   \n",
              "4           13       Kenya  2017, Long Rain        False      3196771   \n",
              "\n",
              "   DimGroupID  DimSiteID  DimDistrictID  TotalCredit  OperationalYear  ...  \\\n",
              "0       78077       2591             45       7675.0             2017  ...   \n",
              "1      172732       5556             99       6185.0             2017  ...   \n",
              "2      133995       4497             78       6185.0             2017  ...   \n",
              "3      183680       5965            107      14175.0             2017  ...   \n",
              "4      115056       3934             64      16470.0             2017  ...   \n",
              "\n",
              "  NumberUndeliveredInput  NumberDeliveredInput  Active  DaysToSeasonEnd  \\\n",
              "0                    0.0                   9.0   False            132.0   \n",
              "1                    0.0                   6.0   False            132.0   \n",
              "2                    0.0                   6.0   False            132.0   \n",
              "3                    0.0                   9.0   False            132.0   \n",
              "4                    0.0                  12.0   False            132.0   \n",
              "\n",
              "   Repaid  MaximumPaymentAmount  AveragePaymentAmount  TotalPaid  \\\n",
              "0    True                 600.0            313.636364     3450.0   \n",
              "1    True                 250.0            142.500000     2280.0   \n",
              "2    True                1000.0            670.600000     3353.0   \n",
              "3    True                2400.0           1112.500000     8900.0   \n",
              "4    True                1500.0            392.941176     6680.0   \n",
              "\n",
              "   PercentagePaid  DistinctRepaymentPhoneNumbers  \n",
              "0        0.449511                            1.0  \n",
              "1        0.368634                            1.0  \n",
              "2        0.542118                            1.0  \n",
              "3        0.627866                            2.0  \n",
              "4        0.405586                            1.0  \n",
              "\n",
              "[5 rows x 47 columns]"
            ]
          },
          "execution_count": 113,
          "metadata": {},
          "output_type": "execute_result"
        }
      ],
      "source": [
        "oaf.head()"
      ]
    },
    {
      "cell_type": "code",
      "execution_count": null,
      "metadata": {
        "id": "CvXiJJYcxGxv",
        "outputId": "0f870d6f-28d7-4072-a804-122c6a7f9240"
      },
      "outputs": [
        {
          "data": {
            "text/plain": [
              "Index(['DimSeasonID', 'CountryName', 'SeasonName', 'Facilitator',\n",
              "       'DimClientID', 'DimGroupID', 'DimSiteID', 'DimDistrictID',\n",
              "       'TotalCredit', 'OperationalYear', 'CreatedDate', 'HasPhone',\n",
              "       'Facilitator_SeasonNumber', 'Site_TotalCredit', 'Site_NumberOfFarmers',\n",
              "       'Group_TotalCredit', 'Group_MaxSeasonNumber', 'Group_NumberOfFarmers',\n",
              "       'SeasonsAsFacilitator', 'NumberOfPreviousSeasonsDropped',\n",
              "       'SeasonNumber', 'DimCountryID', 'Fertilizer', 'Travertine', 'TreeKit',\n",
              "       'Training', 'Solar', 'Insurance', 'Safety', 'PostHarvest', 'Maize',\n",
              "       'JiT', 'InputKGs', 'VeggieSeed', 'BeanSeed', 'Chicken', 'Phone',\n",
              "       'NumberUndeliveredInput', 'NumberDeliveredInput', 'Active',\n",
              "       'DaysToSeasonEnd', 'Repaid', 'MaximumPaymentAmount',\n",
              "       'AveragePaymentAmount', 'TotalPaid', 'PercentagePaid',\n",
              "       'DistinctRepaymentPhoneNumbers'],\n",
              "      dtype='object')"
            ]
          },
          "execution_count": 121,
          "metadata": {},
          "output_type": "execute_result"
        }
      ],
      "source": [
        "oaf.columns"
      ]
    },
    {
      "cell_type": "code",
      "execution_count": null,
      "metadata": {
        "id": "keItJ5FUxGxw"
      },
      "outputs": [],
      "source": [
        "oaf.dropna(inplace=True)"
      ]
    },
    {
      "cell_type": "code",
      "execution_count": null,
      "metadata": {
        "id": "XeaU14PkxGxw",
        "outputId": "b0bc4c9c-df86-4f96-d1cf-cd7e4b0b55a0"
      },
      "outputs": [
        {
          "data": {
            "text/plain": [
              "True     781284\n",
              "False    387479\n",
              "Name: Repaid, dtype: int64"
            ]
          },
          "execution_count": 42,
          "metadata": {},
          "output_type": "execute_result"
        }
      ],
      "source": [
        "oaf.Repaid.value_counts()"
      ]
    },
    {
      "cell_type": "code",
      "execution_count": null,
      "metadata": {
        "id": "bJJkyWDJxGxw"
      },
      "outputs": [],
      "source": [
        "# Split the data into X and y\n",
        "X = oaf.drop(['SeasonName','CreatedDate','Repaid','CountryName','DimSeasonID','DimClientID', 'DimGroupID', 'DimSiteID', 'DimDistrictID', 'DimCountryID'], axis = 1)\n",
        "y = oaf['Repaid']"
      ]
    },
    {
      "cell_type": "code",
      "execution_count": null,
      "metadata": {
        "id": "eTkuh20PxGxw",
        "outputId": "b1bd0e84-5369-4d68-c8f6-ba6ffd29d865"
      },
      "outputs": [
        {
          "data": {
            "text/html": [
              "<div>\n",
              "<style scoped>\n",
              "    .dataframe tbody tr th:only-of-type {\n",
              "        vertical-align: middle;\n",
              "    }\n",
              "\n",
              "    .dataframe tbody tr th {\n",
              "        vertical-align: top;\n",
              "    }\n",
              "\n",
              "    .dataframe thead th {\n",
              "        text-align: right;\n",
              "    }\n",
              "</style>\n",
              "<table border=\"1\" class=\"dataframe\">\n",
              "  <thead>\n",
              "    <tr style=\"text-align: right;\">\n",
              "      <th></th>\n",
              "      <th>SeasonName</th>\n",
              "      <th>Facilitator</th>\n",
              "      <th>TotalCredit</th>\n",
              "      <th>OperationalYear</th>\n",
              "      <th>CreatedDate</th>\n",
              "      <th>HasPhone</th>\n",
              "      <th>Facilitator_SeasonNumber</th>\n",
              "      <th>Site_TotalCredit</th>\n",
              "      <th>Site_NumberOfFarmers</th>\n",
              "      <th>Group_TotalCredit</th>\n",
              "      <th>...</th>\n",
              "      <th>Phone</th>\n",
              "      <th>NumberUndeliveredInput</th>\n",
              "      <th>NumberDeliveredInput</th>\n",
              "      <th>Active</th>\n",
              "      <th>DaysToSeasonEnd</th>\n",
              "      <th>MaximumPaymentAmount</th>\n",
              "      <th>AveragePaymentAmount</th>\n",
              "      <th>TotalPaid</th>\n",
              "      <th>PercentagePaid</th>\n",
              "      <th>DistinctRepaymentPhoneNumbers</th>\n",
              "    </tr>\n",
              "  </thead>\n",
              "  <tbody>\n",
              "    <tr>\n",
              "      <th>0</th>\n",
              "      <td>2017, Long Rain</td>\n",
              "      <td>False</td>\n",
              "      <td>7675.0</td>\n",
              "      <td>2017</td>\n",
              "      <td>Oct  5 2016  8:50AM</td>\n",
              "      <td>True</td>\n",
              "      <td>3.0</td>\n",
              "      <td>2718100.0</td>\n",
              "      <td>304</td>\n",
              "      <td>115340.0</td>\n",
              "      <td>...</td>\n",
              "      <td>False</td>\n",
              "      <td>0.0</td>\n",
              "      <td>9.0</td>\n",
              "      <td>False</td>\n",
              "      <td>132.0</td>\n",
              "      <td>600.0</td>\n",
              "      <td>313.636364</td>\n",
              "      <td>3450.0</td>\n",
              "      <td>0.449511</td>\n",
              "      <td>1.0</td>\n",
              "    </tr>\n",
              "    <tr>\n",
              "      <th>1</th>\n",
              "      <td>2017, Long Rain</td>\n",
              "      <td>False</td>\n",
              "      <td>6185.0</td>\n",
              "      <td>2017</td>\n",
              "      <td>Oct 11 2016  2:13PM</td>\n",
              "      <td>True</td>\n",
              "      <td>2.0</td>\n",
              "      <td>1574425.0</td>\n",
              "      <td>172</td>\n",
              "      <td>122620.0</td>\n",
              "      <td>...</td>\n",
              "      <td>False</td>\n",
              "      <td>0.0</td>\n",
              "      <td>6.0</td>\n",
              "      <td>False</td>\n",
              "      <td>132.0</td>\n",
              "      <td>250.0</td>\n",
              "      <td>142.500000</td>\n",
              "      <td>2280.0</td>\n",
              "      <td>0.368634</td>\n",
              "      <td>1.0</td>\n",
              "    </tr>\n",
              "    <tr>\n",
              "      <th>2</th>\n",
              "      <td>2017, Long Rain</td>\n",
              "      <td>False</td>\n",
              "      <td>6185.0</td>\n",
              "      <td>2017</td>\n",
              "      <td>Oct 19 2016  3:10PM</td>\n",
              "      <td>True</td>\n",
              "      <td>4.0</td>\n",
              "      <td>1656995.0</td>\n",
              "      <td>188</td>\n",
              "      <td>58975.0</td>\n",
              "      <td>...</td>\n",
              "      <td>False</td>\n",
              "      <td>0.0</td>\n",
              "      <td>6.0</td>\n",
              "      <td>False</td>\n",
              "      <td>132.0</td>\n",
              "      <td>1000.0</td>\n",
              "      <td>670.600000</td>\n",
              "      <td>3353.0</td>\n",
              "      <td>0.542118</td>\n",
              "      <td>1.0</td>\n",
              "    </tr>\n",
              "    <tr>\n",
              "      <th>3</th>\n",
              "      <td>2017, Long Rain</td>\n",
              "      <td>False</td>\n",
              "      <td>14175.0</td>\n",
              "      <td>2017</td>\n",
              "      <td>Oct 15 2016  1:50PM</td>\n",
              "      <td>True</td>\n",
              "      <td>1.0</td>\n",
              "      <td>3129120.0</td>\n",
              "      <td>259</td>\n",
              "      <td>147935.0</td>\n",
              "      <td>...</td>\n",
              "      <td>False</td>\n",
              "      <td>0.0</td>\n",
              "      <td>9.0</td>\n",
              "      <td>False</td>\n",
              "      <td>132.0</td>\n",
              "      <td>2400.0</td>\n",
              "      <td>1112.500000</td>\n",
              "      <td>8900.0</td>\n",
              "      <td>0.627866</td>\n",
              "      <td>2.0</td>\n",
              "    </tr>\n",
              "    <tr>\n",
              "      <th>4</th>\n",
              "      <td>2017, Long Rain</td>\n",
              "      <td>False</td>\n",
              "      <td>16470.0</td>\n",
              "      <td>2017</td>\n",
              "      <td>Oct 19 2016 10:32AM</td>\n",
              "      <td>True</td>\n",
              "      <td>3.0</td>\n",
              "      <td>2824215.0</td>\n",
              "      <td>278</td>\n",
              "      <td>88475.0</td>\n",
              "      <td>...</td>\n",
              "      <td>False</td>\n",
              "      <td>0.0</td>\n",
              "      <td>12.0</td>\n",
              "      <td>False</td>\n",
              "      <td>132.0</td>\n",
              "      <td>1500.0</td>\n",
              "      <td>392.941176</td>\n",
              "      <td>6680.0</td>\n",
              "      <td>0.405586</td>\n",
              "      <td>1.0</td>\n",
              "    </tr>\n",
              "    <tr>\n",
              "      <th>...</th>\n",
              "      <td>...</td>\n",
              "      <td>...</td>\n",
              "      <td>...</td>\n",
              "      <td>...</td>\n",
              "      <td>...</td>\n",
              "      <td>...</td>\n",
              "      <td>...</td>\n",
              "      <td>...</td>\n",
              "      <td>...</td>\n",
              "      <td>...</td>\n",
              "      <td>...</td>\n",
              "      <td>...</td>\n",
              "      <td>...</td>\n",
              "      <td>...</td>\n",
              "      <td>...</td>\n",
              "      <td>...</td>\n",
              "      <td>...</td>\n",
              "      <td>...</td>\n",
              "      <td>...</td>\n",
              "      <td>...</td>\n",
              "      <td>...</td>\n",
              "    </tr>\n",
              "    <tr>\n",
              "      <th>2133609</th>\n",
              "      <td>2017, Long Rain</td>\n",
              "      <td>False</td>\n",
              "      <td>4470.0</td>\n",
              "      <td>2017</td>\n",
              "      <td>Sep 28 2016  8:38AM</td>\n",
              "      <td>True</td>\n",
              "      <td>2.0</td>\n",
              "      <td>2718100.0</td>\n",
              "      <td>304</td>\n",
              "      <td>91030.0</td>\n",
              "      <td>...</td>\n",
              "      <td>False</td>\n",
              "      <td>0.0</td>\n",
              "      <td>8.0</td>\n",
              "      <td>False</td>\n",
              "      <td>132.0</td>\n",
              "      <td>700.0</td>\n",
              "      <td>385.714286</td>\n",
              "      <td>2700.0</td>\n",
              "      <td>0.604027</td>\n",
              "      <td>1.0</td>\n",
              "    </tr>\n",
              "    <tr>\n",
              "      <th>2133610</th>\n",
              "      <td>2017, Long Rain</td>\n",
              "      <td>False</td>\n",
              "      <td>8975.0</td>\n",
              "      <td>2017</td>\n",
              "      <td>Sep 28 2016  8:48AM</td>\n",
              "      <td>True</td>\n",
              "      <td>2.0</td>\n",
              "      <td>2718100.0</td>\n",
              "      <td>304</td>\n",
              "      <td>91030.0</td>\n",
              "      <td>...</td>\n",
              "      <td>False</td>\n",
              "      <td>0.0</td>\n",
              "      <td>10.0</td>\n",
              "      <td>False</td>\n",
              "      <td>132.0</td>\n",
              "      <td>1000.0</td>\n",
              "      <td>460.000000</td>\n",
              "      <td>5060.0</td>\n",
              "      <td>0.563788</td>\n",
              "      <td>1.0</td>\n",
              "    </tr>\n",
              "    <tr>\n",
              "      <th>2133611</th>\n",
              "      <td>2017, Long Rain</td>\n",
              "      <td>False</td>\n",
              "      <td>6185.0</td>\n",
              "      <td>2017</td>\n",
              "      <td>Sep 29 2016  8:31AM</td>\n",
              "      <td>True</td>\n",
              "      <td>3.0</td>\n",
              "      <td>1885180.0</td>\n",
              "      <td>187</td>\n",
              "      <td>91405.0</td>\n",
              "      <td>...</td>\n",
              "      <td>False</td>\n",
              "      <td>0.0</td>\n",
              "      <td>6.0</td>\n",
              "      <td>False</td>\n",
              "      <td>132.0</td>\n",
              "      <td>500.0</td>\n",
              "      <td>425.000000</td>\n",
              "      <td>1700.0</td>\n",
              "      <td>0.274859</td>\n",
              "      <td>1.0</td>\n",
              "    </tr>\n",
              "    <tr>\n",
              "      <th>2133612</th>\n",
              "      <td>2017, Long Rain</td>\n",
              "      <td>False</td>\n",
              "      <td>9575.0</td>\n",
              "      <td>2017</td>\n",
              "      <td>Sep 28 2016  8:21AM</td>\n",
              "      <td>True</td>\n",
              "      <td>2.0</td>\n",
              "      <td>2718100.0</td>\n",
              "      <td>304</td>\n",
              "      <td>91030.0</td>\n",
              "      <td>...</td>\n",
              "      <td>False</td>\n",
              "      <td>0.0</td>\n",
              "      <td>9.0</td>\n",
              "      <td>False</td>\n",
              "      <td>132.0</td>\n",
              "      <td>1075.0</td>\n",
              "      <td>463.461538</td>\n",
              "      <td>6025.0</td>\n",
              "      <td>0.629243</td>\n",
              "      <td>1.0</td>\n",
              "    </tr>\n",
              "    <tr>\n",
              "      <th>2133613</th>\n",
              "      <td>2017, Long Rain</td>\n",
              "      <td>False</td>\n",
              "      <td>4975.0</td>\n",
              "      <td>2017</td>\n",
              "      <td>Sep 28 2016  8:50AM</td>\n",
              "      <td>True</td>\n",
              "      <td>2.0</td>\n",
              "      <td>2718100.0</td>\n",
              "      <td>304</td>\n",
              "      <td>91030.0</td>\n",
              "      <td>...</td>\n",
              "      <td>False</td>\n",
              "      <td>0.0</td>\n",
              "      <td>7.0</td>\n",
              "      <td>False</td>\n",
              "      <td>132.0</td>\n",
              "      <td>800.0</td>\n",
              "      <td>514.285714</td>\n",
              "      <td>3600.0</td>\n",
              "      <td>0.723618</td>\n",
              "      <td>1.0</td>\n",
              "    </tr>\n",
              "  </tbody>\n",
              "</table>\n",
              "<p>2133614 rows × 39 columns</p>\n",
              "</div>"
            ],
            "text/plain": [
              "              SeasonName  Facilitator  TotalCredit  OperationalYear  \\\n",
              "0        2017, Long Rain        False       7675.0             2017   \n",
              "1        2017, Long Rain        False       6185.0             2017   \n",
              "2        2017, Long Rain        False       6185.0             2017   \n",
              "3        2017, Long Rain        False      14175.0             2017   \n",
              "4        2017, Long Rain        False      16470.0             2017   \n",
              "...                  ...          ...          ...              ...   \n",
              "2133609  2017, Long Rain        False       4470.0             2017   \n",
              "2133610  2017, Long Rain        False       8975.0             2017   \n",
              "2133611  2017, Long Rain        False       6185.0             2017   \n",
              "2133612  2017, Long Rain        False       9575.0             2017   \n",
              "2133613  2017, Long Rain        False       4975.0             2017   \n",
              "\n",
              "                 CreatedDate  HasPhone  Facilitator_SeasonNumber  \\\n",
              "0        Oct  5 2016  8:50AM      True                       3.0   \n",
              "1        Oct 11 2016  2:13PM      True                       2.0   \n",
              "2        Oct 19 2016  3:10PM      True                       4.0   \n",
              "3        Oct 15 2016  1:50PM      True                       1.0   \n",
              "4        Oct 19 2016 10:32AM      True                       3.0   \n",
              "...                      ...       ...                       ...   \n",
              "2133609  Sep 28 2016  8:38AM      True                       2.0   \n",
              "2133610  Sep 28 2016  8:48AM      True                       2.0   \n",
              "2133611  Sep 29 2016  8:31AM      True                       3.0   \n",
              "2133612  Sep 28 2016  8:21AM      True                       2.0   \n",
              "2133613  Sep 28 2016  8:50AM      True                       2.0   \n",
              "\n",
              "         Site_TotalCredit  Site_NumberOfFarmers  Group_TotalCredit  ...  \\\n",
              "0               2718100.0                   304           115340.0  ...   \n",
              "1               1574425.0                   172           122620.0  ...   \n",
              "2               1656995.0                   188            58975.0  ...   \n",
              "3               3129120.0                   259           147935.0  ...   \n",
              "4               2824215.0                   278            88475.0  ...   \n",
              "...                   ...                   ...                ...  ...   \n",
              "2133609         2718100.0                   304            91030.0  ...   \n",
              "2133610         2718100.0                   304            91030.0  ...   \n",
              "2133611         1885180.0                   187            91405.0  ...   \n",
              "2133612         2718100.0                   304            91030.0  ...   \n",
              "2133613         2718100.0                   304            91030.0  ...   \n",
              "\n",
              "         Phone  NumberUndeliveredInput  NumberDeliveredInput  Active  \\\n",
              "0        False                     0.0                   9.0   False   \n",
              "1        False                     0.0                   6.0   False   \n",
              "2        False                     0.0                   6.0   False   \n",
              "3        False                     0.0                   9.0   False   \n",
              "4        False                     0.0                  12.0   False   \n",
              "...        ...                     ...                   ...     ...   \n",
              "2133609  False                     0.0                   8.0   False   \n",
              "2133610  False                     0.0                  10.0   False   \n",
              "2133611  False                     0.0                   6.0   False   \n",
              "2133612  False                     0.0                   9.0   False   \n",
              "2133613  False                     0.0                   7.0   False   \n",
              "\n",
              "         DaysToSeasonEnd MaximumPaymentAmount AveragePaymentAmount TotalPaid  \\\n",
              "0                  132.0                600.0           313.636364    3450.0   \n",
              "1                  132.0                250.0           142.500000    2280.0   \n",
              "2                  132.0               1000.0           670.600000    3353.0   \n",
              "3                  132.0               2400.0          1112.500000    8900.0   \n",
              "4                  132.0               1500.0           392.941176    6680.0   \n",
              "...                  ...                  ...                  ...       ...   \n",
              "2133609            132.0                700.0           385.714286    2700.0   \n",
              "2133610            132.0               1000.0           460.000000    5060.0   \n",
              "2133611            132.0                500.0           425.000000    1700.0   \n",
              "2133612            132.0               1075.0           463.461538    6025.0   \n",
              "2133613            132.0                800.0           514.285714    3600.0   \n",
              "\n",
              "        PercentagePaid DistinctRepaymentPhoneNumbers  \n",
              "0             0.449511                           1.0  \n",
              "1             0.368634                           1.0  \n",
              "2             0.542118                           1.0  \n",
              "3             0.627866                           2.0  \n",
              "4             0.405586                           1.0  \n",
              "...                ...                           ...  \n",
              "2133609       0.604027                           1.0  \n",
              "2133610       0.563788                           1.0  \n",
              "2133611       0.274859                           1.0  \n",
              "2133612       0.629243                           1.0  \n",
              "2133613       0.723618                           1.0  \n",
              "\n",
              "[2133614 rows x 39 columns]"
            ]
          },
          "execution_count": 125,
          "metadata": {},
          "output_type": "execute_result"
        }
      ],
      "source": [
        "X"
      ]
    },
    {
      "cell_type": "code",
      "execution_count": null,
      "metadata": {
        "id": "5ABp8VmvxGxw",
        "outputId": "0e2fc17c-66d1-4741-8e78-09323a7f751b"
      },
      "outputs": [
        {
          "data": {
            "text/plain": [
              "0          True\n",
              "1          True\n",
              "2          True\n",
              "3          True\n",
              "4          True\n",
              "           ... \n",
              "2133609    True\n",
              "2133610    True\n",
              "2133611    True\n",
              "2133612    True\n",
              "2133613    True\n",
              "Name: Repaid, Length: 2133614, dtype: bool"
            ]
          },
          "execution_count": 116,
          "metadata": {},
          "output_type": "execute_result"
        }
      ],
      "source": [
        "y"
      ]
    },
    {
      "cell_type": "code",
      "execution_count": null,
      "metadata": {
        "id": "3cFydQzLxGxx"
      },
      "outputs": [],
      "source": [
        "# Split the data into train and test sets\n",
        "\n",
        "X_train,X_test,y_train,y_test = train_test_split(X,y,test_size=(0.3))"
      ]
    },
    {
      "cell_type": "code",
      "execution_count": null,
      "metadata": {
        "id": "uX2RH1cZxGxx",
        "outputId": "a87fbfb3-6193-4166-b114-00fa1e84e9fc"
      },
      "outputs": [
        {
          "data": {
            "text/plain": [
              "((818134, 37), (350629, 37), (818134,), (350629,))"
            ]
          },
          "execution_count": 6,
          "metadata": {},
          "output_type": "execute_result"
        }
      ],
      "source": [
        "# Shape of the train and test sets\n",
        "X_train.shape,X_test.shape,y_train.shape,y_test.shape"
      ]
    },
    {
      "cell_type": "markdown",
      "metadata": {
        "id": "VXgxR02IxGxx"
      },
      "source": [
        "### Building a machine learning model\n",
        "### Experimenting with 3 machine learning models\n",
        "1. Logistics regression\n",
        "2. K-Nearest Neighbor\n",
        "3. Random Forest Classifier"
      ]
    },
    {
      "cell_type": "code",
      "execution_count": null,
      "metadata": {
        "id": "sPqgoINkxGxx"
      },
      "outputs": [],
      "source": [
        "# Put models in a dictionary\n",
        "models = {'Logistic Regression':LogisticRegression(),\n",
        "         'KNN':KNeighborsClassifier(),\n",
        "         'Random Forest': RandomForestClassifier()}\n",
        "\n",
        "# Create a function to fit and score the models\n",
        "def fit_and_score(models, X_train, X_test, y_train, y_test):\n",
        "    \"\"\"\n",
        "    Fits and evaluates given machine learning models.\n",
        "    models : a dict of different scikit learn models\n",
        "    X_train : training data (no labels)\n",
        "    X_test : testing data (no labels)\n",
        "    y_training : training labels\n",
        "    y_test : testing labels\n",
        "    \"\"\"\n",
        "    # Set a random seed - to make sure our results are reproducible\n",
        "    np.random.seed(42)\n",
        "    # Make a dictionary to keep model scores\n",
        "    model_scores = {}\n",
        "    \n",
        "    # Loop through models\n",
        "    for name, model in models.items():\n",
        "        # Fit the model to the data\n",
        "        model.fit(X_train,y_train)\n",
        "        # Evaluate the model and append its score to model_scores\n",
        "        model_scores[name]=model.score(X_test,y_test)\n",
        "    return model_scores"
      ]
    },
    {
      "cell_type": "code",
      "execution_count": null,
      "metadata": {
        "id": "mzvDQN9UxGxy",
        "outputId": "c936b65e-c4ab-47c3-c249-ea34516165de"
      },
      "outputs": [
        {
          "data": {
            "text/plain": [
              "{'Logistic Regression': 0.6750012121073842,\n",
              " 'KNN': 0.774864600475146,\n",
              " 'Random Forest': 0.9719646692087648}"
            ]
          },
          "execution_count": 21,
          "metadata": {},
          "output_type": "execute_result"
        }
      ],
      "source": [
        "model_scores = fit_and_score(models = models,\n",
        "                            X_train = X_train,\n",
        "                            X_test = X_test,\n",
        "                            y_train = y_train,\n",
        "                            y_test = y_test)\n",
        "model_scores"
      ]
    },
    {
      "cell_type": "code",
      "execution_count": null,
      "metadata": {
        "id": "i7YCXIpvxGxy",
        "outputId": "f2f79545-0cd5-4ced-da05-3674a74f799e"
      },
      "outputs": [
        {
          "data": {
            "text/plain": [
              "<AxesSubplot:>"
            ]
          },
          "execution_count": 24,
          "metadata": {},
          "output_type": "execute_result"
        },
        {
          "data": {
            "image/png": "[encoded data removed]",
            "text/plain": [
              "<Figure size 432x288 with 1 Axes>"
            ]
          },
          "metadata": {
            "needs_background": "light"
          },
          "output_type": "display_data"
        }
      ],
      "source": [
        "# Comparing models\n",
        "model_compare = pd.DataFrame(model_scores,index=['accuracy'])\n",
        "model_compare.T.plot.bar()"
      ]
    },
    {
      "cell_type": "markdown",
      "metadata": {
        "id": "0SmhHkOfxGxy"
      },
      "source": [
        "### Hyperparameter Tuning for KNC (Second Highest Scoring Model)"
      ]
    },
    {
      "cell_type": "code",
      "execution_count": null,
      "metadata": {
        "id": "1JKNP1XyxGxz"
      },
      "outputs": [],
      "source": [
        "# Tuning KNN\n",
        "\n",
        "train_scores = []\n",
        "test_scores = []\n",
        "\n",
        "# create a list of different values for n neighbors\n",
        "neighbors = range(1,21)\n",
        "\n",
        "# Setup KNN instance\n",
        "knn = KNeighborsClassifier()\n",
        "\n",
        "# Loop through different n_neighbors\n",
        "for i in neighbors:\n",
        "    knn.set_params(n_neighbors = i)\n",
        "    # fit the algorithm\n",
        "    knn.fit(X_train, y_train)\n",
        "    # update the training scores list\n",
        "    train_scores.append(knn.score(X_train,y_train))\n",
        "    # update the test scores list\n",
        "    test_scores.append(knn.score(X_test,y_test))"
      ]
    },
    {
      "cell_type": "code",
      "execution_count": null,
      "metadata": {
        "id": "svh9KfjjxGxz",
        "outputId": "33c4ff61-7e4f-4d70-b94c-5685bb8e06d2"
      },
      "outputs": [
        {
          "data": {
            "text/plain": [
              "[0.9999987777063415,\n",
              " 0.9007852014462179,\n",
              " 0.8945453923195956,\n",
              " 0.8599434811412311,\n",
              " 0.8534078769492528,\n",
              " 0.8374911689283173,\n",
              " 0.8308260016085385,\n",
              " 0.8212248849210521,\n",
              " 0.8157208965768444,\n",
              " 0.8092256280755964,\n",
              " 0.8039074283674802,\n",
              " 0.7999080835168811,\n",
              " 0.7949321260331437,\n",
              " 0.7922015220000636,\n",
              " 0.7872157861670582,\n",
              " 0.7851880009876133,\n",
              " 0.7803269391077745,\n",
              " 0.7791070900365955,\n",
              " 0.7747117220406438,\n",
              " 0.7742545842123661]"
            ]
          },
          "execution_count": 26,
          "metadata": {},
          "output_type": "execute_result"
        }
      ],
      "source": [
        "train_scores"
      ]
    },
    {
      "cell_type": "code",
      "execution_count": null,
      "metadata": {
        "id": "VRU-Uz8ExGxz",
        "outputId": "fe81afeb-3f6e-4cd9-dc56-27eec98d5358"
      },
      "outputs": [
        {
          "data": {
            "text/plain": [
              "[0.802991195822365,\n",
              " 0.7519743090274906,\n",
              " 0.7801550927048247,\n",
              " 0.7590302000119785,\n",
              " 0.774864600475146,\n",
              " 0.7612176973382122,\n",
              " 0.7671584495292745,\n",
              " 0.7586109534579285,\n",
              " 0.7626294459385846,\n",
              " 0.7560555458903856,\n",
              " 0.7579207652533019,\n",
              " 0.7534744701664723,\n",
              " 0.7543300753788192,\n",
              " 0.750998919085415,\n",
              " 0.7510559594329048,\n",
              " 0.7486374486993375,\n",
              " 0.7480214129464476,\n",
              " 0.7459993326279344,\n",
              " 0.7459508483325681,\n",
              " 0.7438831357360629]"
            ]
          },
          "execution_count": 27,
          "metadata": {},
          "output_type": "execute_result"
        }
      ],
      "source": [
        "test_scores"
      ]
    },
    {
      "cell_type": "code",
      "execution_count": null,
      "metadata": {
        "id": "Gsf5wcm3xGxz",
        "outputId": "b41572c7-4b70-41fd-bb8e-cfbfa8e37376"
      },
      "outputs": [
        {
          "name": "stdout",
          "output_type": "stream",
          "text": [
            "Max model score on the data: 80.30%\n"
          ]
        },
        {
          "data": {
            "image/png": "[encoded data removed]",
            "text/plain": [
              "<Figure size 432x288 with 1 Axes>"
            ]
          },
          "metadata": {
            "needs_background": "light"
          },
          "output_type": "display_data"
        }
      ],
      "source": [
        "plt.plot(neighbors, train_scores, label = 'Train Score')\n",
        "plt.plot(neighbors, test_scores, label = 'Test score')\n",
        "plt.xticks(np.arange(1,21,1))\n",
        "plt.xlabel('Number of Neighbors')\n",
        "plt.ylabel('Model score')\n",
        "plt.legend()\n",
        "\n",
        "print(f'Max model score on the data: {max(test_scores)*100:.2f}%')\n",
        "#It is clear that by increasing the number neighbors there is a drop in accuracy score of the KNN model"
      ]
    },
    {
      "cell_type": "markdown",
      "metadata": {
        "id": "ZOcuR6q_xGx0"
      },
      "source": [
        "#### Evaluating the machine learning classifier, beyond accuracy\n",
        "* ROC and AUC curve\n",
        "* Classification Report\n",
        "* Confusion Matrix\n",
        "* Precision\n",
        "* Recall\n",
        "* F1 score"
      ]
    },
    {
      "cell_type": "code",
      "execution_count": null,
      "metadata": {
        "id": "snLlHcT1xGx0",
        "outputId": "ff69450a-07af-440a-f6e4-818b4cf6c236"
      },
      "outputs": [
        {
          "data": {
            "text/plain": [
              "RandomForestClassifier()"
            ]
          },
          "execution_count": 7,
          "metadata": {},
          "output_type": "execute_result"
        }
      ],
      "source": [
        "#To make comparisons and evaluate our trained model first we need to make predictions\n",
        "clf = RandomForestClassifier()\n",
        "clf.fit(X_train,y_train)"
      ]
    },
    {
      "cell_type": "code",
      "execution_count": null,
      "metadata": {
        "id": "GYzqGBX8xGx0"
      },
      "outputs": [],
      "source": [
        "y_preds = clf.predict(X_test)"
      ]
    },
    {
      "cell_type": "code",
      "execution_count": null,
      "metadata": {
        "id": "xlQNTH40xGx0",
        "outputId": "19c0949f-158e-4dd2-e25d-dddff656bd5b"
      },
      "outputs": [
        {
          "data": {
            "text/plain": [
              "(350629,)"
            ]
          },
          "execution_count": 63,
          "metadata": {},
          "output_type": "execute_result"
        }
      ],
      "source": [
        "y_preds.shape"
      ]
    },
    {
      "cell_type": "code",
      "execution_count": null,
      "metadata": {
        "id": "U71HXQF8xGx1",
        "outputId": "840eea57-6177-4efe-82d0-7ced91cd4b00"
      },
      "outputs": [
        {
          "data": {
            "text/plain": [
              "array([ True, False,  True, ...,  True,  True,  True])"
            ]
          },
          "execution_count": 66,
          "metadata": {},
          "output_type": "execute_result"
        }
      ],
      "source": [
        "y_preds"
      ]
    },
    {
      "cell_type": "code",
      "execution_count": null,
      "metadata": {
        "id": "uq1vQAvHxGx1",
        "outputId": "a1430928-43a4-4aaf-b512-9abdd115c6c4"
      },
      "outputs": [
        {
          "data": {
            "text/plain": [
              "(350629,)"
            ]
          },
          "execution_count": 38,
          "metadata": {},
          "output_type": "execute_result"
        }
      ],
      "source": [
        "y_test.shape"
      ]
    },
    {
      "cell_type": "code",
      "execution_count": null,
      "metadata": {
        "id": "G3i_KYYkxGx1",
        "outputId": "316f91c5-343c-40b0-a3fc-c56d5bba777c"
      },
      "outputs": [
        {
          "data": {
            "text/plain": [
              "<sklearn.metrics._plot.roc_curve.RocCurveDisplay at 0x7ff9dc2afaf0>"
            ]
          },
          "execution_count": 39,
          "metadata": {},
          "output_type": "execute_result"
        },
        {
          "data": {
            "image/png": "[encoded data removed]",
            "text/plain": [
              "<Figure size 432x288 with 1 Axes>"
            ]
          },
          "metadata": {
            "needs_background": "light"
          },
          "output_type": "display_data"
        }
      ],
      "source": [
        "# Plot ROC curve and calculate the AUC (Area under the Curve) metric\n",
        "plot_roc_curve(clf, X_test, y_test)"
      ]
    },
    {
      "cell_type": "code",
      "execution_count": null,
      "metadata": {
        "id": "mCMHEi0-xGx1",
        "outputId": "9cec937b-5593-4147-d2ed-932e07909328"
      },
      "outputs": [
        {
          "name": "stdout",
          "output_type": "stream",
          "text": [
            "[[107268   9035]\n",
            " [   774 233552]]\n"
          ]
        }
      ],
      "source": [
        "#  Confusion matrix\n",
        "print(confusion_matrix(y_test, y_preds))"
      ]
    },
    {
      "cell_type": "code",
      "execution_count": null,
      "metadata": {
        "id": "UGXusu25xGx1",
        "outputId": "6026b248-bb04-4b7d-8bed-c1fef3372321"
      },
      "outputs": [
        {
          "name": "stdout",
          "output_type": "stream",
          "text": [
            "              precision    recall  f1-score   support\n",
            "\n",
            "       False       0.99      0.92      0.96    116303\n",
            "        True       0.96      1.00      0.98    234326\n",
            "\n",
            "    accuracy                           0.97    350629\n",
            "   macro avg       0.98      0.96      0.97    350629\n",
            "weighted avg       0.97      0.97      0.97    350629\n",
            "\n"
          ]
        }
      ],
      "source": [
        "# Classification Report\n",
        "print(classification_report(y_test, y_preds))"
      ]
    },
    {
      "cell_type": "markdown",
      "metadata": {
        "id": "Gc1GG3Q4xGx2"
      },
      "source": [
        "#### Calculate evaluation metrics using cross-validation\n",
        "#### Calculating accuracy, precision, recall, f1 score of our model using cross-validation"
      ]
    },
    {
      "cell_type": "code",
      "execution_count": null,
      "metadata": {
        "id": "7kxsA2RSxGx2"
      },
      "outputs": [],
      "source": [
        "# Cross-validated precision for the entire dataset\n",
        "cv_precision = cross_val_score(clf,\n",
        "                        X,\n",
        "                        y,\n",
        "                        cv=5,\n",
        "                        scoring='precision')"
      ]
    },
    {
      "cell_type": "code",
      "execution_count": null,
      "metadata": {
        "id": "yacOcbHdxGx2",
        "outputId": "2bf0eb41-bb0c-4a81-8832-1eba2bd3ba07"
      },
      "outputs": [
        {
          "data": {
            "text/plain": [
              "0.9607896717943172"
            ]
          },
          "execution_count": 109,
          "metadata": {},
          "output_type": "execute_result"
        }
      ],
      "source": [
        "# Precision\n",
        "cv_precision = np.mean(cv_precision)\n",
        "cv_precision"
      ]
    },
    {
      "cell_type": "code",
      "execution_count": null,
      "metadata": {
        "id": "5P69CS4NxGx2"
      },
      "outputs": [],
      "source": [
        "# Cross-validated accuracy for the entire dataset\n",
        "cv_acc = cross_val_score(clf,\n",
        "                        X,\n",
        "                        y,\n",
        "                        cv=5,\n",
        "                        scoring='accuracy')"
      ]
    },
    {
      "cell_type": "code",
      "execution_count": null,
      "metadata": {
        "id": "AeBOrAlUxGx3",
        "outputId": "0ab784ca-b2da-46e9-da24-c91983e20795"
      },
      "outputs": [
        {
          "data": {
            "text/plain": [
              "0.969826243789571"
            ]
          },
          "execution_count": 18,
          "metadata": {},
          "output_type": "execute_result"
        }
      ],
      "source": [
        "# Accuracy\n",
        "cv_acc = np.mean(cv_acc)\n",
        "cv_acc"
      ]
    },
    {
      "cell_type": "code",
      "execution_count": null,
      "metadata": {
        "id": "H-5Tqdy9xGx3"
      },
      "outputs": [],
      "source": [
        "# Cross-validated recall for the entire dataset\n",
        "cv_recall = cross_val_score(clf,\n",
        "                        X,\n",
        "                        y,\n",
        "                        cv=5,\n",
        "                        scoring='recall')"
      ]
    },
    {
      "cell_type": "code",
      "execution_count": null,
      "metadata": {
        "id": "9FiWgGNKxGx3",
        "outputId": "0df35b76-928f-43dc-a623-9b57997497c8"
      },
      "outputs": [
        {
          "data": {
            "text/plain": [
              "0.9962190396061532"
            ]
          },
          "execution_count": 111,
          "metadata": {},
          "output_type": "execute_result"
        }
      ],
      "source": [
        "# Recall\n",
        "cv_recall = np.mean(cv_recall)\n",
        "cv_recall"
      ]
    },
    {
      "cell_type": "code",
      "execution_count": null,
      "metadata": {
        "id": "AZjEZFJ9xGx3"
      },
      "outputs": [],
      "source": [
        "# Cross-validated f1 score for the entire dataset\n",
        "cv_recall = cross_val_score(clf,\n",
        "                        X,\n",
        "                        y,\n",
        "                        cv=5,\n",
        "                        scoring='f1')"
      ]
    },
    {
      "cell_type": "code",
      "execution_count": null,
      "metadata": {
        "id": "AelMqTQuxGx4",
        "outputId": "556c3040-3016-4bd7-c112-7216cc6b29a4"
      },
      "outputs": [
        {
          "data": {
            "text/plain": [
              "0.978048670457154"
            ]
          },
          "execution_count": 113,
          "metadata": {},
          "output_type": "execute_result"
        }
      ],
      "source": [
        "cv_f1 = np.mean(cv_f1)\n",
        "cv_f1"
      ]
    },
    {
      "cell_type": "code",
      "execution_count": null,
      "metadata": {
        "id": "lea0rrWixGx4"
      },
      "outputs": [],
      "source": [
        "#predictions_file = open(\"predictions.txt\", \"w\")\n",
        "#text = y_preds\n",
        "#print(text, file=predictions_file)\n",
        "#predictions_file.close()"
      ]
    },
    {
      "cell_type": "markdown",
      "metadata": {
        "id": "qLfkUo-QxGx4"
      },
      "source": [
        "#### Feature Importance\n",
        "* Which Features contribute the most to the outcome of the model and how did they contribute"
      ]
    },
    {
      "cell_type": "code",
      "execution_count": null,
      "metadata": {
        "id": "nXjYYMpIxGx4",
        "outputId": "6759c95d-b692-4fee-ade4-43dd8549d1b1"
      },
      "outputs": [
        {
          "data": {
            "text/html": [
              "<div>\n",
              "<style scoped>\n",
              "    .dataframe tbody tr th:only-of-type {\n",
              "        vertical-align: middle;\n",
              "    }\n",
              "\n",
              "    .dataframe tbody tr th {\n",
              "        vertical-align: top;\n",
              "    }\n",
              "\n",
              "    .dataframe thead th {\n",
              "        text-align: right;\n",
              "    }\n",
              "</style>\n",
              "<table border=\"1\" class=\"dataframe\">\n",
              "  <thead>\n",
              "    <tr style=\"text-align: right;\">\n",
              "      <th></th>\n",
              "      <th>DimSeasonID</th>\n",
              "      <th>CountryName</th>\n",
              "      <th>SeasonName</th>\n",
              "      <th>Facilitator</th>\n",
              "      <th>DimClientID</th>\n",
              "      <th>DimGroupID</th>\n",
              "      <th>DimSiteID</th>\n",
              "      <th>DimDistrictID</th>\n",
              "      <th>TotalCredit</th>\n",
              "      <th>OperationalYear</th>\n",
              "      <th>...</th>\n",
              "      <th>NumberUndeliveredInput</th>\n",
              "      <th>NumberDeliveredInput</th>\n",
              "      <th>Active</th>\n",
              "      <th>DaysToSeasonEnd</th>\n",
              "      <th>Repaid</th>\n",
              "      <th>MaximumPaymentAmount</th>\n",
              "      <th>AveragePaymentAmount</th>\n",
              "      <th>TotalPaid</th>\n",
              "      <th>PercentagePaid</th>\n",
              "      <th>DistinctRepaymentPhoneNumbers</th>\n",
              "    </tr>\n",
              "  </thead>\n",
              "  <tbody>\n",
              "    <tr>\n",
              "      <th>0</th>\n",
              "      <td>13</td>\n",
              "      <td>Kenya</td>\n",
              "      <td>2017, Long Rain</td>\n",
              "      <td>False</td>\n",
              "      <td>487378</td>\n",
              "      <td>78077</td>\n",
              "      <td>2591</td>\n",
              "      <td>45</td>\n",
              "      <td>7675.0</td>\n",
              "      <td>2017</td>\n",
              "      <td>...</td>\n",
              "      <td>0.0</td>\n",
              "      <td>9.0</td>\n",
              "      <td>False</td>\n",
              "      <td>132.0</td>\n",
              "      <td>True</td>\n",
              "      <td>600.0</td>\n",
              "      <td>313.636364</td>\n",
              "      <td>3450.0</td>\n",
              "      <td>0.449511</td>\n",
              "      <td>1.0</td>\n",
              "    </tr>\n",
              "    <tr>\n",
              "      <th>2</th>\n",
              "      <td>13</td>\n",
              "      <td>Kenya</td>\n",
              "      <td>2017, Long Rain</td>\n",
              "      <td>False</td>\n",
              "      <td>1482338</td>\n",
              "      <td>133995</td>\n",
              "      <td>4497</td>\n",
              "      <td>78</td>\n",
              "      <td>6185.0</td>\n",
              "      <td>2017</td>\n",
              "      <td>...</td>\n",
              "      <td>0.0</td>\n",
              "      <td>6.0</td>\n",
              "      <td>False</td>\n",
              "      <td>132.0</td>\n",
              "      <td>True</td>\n",
              "      <td>1000.0</td>\n",
              "      <td>670.600000</td>\n",
              "      <td>3353.0</td>\n",
              "      <td>0.542118</td>\n",
              "      <td>1.0</td>\n",
              "    </tr>\n",
              "    <tr>\n",
              "      <th>4</th>\n",
              "      <td>13</td>\n",
              "      <td>Kenya</td>\n",
              "      <td>2017, Long Rain</td>\n",
              "      <td>False</td>\n",
              "      <td>3196771</td>\n",
              "      <td>115056</td>\n",
              "      <td>3934</td>\n",
              "      <td>64</td>\n",
              "      <td>16470.0</td>\n",
              "      <td>2017</td>\n",
              "      <td>...</td>\n",
              "      <td>0.0</td>\n",
              "      <td>12.0</td>\n",
              "      <td>False</td>\n",
              "      <td>132.0</td>\n",
              "      <td>True</td>\n",
              "      <td>1500.0</td>\n",
              "      <td>392.941176</td>\n",
              "      <td>6680.0</td>\n",
              "      <td>0.405586</td>\n",
              "      <td>1.0</td>\n",
              "    </tr>\n",
              "    <tr>\n",
              "      <th>6</th>\n",
              "      <td>13</td>\n",
              "      <td>Kenya</td>\n",
              "      <td>2017, Long Rain</td>\n",
              "      <td>False</td>\n",
              "      <td>3402033</td>\n",
              "      <td>113828</td>\n",
              "      <td>3951</td>\n",
              "      <td>64</td>\n",
              "      <td>17465.0</td>\n",
              "      <td>2017</td>\n",
              "      <td>...</td>\n",
              "      <td>0.0</td>\n",
              "      <td>13.0</td>\n",
              "      <td>False</td>\n",
              "      <td>132.0</td>\n",
              "      <td>True</td>\n",
              "      <td>1000.0</td>\n",
              "      <td>516.666667</td>\n",
              "      <td>4650.0</td>\n",
              "      <td>0.266247</td>\n",
              "      <td>1.0</td>\n",
              "    </tr>\n",
              "    <tr>\n",
              "      <th>7</th>\n",
              "      <td>13</td>\n",
              "      <td>Kenya</td>\n",
              "      <td>2017, Long Rain</td>\n",
              "      <td>False</td>\n",
              "      <td>1643911</td>\n",
              "      <td>108770</td>\n",
              "      <td>3765</td>\n",
              "      <td>61</td>\n",
              "      <td>4285.0</td>\n",
              "      <td>2017</td>\n",
              "      <td>...</td>\n",
              "      <td>0.0</td>\n",
              "      <td>8.0</td>\n",
              "      <td>False</td>\n",
              "      <td>132.0</td>\n",
              "      <td>True</td>\n",
              "      <td>1000.0</td>\n",
              "      <td>400.000000</td>\n",
              "      <td>2000.0</td>\n",
              "      <td>0.466744</td>\n",
              "      <td>1.0</td>\n",
              "    </tr>\n",
              "  </tbody>\n",
              "</table>\n",
              "<p>5 rows × 47 columns</p>\n",
              "</div>"
            ],
            "text/plain": [
              "   DimSeasonID CountryName       SeasonName  Facilitator  DimClientID  \\\n",
              "0           13       Kenya  2017, Long Rain        False       487378   \n",
              "2           13       Kenya  2017, Long Rain        False      1482338   \n",
              "4           13       Kenya  2017, Long Rain        False      3196771   \n",
              "6           13       Kenya  2017, Long Rain        False      3402033   \n",
              "7           13       Kenya  2017, Long Rain        False      1643911   \n",
              "\n",
              "   DimGroupID  DimSiteID  DimDistrictID  TotalCredit  OperationalYear  ...  \\\n",
              "0       78077       2591             45       7675.0             2017  ...   \n",
              "2      133995       4497             78       6185.0             2017  ...   \n",
              "4      115056       3934             64      16470.0             2017  ...   \n",
              "6      113828       3951             64      17465.0             2017  ...   \n",
              "7      108770       3765             61       4285.0             2017  ...   \n",
              "\n",
              "  NumberUndeliveredInput  NumberDeliveredInput  Active  DaysToSeasonEnd  \\\n",
              "0                    0.0                   9.0   False            132.0   \n",
              "2                    0.0                   6.0   False            132.0   \n",
              "4                    0.0                  12.0   False            132.0   \n",
              "6                    0.0                  13.0   False            132.0   \n",
              "7                    0.0                   8.0   False            132.0   \n",
              "\n",
              "   Repaid  MaximumPaymentAmount  AveragePaymentAmount  TotalPaid  \\\n",
              "0    True                 600.0            313.636364     3450.0   \n",
              "2    True                1000.0            670.600000     3353.0   \n",
              "4    True                1500.0            392.941176     6680.0   \n",
              "6    True                1000.0            516.666667     4650.0   \n",
              "7    True                1000.0            400.000000     2000.0   \n",
              "\n",
              "   PercentagePaid  DistinctRepaymentPhoneNumbers  \n",
              "0        0.449511                            1.0  \n",
              "2        0.542118                            1.0  \n",
              "4        0.405586                            1.0  \n",
              "6        0.266247                            1.0  \n",
              "7        0.466744                            1.0  \n",
              "\n",
              "[5 rows x 47 columns]"
            ]
          },
          "execution_count": 9,
          "metadata": {},
          "output_type": "execute_result"
        }
      ],
      "source": [
        "oaf.head()"
      ]
    },
    {
      "cell_type": "code",
      "execution_count": null,
      "metadata": {
        "id": "jyXPfIz-xGx5",
        "outputId": "80cae136-a924-4d91-dc5d-97cdf825764e"
      },
      "outputs": [
        {
          "data": {
            "text/plain": [
              "array([1.09517378e-03, 1.59128664e-02, 3.69026666e-01, 0.00000000e+00,\n",
              "       4.77466339e-03, 1.34519573e-02, 1.33553329e-02, 1.14355981e-02,\n",
              "       7.37279427e-03, 1.15608015e-02, 2.13209899e-03, 2.88257793e-03,\n",
              "       2.87205181e-03, 1.01215905e-03, 0.00000000e+00, 4.84514288e-02,\n",
              "       2.40694777e-02, 3.60027241e-03, 1.42227641e-02, 1.07275826e-03,\n",
              "       1.68285905e-03, 1.34738114e-03, 3.13269277e-04, 1.89511178e-04,\n",
              "       1.15761624e-04, 2.55644086e-05, 1.15398758e-04, 1.29624730e-03,\n",
              "       3.47899748e-03, 1.35925265e-02, 2.93956742e-01, 0.00000000e+00,\n",
              "       9.30896647e-03, 1.22671846e-02, 1.89511082e-02, 5.36024471e-02,\n",
              "       4.14545926e-02])"
            ]
          },
          "execution_count": 11,
          "metadata": {},
          "output_type": "execute_result"
        }
      ],
      "source": [
        "clf.feature_importances_"
      ]
    },
    {
      "cell_type": "code",
      "execution_count": null,
      "metadata": {
        "id": "OLpXppZExGx5",
        "outputId": "dfadd9a5-3981-477e-9fe0-e86c8cc7c9ae"
      },
      "outputs": [
        {
          "data": {
            "text/plain": [
              "HasPhone                          0.000000\n",
              "DaysToSeasonEnd                   0.000000\n",
              "Travertine                        0.000000\n",
              "BeanSeed                          0.000026\n",
              "Chicken                           0.000115\n",
              "VeggieSeed                        0.000116\n",
              "InputKGs                          0.000190\n",
              "JiT                               0.000313\n",
              "Fertilizer                        0.001012\n",
              "Safety                            0.001073\n",
              "Facilitator                       0.001095\n",
              "Phone                             0.001296\n",
              "Maize                             0.001347\n",
              "PostHarvest                       0.001683\n",
              "SeasonsAsFacilitator              0.002132\n",
              "SeasonNumber                      0.002872\n",
              "NumberOfPreviousSeasonsDropped    0.002883\n",
              "NumberUndeliveredInput            0.003479\n",
              "Solar                             0.003600\n",
              "Facilitator_SeasonNumber          0.004775\n",
              "Group_MaxSeasonNumber             0.007373\n",
              "MaximumPaymentAmount              0.009309\n",
              "Group_TotalCredit                 0.011436\n",
              "Group_NumberOfFarmers             0.011561\n",
              "AveragePaymentAmount              0.012267\n",
              "Site_NumberOfFarmers              0.013355\n",
              "Site_TotalCredit                  0.013452\n",
              "NumberDeliveredInput              0.013593\n",
              "Insurance                         0.014223\n",
              "TotalCredit                       0.015913\n",
              "TotalPaid                         0.018951\n",
              "Training                          0.024069\n",
              "DistinctRepaymentPhoneNumbers     0.041455\n",
              "TreeKit                           0.048451\n",
              "PercentagePaid                    0.053602\n",
              "Active                            0.293957\n",
              "OperationalYear                   0.369027\n",
              "dtype: float64"
            ]
          },
          "execution_count": 54,
          "metadata": {},
          "output_type": "execute_result"
        }
      ],
      "source": [
        "feature_scores = pd.Series(clf.feature_importances_, index =X_train.columns).sort_values(ascending=True)\n",
        "feature_scores"
      ]
    },
    {
      "cell_type": "code",
      "execution_count": null,
      "metadata": {
        "id": "_Nj1h48sxGx5",
        "outputId": "6d932d48-ed53-4332-94ac-5d388ff34892"
      },
      "outputs": [
        {
          "data": {
            "text/plain": [
              "<AxesSubplot:>"
            ]
          },
          "execution_count": 58,
          "metadata": {},
          "output_type": "execute_result"
        },
        {
          "data": {
            "image/png": "[encoded data removed]",
            "text/plain": [
              "<Figure size 1080x1440 with 1 Axes>"
            ]
          },
          "metadata": {
            "needs_background": "light"
          },
          "output_type": "display_data"
        }
      ],
      "source": [
        "feature_scores.plot.barh(figsize = (15,20))"
      ]
    },
    {
      "cell_type": "code",
      "execution_count": null,
      "metadata": {
        "id": "5tOkpA57xGx5",
        "outputId": "8dac07fe-efac-4959-b5f7-a8f2b0353d8d"
      },
      "outputs": [
        {
          "data": {
            "text/plain": [
              "0.0     429560\n",
              "1.0     334816\n",
              "2.0     220146\n",
              "3.0     115951\n",
              "4.0      45098\n",
              "5.0      15364\n",
              "6.0       5113\n",
              "7.0       1728\n",
              "8.0        602\n",
              "9.0        228\n",
              "10.0        89\n",
              "11.0        33\n",
              "12.0        17\n",
              "13.0         7\n",
              "15.0         3\n",
              "14.0         2\n",
              "16.0         2\n",
              "20.0         1\n",
              "17.0         1\n",
              "18.0         1\n",
              "19.0         1\n",
              "Name: DistinctRepaymentPhoneNumbers, dtype: int64"
            ]
          },
          "execution_count": 62,
          "metadata": {},
          "output_type": "execute_result"
        }
      ],
      "source": [
        "oaf.DistinctRepaymentPhoneNumbers.value_counts()"
      ]
    },
    {
      "cell_type": "code",
      "execution_count": null,
      "metadata": {
        "id": "BkFwf9vVxGx6",
        "outputId": "e32ae676-925d-4623-e621-5b3ba27fe150"
      },
      "outputs": [
        {
          "name": "stdout",
          "output_type": "stream",
          "text": [
            "[ True False  True ...  True  True  True]\n"
          ]
        }
      ],
      "source": [
        "file = open('predictions.txt','w+')\n",
        "# saving the predictions into a text file\n",
        "content = str(y_preds)\n",
        "file.write(content)\n",
        "file.close()\n",
        "\n",
        "# diplaying the contents of the text file\n",
        "file = open('predictions.txt','r')\n",
        "content = file.read()\n",
        "print(content)"
      ]
    },
    {
      "cell_type": "code",
      "execution_count": null,
      "metadata": {
        "id": "1kj8dYp8xGx6"
      },
      "outputs": [],
      "source": [
        "# Save the model and load it\n",
        "import pickle\n",
        "pickle.dump(clf,open(\"oaf_random_forest_model.pkl\",\"wb\"))"
      ]
    }
  ],
  "metadata": {
    "kernelspec": {
      "display_name": "Python 3",
      "language": "python",
      "name": "python3"
    },
    "language_info": {
      "codemirror_mode": {
        "name": "ipython",
        "version": 3
      },
      "file_extension": ".py",
      "mimetype": "text/x-python",
      "name": "python",
      "nbconvert_exporter": "python",
      "pygments_lexer": "ipython3",
      "version": "3.8.5"
    },
    "colab": {
      "name": "Data Science Exercise.ipynb",
      "provenance": [],
      "include_colab_link": true
    }
  },
  "nbformat": 4,
  "nbformat_minor": 0
}